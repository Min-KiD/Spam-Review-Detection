{
 "cells": [
  {
   "cell_type": "code",
   "execution_count": 1,
   "id": "23890587",
   "metadata": {
    "_cell_guid": "b1076dfc-b9ad-4769-8c92-a6c4dae69d19",
    "_uuid": "8f2839f25d086af736a60e9eeb907d3b93b6e0e5",
    "execution": {
     "iopub.execute_input": "2024-05-12T09:54:37.096445Z",
     "iopub.status.busy": "2024-05-12T09:54:37.096173Z",
     "iopub.status.idle": "2024-05-12T09:54:56.403296Z",
     "shell.execute_reply": "2024-05-12T09:54:56.401999Z"
    },
    "papermill": {
     "duration": 19.316006,
     "end_time": "2024-05-12T09:54:56.405582",
     "exception": false,
     "start_time": "2024-05-12T09:54:37.089576",
     "status": "completed"
    },
    "tags": []
   },
   "outputs": [
    {
     "name": "stdout",
     "output_type": "stream",
     "text": [
      "Collecting contractions\r\n",
      "  Downloading contractions-0.1.73-py2.py3-none-any.whl.metadata (1.2 kB)\r\n",
      "Collecting textsearch>=0.0.21 (from contractions)\r\n",
      "  Downloading textsearch-0.0.24-py2.py3-none-any.whl.metadata (1.2 kB)\r\n",
      "Collecting anyascii (from textsearch>=0.0.21->contractions)\r\n",
      "  Downloading anyascii-0.3.2-py3-none-any.whl.metadata (1.5 kB)\r\n",
      "Collecting pyahocorasick (from textsearch>=0.0.21->contractions)\r\n",
      "  Downloading pyahocorasick-2.1.0-cp310-cp310-manylinux_2_5_x86_64.manylinux1_x86_64.manylinux_2_12_x86_64.manylinux2010_x86_64.whl.metadata (13 kB)\r\n",
      "Downloading contractions-0.1.73-py2.py3-none-any.whl (8.7 kB)\r\n",
      "Downloading textsearch-0.0.24-py2.py3-none-any.whl (7.6 kB)\r\n",
      "Downloading anyascii-0.3.2-py3-none-any.whl (289 kB)\r\n",
      "\u001b[2K   \u001b[90m━━━━━━━━━━━━━━━━━━━━━━━━━━━━━━━━━━━━━━━━\u001b[0m \u001b[32m289.9/289.9 kB\u001b[0m \u001b[31m14.3 MB/s\u001b[0m eta \u001b[36m0:00:00\u001b[0m\r\n",
      "\u001b[?25hDownloading pyahocorasick-2.1.0-cp310-cp310-manylinux_2_5_x86_64.manylinux1_x86_64.manylinux_2_12_x86_64.manylinux2010_x86_64.whl (110 kB)\r\n",
      "\u001b[2K   \u001b[90m━━━━━━━━━━━━━━━━━━━━━━━━━━━━━━━━━━━━━━━━\u001b[0m \u001b[32m110.7/110.7 kB\u001b[0m \u001b[31m10.6 MB/s\u001b[0m eta \u001b[36m0:00:00\u001b[0m\r\n",
      "\u001b[?25hInstalling collected packages: pyahocorasick, anyascii, textsearch, contractions\r\n",
      "Successfully installed anyascii-0.3.2 contractions-0.1.73 pyahocorasick-2.1.0 textsearch-0.0.24\r\n",
      "/kaggle/input/amazon-product-review-spam-and-non-spam/Home_and_Kitchen/Home_and_Kitchen.json\n",
      "/kaggle/input/amazon-product-review-spam-and-non-spam/part.json/part.json\n",
      "/kaggle/input/amazon-product-review-spam-and-non-spam/Electronics/Electronics.json\n",
      "/kaggle/input/amazon-product-review-spam-and-non-spam/separate.json/separate.json\n",
      "/kaggle/input/amazon-product-review-spam-and-non-spam/Clothing_Shoes_and_Jewelry/Clothing_Shoes_and_Jewelry.json\n",
      "/kaggle/input/amazon-product-review-spam-and-non-spam/Sports_and_Outdoors/Sports_and_Outdoors.json\n",
      "/kaggle/input/amazon-product-review-spam-and-non-spam/Cell_Phones_and_Accessories/Cell_Phones_and_Accessories.json\n",
      "/kaggle/input/amazon-product-review-spam-and-non-spam/Toys_and_Games/Toys_and_Games.json\n"
     ]
    }
   ],
   "source": [
    "import numpy as np # linear algebra\n",
    "import pandas as pd # data processing, CSV file I/O (e.g. pd.read_csv)\n",
    "import random\n",
    "import time\n",
    "\n",
    "import torch\n",
    "import torch.nn as nn\n",
    "import torch.optim as optim\n",
    "from torch.utils.data import DataLoader, Dataset\n",
    "\n",
    "from sklearn.model_selection import train_test_split\n",
    "from sklearn.preprocessing import LabelEncoder\n",
    "from sklearn.metrics import accuracy_score, roc_auc_score, classification_report\n",
    "# from sklearn.feature_extraction.text import CountVectorizer, TfidfVectorizer\n",
    "from sklearn.metrics import precision_recall_curve, auc, accuracy_score, confusion_matrix\n",
    "\n",
    "import matplotlib.pyplot as plt\n",
    "import seaborn as sns # plotting problem\n",
    "\n",
    "!pip install contractions\n",
    "import contractions # expanding contractions in text can't -> cannot\n",
    "\n",
    "import os\n",
    "for dirname, _, filenames in os.walk('/kaggle/input'):\n",
    "    for filename in filenames:\n",
    "        print(os.path.join(dirname, filename))"
   ]
  },
  {
   "cell_type": "code",
   "execution_count": 2,
   "id": "c31ea53f",
   "metadata": {
    "execution": {
     "iopub.execute_input": "2024-05-12T09:54:56.421277Z",
     "iopub.status.busy": "2024-05-12T09:54:56.420723Z",
     "iopub.status.idle": "2024-05-12T09:55:16.308099Z",
     "shell.execute_reply": "2024-05-12T09:55:16.307050Z"
    },
    "papermill": {
     "duration": 19.897881,
     "end_time": "2024-05-12T09:55:16.310602",
     "exception": false,
     "start_time": "2024-05-12T09:54:56.412721",
     "status": "completed"
    },
    "tags": []
   },
   "outputs": [
    {
     "name": "stdout",
     "output_type": "stream",
     "text": [
      "Collecting en-core-web-md==3.7.1\r\n",
      "  Downloading https://github.com/explosion/spacy-models/releases/download/en_core_web_md-3.7.1/en_core_web_md-3.7.1-py3-none-any.whl (42.8 MB)\r\n",
      "\u001b[2K     \u001b[90m━━━━━━━━━━━━━━━━━━━━━━━━━━━━━━━━━━━━━━━━\u001b[0m \u001b[32m42.8/42.8 MB\u001b[0m \u001b[31m32.7 MB/s\u001b[0m eta \u001b[36m0:00:00\u001b[0m\r\n",
      "\u001b[?25hRequirement already satisfied: spacy<3.8.0,>=3.7.2 in /opt/conda/lib/python3.10/site-packages (from en-core-web-md==3.7.1) (3.7.3)\r\n",
      "Requirement already satisfied: spacy-legacy<3.1.0,>=3.0.11 in /opt/conda/lib/python3.10/site-packages (from spacy<3.8.0,>=3.7.2->en-core-web-md==3.7.1) (3.0.12)\r\n",
      "Requirement already satisfied: spacy-loggers<2.0.0,>=1.0.0 in /opt/conda/lib/python3.10/site-packages (from spacy<3.8.0,>=3.7.2->en-core-web-md==3.7.1) (1.0.5)\r\n",
      "Requirement already satisfied: murmurhash<1.1.0,>=0.28.0 in /opt/conda/lib/python3.10/site-packages (from spacy<3.8.0,>=3.7.2->en-core-web-md==3.7.1) (1.0.10)\r\n",
      "Requirement already satisfied: cymem<2.1.0,>=2.0.2 in /opt/conda/lib/python3.10/site-packages (from spacy<3.8.0,>=3.7.2->en-core-web-md==3.7.1) (2.0.8)\r\n",
      "Requirement already satisfied: preshed<3.1.0,>=3.0.2 in /opt/conda/lib/python3.10/site-packages (from spacy<3.8.0,>=3.7.2->en-core-web-md==3.7.1) (3.0.9)\r\n",
      "Requirement already satisfied: thinc<8.3.0,>=8.2.2 in /opt/conda/lib/python3.10/site-packages (from spacy<3.8.0,>=3.7.2->en-core-web-md==3.7.1) (8.2.2)\r\n",
      "Requirement already satisfied: wasabi<1.2.0,>=0.9.1 in /opt/conda/lib/python3.10/site-packages (from spacy<3.8.0,>=3.7.2->en-core-web-md==3.7.1) (1.1.2)\r\n",
      "Requirement already satisfied: srsly<3.0.0,>=2.4.3 in /opt/conda/lib/python3.10/site-packages (from spacy<3.8.0,>=3.7.2->en-core-web-md==3.7.1) (2.4.8)\r\n",
      "Requirement already satisfied: catalogue<2.1.0,>=2.0.6 in /opt/conda/lib/python3.10/site-packages (from spacy<3.8.0,>=3.7.2->en-core-web-md==3.7.1) (2.0.10)\r\n",
      "Requirement already satisfied: weasel<0.4.0,>=0.1.0 in /opt/conda/lib/python3.10/site-packages (from spacy<3.8.0,>=3.7.2->en-core-web-md==3.7.1) (0.3.4)\r\n",
      "Requirement already satisfied: typer<0.10.0,>=0.3.0 in /opt/conda/lib/python3.10/site-packages (from spacy<3.8.0,>=3.7.2->en-core-web-md==3.7.1) (0.9.0)\r\n",
      "Requirement already satisfied: smart-open<7.0.0,>=5.2.1 in /opt/conda/lib/python3.10/site-packages (from spacy<3.8.0,>=3.7.2->en-core-web-md==3.7.1) (6.4.0)\r\n",
      "Requirement already satisfied: tqdm<5.0.0,>=4.38.0 in /opt/conda/lib/python3.10/site-packages (from spacy<3.8.0,>=3.7.2->en-core-web-md==3.7.1) (4.66.1)\r\n",
      "Requirement already satisfied: requests<3.0.0,>=2.13.0 in /opt/conda/lib/python3.10/site-packages (from spacy<3.8.0,>=3.7.2->en-core-web-md==3.7.1) (2.31.0)\r\n",
      "Requirement already satisfied: pydantic!=1.8,!=1.8.1,<3.0.0,>=1.7.4 in /opt/conda/lib/python3.10/site-packages (from spacy<3.8.0,>=3.7.2->en-core-web-md==3.7.1) (2.5.3)\r\n",
      "Requirement already satisfied: jinja2 in /opt/conda/lib/python3.10/site-packages (from spacy<3.8.0,>=3.7.2->en-core-web-md==3.7.1) (3.1.2)\r\n",
      "Requirement already satisfied: setuptools in /opt/conda/lib/python3.10/site-packages (from spacy<3.8.0,>=3.7.2->en-core-web-md==3.7.1) (69.0.3)\r\n",
      "Requirement already satisfied: packaging>=20.0 in /opt/conda/lib/python3.10/site-packages (from spacy<3.8.0,>=3.7.2->en-core-web-md==3.7.1) (21.3)\r\n",
      "Requirement already satisfied: langcodes<4.0.0,>=3.2.0 in /opt/conda/lib/python3.10/site-packages (from spacy<3.8.0,>=3.7.2->en-core-web-md==3.7.1) (3.3.0)\r\n",
      "Requirement already satisfied: numpy>=1.19.0 in /opt/conda/lib/python3.10/site-packages (from spacy<3.8.0,>=3.7.2->en-core-web-md==3.7.1) (1.26.4)\r\n",
      "Requirement already satisfied: pyparsing!=3.0.5,>=2.0.2 in /opt/conda/lib/python3.10/site-packages (from packaging>=20.0->spacy<3.8.0,>=3.7.2->en-core-web-md==3.7.1) (3.1.1)\r\n",
      "Requirement already satisfied: annotated-types>=0.4.0 in /opt/conda/lib/python3.10/site-packages (from pydantic!=1.8,!=1.8.1,<3.0.0,>=1.7.4->spacy<3.8.0,>=3.7.2->en-core-web-md==3.7.1) (0.6.0)\r\n",
      "Requirement already satisfied: pydantic-core==2.14.6 in /opt/conda/lib/python3.10/site-packages (from pydantic!=1.8,!=1.8.1,<3.0.0,>=1.7.4->spacy<3.8.0,>=3.7.2->en-core-web-md==3.7.1) (2.14.6)\r\n",
      "Requirement already satisfied: typing-extensions>=4.6.1 in /opt/conda/lib/python3.10/site-packages (from pydantic!=1.8,!=1.8.1,<3.0.0,>=1.7.4->spacy<3.8.0,>=3.7.2->en-core-web-md==3.7.1) (4.9.0)\r\n",
      "Requirement already satisfied: charset-normalizer<4,>=2 in /opt/conda/lib/python3.10/site-packages (from requests<3.0.0,>=2.13.0->spacy<3.8.0,>=3.7.2->en-core-web-md==3.7.1) (3.3.2)\r\n",
      "Requirement already satisfied: idna<4,>=2.5 in /opt/conda/lib/python3.10/site-packages (from requests<3.0.0,>=2.13.0->spacy<3.8.0,>=3.7.2->en-core-web-md==3.7.1) (3.6)\r\n",
      "Requirement already satisfied: urllib3<3,>=1.21.1 in /opt/conda/lib/python3.10/site-packages (from requests<3.0.0,>=2.13.0->spacy<3.8.0,>=3.7.2->en-core-web-md==3.7.1) (1.26.18)\r\n",
      "Requirement already satisfied: certifi>=2017.4.17 in /opt/conda/lib/python3.10/site-packages (from requests<3.0.0,>=2.13.0->spacy<3.8.0,>=3.7.2->en-core-web-md==3.7.1) (2024.2.2)\r\n",
      "Requirement already satisfied: blis<0.8.0,>=0.7.8 in /opt/conda/lib/python3.10/site-packages (from thinc<8.3.0,>=8.2.2->spacy<3.8.0,>=3.7.2->en-core-web-md==3.7.1) (0.7.10)\r\n",
      "Requirement already satisfied: confection<1.0.0,>=0.0.1 in /opt/conda/lib/python3.10/site-packages (from thinc<8.3.0,>=8.2.2->spacy<3.8.0,>=3.7.2->en-core-web-md==3.7.1) (0.1.4)\r\n",
      "Requirement already satisfied: click<9.0.0,>=7.1.1 in /opt/conda/lib/python3.10/site-packages (from typer<0.10.0,>=0.3.0->spacy<3.8.0,>=3.7.2->en-core-web-md==3.7.1) (8.1.7)\r\n",
      "Requirement already satisfied: cloudpathlib<0.17.0,>=0.7.0 in /opt/conda/lib/python3.10/site-packages (from weasel<0.4.0,>=0.1.0->spacy<3.8.0,>=3.7.2->en-core-web-md==3.7.1) (0.16.0)\r\n",
      "Requirement already satisfied: MarkupSafe>=2.0 in /opt/conda/lib/python3.10/site-packages (from jinja2->spacy<3.8.0,>=3.7.2->en-core-web-md==3.7.1) (2.1.3)\r\n",
      "Installing collected packages: en-core-web-md\r\n",
      "Successfully installed en-core-web-md-3.7.1\r\n",
      "\u001b[38;5;2m✔ Download and installation successful\u001b[0m\r\n",
      "You can now load the package via spacy.load('en_core_web_md')\r\n"
     ]
    }
   ],
   "source": [
    "!python -m spacy download en_core_web_md"
   ]
  },
  {
   "cell_type": "code",
   "execution_count": 3,
   "id": "8082f784",
   "metadata": {
    "execution": {
     "iopub.execute_input": "2024-05-12T09:55:16.329332Z",
     "iopub.status.busy": "2024-05-12T09:55:16.328994Z",
     "iopub.status.idle": "2024-05-12T09:55:16.337333Z",
     "shell.execute_reply": "2024-05-12T09:55:16.336666Z"
    },
    "papermill": {
     "duration": 0.019906,
     "end_time": "2024-05-12T09:55:16.339229",
     "exception": false,
     "start_time": "2024-05-12T09:55:16.319323",
     "status": "completed"
    },
    "tags": []
   },
   "outputs": [],
   "source": [
    "torch.backends.cudnn.deterministic = True\n",
    "random.seed(21)\n",
    "np.random.seed(21)\n",
    "torch.manual_seed(21)\n",
    "torch.cuda.manual_seed_all(21)"
   ]
  },
  {
   "cell_type": "code",
   "execution_count": 4,
   "id": "824b3953",
   "metadata": {
    "execution": {
     "iopub.execute_input": "2024-05-12T09:55:16.356918Z",
     "iopub.status.busy": "2024-05-12T09:55:16.356631Z",
     "iopub.status.idle": "2024-05-12T09:55:18.893465Z",
     "shell.execute_reply": "2024-05-12T09:55:18.892579Z"
    },
    "papermill": {
     "duration": 2.548199,
     "end_time": "2024-05-12T09:55:18.895811",
     "exception": false,
     "start_time": "2024-05-12T09:55:16.347612",
     "status": "completed"
    },
    "tags": []
   },
   "outputs": [
    {
     "name": "stderr",
     "output_type": "stream",
     "text": [
      "\u001b[34m\u001b[1mwandb\u001b[0m: W&B API key is configured. Use \u001b[1m`wandb login --relogin`\u001b[0m to force relogin\n",
      "\u001b[34m\u001b[1mwandb\u001b[0m: \u001b[33mWARNING\u001b[0m If you're specifying your api key in code, ensure this code is not shared publicly.\n",
      "\u001b[34m\u001b[1mwandb\u001b[0m: \u001b[33mWARNING\u001b[0m Consider setting the WANDB_API_KEY environment variable, or running `wandb login` from the command line.\n",
      "\u001b[34m\u001b[1mwandb\u001b[0m: Appending key for api.wandb.ai to your netrc file: /root/.netrc\n"
     ]
    }
   ],
   "source": [
    "import wandb\n",
    "wandb.login(key = '02c8923278a3dc82932fafb9959cd6d7587dacc7')\n",
    "device = torch.device('cuda' if torch.cuda.is_available() else 'cpu')"
   ]
  },
  {
   "cell_type": "code",
   "execution_count": 5,
   "id": "226410c7",
   "metadata": {
    "execution": {
     "iopub.execute_input": "2024-05-12T09:55:18.914586Z",
     "iopub.status.busy": "2024-05-12T09:55:18.913724Z",
     "iopub.status.idle": "2024-05-12T09:56:17.277740Z",
     "shell.execute_reply": "2024-05-12T09:56:17.276862Z"
    },
    "papermill": {
     "duration": 58.376025,
     "end_time": "2024-05-12T09:56:17.280403",
     "exception": false,
     "start_time": "2024-05-12T09:55:18.904378",
     "status": "completed"
    },
    "tags": []
   },
   "outputs": [],
   "source": [
    "df = pd.read_json('/kaggle/input/amazon-product-review-spam-and-non-spam/Toys_and_Games/Toys_and_Games.json', lines=True).head(100000)\n",
    "df = df.loc[:, ['reviewText', 'class']]"
   ]
  },
  {
   "cell_type": "code",
   "execution_count": 6,
   "id": "385b73ed",
   "metadata": {
    "execution": {
     "iopub.execute_input": "2024-05-12T09:56:17.298629Z",
     "iopub.status.busy": "2024-05-12T09:56:17.298313Z",
     "iopub.status.idle": "2024-05-12T09:56:22.007468Z",
     "shell.execute_reply": "2024-05-12T09:56:22.006455Z"
    },
    "papermill": {
     "duration": 4.720834,
     "end_time": "2024-05-12T09:56:22.010062",
     "exception": false,
     "start_time": "2024-05-12T09:56:17.289228",
     "status": "completed"
    },
    "tags": []
   },
   "outputs": [
    {
     "data": {
      "text/html": [
       "<div>\n",
       "<style scoped>\n",
       "    .dataframe tbody tr th:only-of-type {\n",
       "        vertical-align: middle;\n",
       "    }\n",
       "\n",
       "    .dataframe tbody tr th {\n",
       "        vertical-align: top;\n",
       "    }\n",
       "\n",
       "    .dataframe thead th {\n",
       "        text-align: right;\n",
       "    }\n",
       "</style>\n",
       "<table border=\"1\" class=\"dataframe\">\n",
       "  <thead>\n",
       "    <tr style=\"text-align: right;\">\n",
       "      <th></th>\n",
       "      <th>reviewText</th>\n",
       "      <th>class</th>\n",
       "    </tr>\n",
       "  </thead>\n",
       "  <tbody>\n",
       "    <tr>\n",
       "      <th>0</th>\n",
       "      <td>i love these felt nursery rhyme characters and...</td>\n",
       "      <td>1</td>\n",
       "    </tr>\n",
       "    <tr>\n",
       "      <th>1</th>\n",
       "      <td>i see no directions for its use. therefore i h...</td>\n",
       "      <td>0</td>\n",
       "    </tr>\n",
       "    <tr>\n",
       "      <th>2</th>\n",
       "      <td>this is a great tool for any teacher using the...</td>\n",
       "      <td>1</td>\n",
       "    </tr>\n",
       "    <tr>\n",
       "      <th>3</th>\n",
       "      <td>great product, thank you! our son loved the pu...</td>\n",
       "      <td>1</td>\n",
       "    </tr>\n",
       "    <tr>\n",
       "      <th>4</th>\n",
       "      <td>although not as streamlined as the algebra i m...</td>\n",
       "      <td>1</td>\n",
       "    </tr>\n",
       "    <tr>\n",
       "      <th>...</th>\n",
       "      <td>...</td>\n",
       "      <td>...</td>\n",
       "    </tr>\n",
       "    <tr>\n",
       "      <th>99995</th>\n",
       "      <td>received this product in a timely fashion. i m...</td>\n",
       "      <td>0</td>\n",
       "    </tr>\n",
       "    <tr>\n",
       "      <th>99996</th>\n",
       "      <td>mcfarlane sports series are fantastic and life...</td>\n",
       "      <td>1</td>\n",
       "    </tr>\n",
       "    <tr>\n",
       "      <th>99997</th>\n",
       "      <td>fortune is a good figure. she has a very attra...</td>\n",
       "      <td>1</td>\n",
       "    </tr>\n",
       "    <tr>\n",
       "      <th>99998</th>\n",
       "      <td>i just thought that i would jot a few words to...</td>\n",
       "      <td>0</td>\n",
       "    </tr>\n",
       "    <tr>\n",
       "      <th>99999</th>\n",
       "      <td>although the blair witch, herself did not appe...</td>\n",
       "      <td>0</td>\n",
       "    </tr>\n",
       "  </tbody>\n",
       "</table>\n",
       "<p>100000 rows × 2 columns</p>\n",
       "</div>"
      ],
      "text/plain": [
       "                                              reviewText  class\n",
       "0      i love these felt nursery rhyme characters and...      1\n",
       "1      i see no directions for its use. therefore i h...      0\n",
       "2      this is a great tool for any teacher using the...      1\n",
       "3      great product, thank you! our son loved the pu...      1\n",
       "4      although not as streamlined as the algebra i m...      1\n",
       "...                                                  ...    ...\n",
       "99995  received this product in a timely fashion. i m...      0\n",
       "99996  mcfarlane sports series are fantastic and life...      1\n",
       "99997  fortune is a good figure. she has a very attra...      1\n",
       "99998  i just thought that i would jot a few words to...      0\n",
       "99999  although the blair witch, herself did not appe...      0\n",
       "\n",
       "[100000 rows x 2 columns]"
      ]
     },
     "execution_count": 6,
     "metadata": {},
     "output_type": "execute_result"
    }
   ],
   "source": [
    "df['reviewText'] = df['reviewText'].apply(lambda x: contractions.fix(x))\n",
    "df.loc[:, 'reviewText'] = df['reviewText'].str.lower()\n",
    "\n",
    "# \\W represents Special characters like \"$\" and \"!!!\"\n",
    "df.loc[:, 'reviewText'] = df['reviewText'].str.replace('\\W', ' ')\n",
    "\n",
    "# \\d represents Numeric digits like \"19.99\"\n",
    "df.loc[:, 'reviewText'] = df['reviewText'].str.replace('\\d', ' ')\n",
    "\n",
    "df"
   ]
  },
  {
   "cell_type": "code",
   "execution_count": 7,
   "id": "50243971",
   "metadata": {
    "execution": {
     "iopub.execute_input": "2024-05-12T09:56:22.030203Z",
     "iopub.status.busy": "2024-05-12T09:56:22.029916Z",
     "iopub.status.idle": "2024-05-12T09:56:22.034620Z",
     "shell.execute_reply": "2024-05-12T09:56:22.033735Z"
    },
    "papermill": {
     "duration": 0.016941,
     "end_time": "2024-05-12T09:56:22.036801",
     "exception": false,
     "start_time": "2024-05-12T09:56:22.019860",
     "status": "completed"
    },
    "tags": []
   },
   "outputs": [],
   "source": [
    "def pr_auc_score(y_test, y_pred):\n",
    "    precision, recall, _ = precision_recall_curve(y_test, y_pred)\n",
    "    pr_auc = auc(recall, precision)\n",
    "    return pr_auc"
   ]
  },
  {
   "cell_type": "code",
   "execution_count": 8,
   "id": "bf43599f",
   "metadata": {
    "execution": {
     "iopub.execute_input": "2024-05-12T09:56:22.055176Z",
     "iopub.status.busy": "2024-05-12T09:56:22.054904Z",
     "iopub.status.idle": "2024-05-12T09:56:22.069470Z",
     "shell.execute_reply": "2024-05-12T09:56:22.068563Z"
    },
    "papermill": {
     "duration": 0.026528,
     "end_time": "2024-05-12T09:56:22.071877",
     "exception": false,
     "start_time": "2024-05-12T09:56:22.045349",
     "status": "completed"
    },
    "tags": []
   },
   "outputs": [],
   "source": [
    "y = df['class']\n",
    "X_train, X_test, y_train, y_test = train_test_split(df['reviewText'], y, test_size=0.33, random_state=21)"
   ]
  },
  {
   "cell_type": "code",
   "execution_count": 9,
   "id": "24af6768",
   "metadata": {
    "execution": {
     "iopub.execute_input": "2024-05-12T09:56:22.092262Z",
     "iopub.status.busy": "2024-05-12T09:56:22.091992Z",
     "iopub.status.idle": "2024-05-12T09:56:22.100553Z",
     "shell.execute_reply": "2024-05-12T09:56:22.099752Z"
    },
    "papermill": {
     "duration": 0.020483,
     "end_time": "2024-05-12T09:56:22.102550",
     "exception": false,
     "start_time": "2024-05-12T09:56:22.082067",
     "status": "completed"
    },
    "tags": []
   },
   "outputs": [],
   "source": [
    "X_train = X_train.reset_index(drop=True)\n",
    "X_test = X_test.reset_index(drop=True)\n",
    "y_train = y_train.reset_index(drop=True)\n",
    "y_test = y_test.reset_index(drop=True)"
   ]
  },
  {
   "cell_type": "code",
   "execution_count": 10,
   "id": "038cf628",
   "metadata": {
    "execution": {
     "iopub.execute_input": "2024-05-12T09:56:22.121502Z",
     "iopub.status.busy": "2024-05-12T09:56:22.121215Z",
     "iopub.status.idle": "2024-05-12T09:56:22.125946Z",
     "shell.execute_reply": "2024-05-12T09:56:22.125007Z"
    },
    "papermill": {
     "duration": 0.016706,
     "end_time": "2024-05-12T09:56:22.128007",
     "exception": false,
     "start_time": "2024-05-12T09:56:22.111301",
     "status": "completed"
    },
    "tags": []
   },
   "outputs": [],
   "source": [
    "# class LSTMClassifierSpaCy(nn.Module):\n",
    "#     def __init__(self, input_dim, hidden_dim, output_dim, n_layers, bidirectional, dropout):\n",
    "#         super(LSTMClassifierSpaCy, self).__init__()\n",
    "\n",
    "#         self.lstm = nn.LSTM(input_dim, hidden_dim, num_layers=n_layers, bidirectional=bidirectional, batch_first=True, dropout=dropout)\n",
    "#         self.fc = nn.Linear(hidden_dim * 2 if bidirectional else hidden_dim, output_dim)\n",
    "#         self.dropout = nn.Dropout(dropout)\n",
    "\n",
    "#     def forward(self, input_ids):\n",
    "#         _, (hidden, _) = self.lstm(input_ids)\n",
    "\n",
    "#         if self.lstm.bidirectional:\n",
    "#             hidden = torch.cat((hidden[-2, :, :], hidden[-1, :, :]), dim=1)\n",
    "#         else:\n",
    "#             hidden = hidden[-1, :, :]\n",
    "\n",
    "#         hidden = self.dropout(hidden)\n",
    "#         return self.fc(hidden)"
   ]
  },
  {
   "cell_type": "code",
   "execution_count": 11,
   "id": "a40b169e",
   "metadata": {
    "execution": {
     "iopub.execute_input": "2024-05-12T09:56:22.148631Z",
     "iopub.status.busy": "2024-05-12T09:56:22.148329Z",
     "iopub.status.idle": "2024-05-12T09:56:22.156355Z",
     "shell.execute_reply": "2024-05-12T09:56:22.155520Z"
    },
    "papermill": {
     "duration": 0.020936,
     "end_time": "2024-05-12T09:56:22.158161",
     "exception": false,
     "start_time": "2024-05-12T09:56:22.137225",
     "status": "completed"
    },
    "tags": []
   },
   "outputs": [],
   "source": [
    "class GRUClassifierSpaCy(nn.Module):\n",
    "    def __init__(self, input_dim, hidden_dim, output_dim, n_layers, bidirectional, dropout):\n",
    "        super(GRUClassifierSpaCy, self).__init__()\n",
    "        self.gru = nn.GRU(input_dim, hidden_dim, num_layers=n_layers, bidirectional=bidirectional, batch_first=True, dropout=dropout if n_layers > 1 else 0)\n",
    "        self.fc = nn.Linear(hidden_dim * 2 if bidirectional else hidden_dim, output_dim)\n",
    "        self.dropout = nn.Dropout(dropout)\n",
    "\n",
    "    def forward(self, input_ids):\n",
    "        _, hidden = self.gru(input_ids)\n",
    "\n",
    "        if self.gru.bidirectional:\n",
    "            hidden = torch.cat((hidden[-2,:,:], hidden[-1,:,:]), dim=1)\n",
    "        else:\n",
    "            hidden = hidden[-1,:,:]\n",
    "\n",
    "        hidden = self.dropout(hidden)\n",
    "        return self.fc(hidden)"
   ]
  },
  {
   "cell_type": "code",
   "execution_count": 12,
   "id": "077732be",
   "metadata": {
    "execution": {
     "iopub.execute_input": "2024-05-12T09:56:22.176976Z",
     "iopub.status.busy": "2024-05-12T09:56:22.176699Z",
     "iopub.status.idle": "2024-05-12T09:56:22.182880Z",
     "shell.execute_reply": "2024-05-12T09:56:22.182024Z"
    },
    "papermill": {
     "duration": 0.017687,
     "end_time": "2024-05-12T09:56:22.184783",
     "exception": false,
     "start_time": "2024-05-12T09:56:22.167096",
     "status": "completed"
    },
    "tags": []
   },
   "outputs": [],
   "source": [
    "# Training loop\n",
    "def train_model(model, data_loader, optimizer, criterion, device, epoch):\n",
    "    model.train()\n",
    "    for batch in data_loader:\n",
    "        input_ids = batch['input_ids'].to(device)\n",
    "        #attention_mask = batch['attention_mask'].to(device)\n",
    "        labels = batch['label'].to(device)\n",
    "\n",
    "        optimizer.zero_grad()\n",
    "        outputs = model(input_ids=input_ids)\n",
    "        loss = criterion(outputs, labels)\n",
    "        loss.backward()\n",
    "        optimizer.step()\n",
    "    print(f'Epoch [{epoch+1}], Loss: {loss.item():.4f}')\n",
    "    wandb.log({\"epoch\": epoch,\"loss\": loss})"
   ]
  },
  {
   "cell_type": "code",
   "execution_count": 13,
   "id": "9b3618da",
   "metadata": {
    "execution": {
     "iopub.execute_input": "2024-05-12T09:56:22.203411Z",
     "iopub.status.busy": "2024-05-12T09:56:22.203140Z",
     "iopub.status.idle": "2024-05-12T09:56:22.209755Z",
     "shell.execute_reply": "2024-05-12T09:56:22.208872Z"
    },
    "papermill": {
     "duration": 0.018049,
     "end_time": "2024-05-12T09:56:22.211682",
     "exception": false,
     "start_time": "2024-05-12T09:56:22.193633",
     "status": "completed"
    },
    "tags": []
   },
   "outputs": [],
   "source": [
    "# Evaluation loop\n",
    "def eval_model(model, data_loader, device):\n",
    "    model.eval()\n",
    "    predictions = []\n",
    "    labels = []\n",
    "\n",
    "    with torch.no_grad():\n",
    "        for batch in data_loader:\n",
    "            input_ids = batch['input_ids'].to(device)\n",
    "            #attention_mask = batch['attention_mask'].to(device)\n",
    "            label = batch['label'].to(device)\n",
    "\n",
    "            outputs = model(input_ids=input_ids)\n",
    "            _, pred = torch.max(outputs, dim=1)\n",
    "\n",
    "            predictions.extend(pred.cpu().numpy())\n",
    "            labels.extend(label.cpu().numpy())\n",
    "\n",
    "    return accuracy_score(labels, predictions), pr_auc_score(labels, predictions), classification_report(labels, predictions)"
   ]
  },
  {
   "cell_type": "code",
   "execution_count": 14,
   "id": "90a90983",
   "metadata": {
    "execution": {
     "iopub.execute_input": "2024-05-12T09:56:22.230173Z",
     "iopub.status.busy": "2024-05-12T09:56:22.229684Z",
     "iopub.status.idle": "2024-05-12T09:56:22.236368Z",
     "shell.execute_reply": "2024-05-12T09:56:22.235567Z"
    },
    "papermill": {
     "duration": 0.018201,
     "end_time": "2024-05-12T09:56:22.238383",
     "exception": false,
     "start_time": "2024-05-12T09:56:22.220182",
     "status": "completed"
    },
    "tags": []
   },
   "outputs": [],
   "source": [
    "def train_eval(model, train_data_loader, test_data_loader, criterion, optimizer, EPOCHS, device):\n",
    "    wandb.watch(model, criterion, log=\"all\", log_freq=10)\n",
    "\n",
    "    start_time = time.time()\n",
    "    # Train and evaluate the model\n",
    "    EPOCHS = EPOCHS\n",
    "\n",
    "    for epoch in range(EPOCHS):\n",
    "        train_model(model, train_data_loader, optimizer, criterion, device, epoch)\n",
    "\n",
    "    accuracy, pr_auc, report = eval_model(model, test_data_loader, device)\n",
    "\n",
    "    wandb.log({\"test_accuracy\": accuracy})\n",
    "    wandb.log({\"test_pr_auc\": pr_auc})\n",
    "\n",
    "    print(f\"Accuracy: {accuracy:.4f}\")\n",
    "    print(f\"PR_AUC: {pr_auc:.4f}\")\n",
    "    print(f\"Classification Report:\\n{report}\")\n",
    "\n",
    "    elapsed_time = time.time() - start_time\n",
    "    wandb.log({\"run_time_sec\": elapsed_time})\n",
    "    wandb.finish()"
   ]
  },
  {
   "cell_type": "code",
   "execution_count": 15,
   "id": "65437f8e",
   "metadata": {
    "execution": {
     "iopub.execute_input": "2024-05-12T09:56:22.256464Z",
     "iopub.status.busy": "2024-05-12T09:56:22.256204Z",
     "iopub.status.idle": "2024-05-12T09:56:26.014374Z",
     "shell.execute_reply": "2024-05-12T09:56:26.013181Z"
    },
    "papermill": {
     "duration": 3.769394,
     "end_time": "2024-05-12T09:56:26.016522",
     "exception": false,
     "start_time": "2024-05-12T09:56:22.247128",
     "status": "completed"
    },
    "tags": []
   },
   "outputs": [
    {
     "name": "stdout",
     "output_type": "stream",
     "text": [
      "Word Embedding by Spacy ready time: 2.3102\n"
     ]
    }
   ],
   "source": [
    "import spacy\n",
    "import torch\n",
    "import torch.nn as nn\n",
    "from torch.utils.data import Dataset, DataLoader\n",
    "\n",
    "s_time = time.time()\n",
    "# Load SpaCy English model\n",
    "nlp = spacy.load('en_core_web_md')  # You may have to download this model\n",
    "\n",
    "# Example: SpaCy embeddings extraction function\n",
    "def spacy_embedding(text):\n",
    "    doc = nlp(text)\n",
    "    return [token.vector for token in doc]\n",
    "\n",
    "# Dataset class using SpaCy embeddings\n",
    "class SpacyTextDataset(Dataset):\n",
    "    def __init__(self, texts, labels, max_length=128):\n",
    "        self.texts = texts\n",
    "        self.labels = labels\n",
    "        self.max_length = max_length\n",
    "\n",
    "    def __len__(self):\n",
    "        return len(self.texts)\n",
    "\n",
    "    def __getitem__(self, idx):\n",
    "        text = self.texts[idx]\n",
    "        label = int(self.labels[idx])\n",
    "\n",
    "        # Retrieve embeddings\n",
    "        embedding = spacy_embedding(text)\n",
    "        embedding = embedding[:self.max_length]  # Trim to max_length if too long\n",
    "        padding = [[0] * 300] * (self.max_length - len(embedding))\n",
    "        embedding = torch.tensor(embedding + padding, dtype=torch.float)\n",
    "\n",
    "        return {\n",
    "            'input_ids': embedding,\n",
    "            'label': torch.tensor(label, dtype=torch.long)\n",
    "        }\n",
    "\n",
    "# Create data loader using SpaCy embedding dataset\n",
    "def create_spacy_data_loader(X, y, max_length, batch_size):\n",
    "    dataset = SpacyTextDataset(X, y, max_length)\n",
    "    return DataLoader(dataset, batch_size=batch_size, shuffle=True)\n",
    "\n",
    "# Example usage:\n",
    "MAX_LENGTH = 128\n",
    "BATCH_SIZE = 64\n",
    "train_data_loader = create_spacy_data_loader(X_train, y_train, MAX_LENGTH, BATCH_SIZE)\n",
    "test_data_loader = create_spacy_data_loader(X_test, y_test, MAX_LENGTH, BATCH_SIZE)\n",
    "e_time = time.time() - s_time\n",
    "print(f\"Word Embedding by Spacy ready time: {e_time:.4f}\")\n",
    "\n",
    "# wandb.init(project='RNN Spam Detection', name='LSTM Spacy WEmbedding')\n",
    "\n",
    "# model = LSTMClassifierSpaCy(input_dim=300, hidden_dim=256, output_dim=2, n_layers=2, bidirectional=True, dropout=0.3)\n",
    "# model = torch.nn.DataParallel(model)\n",
    "# model = model.to(device)\n",
    "\n",
    "# # Set the optimizer and loss function\n",
    "# optimizer = optim.Adam(model.parameters(), lr=1e-4)\n",
    "# criterion = nn.CrossEntropyLoss().to(device)\n",
    "\n",
    "# EPOCHS = 10\n",
    "# train_eval(model, train_data_loader, test_data_loader, criterion, optimizer, EPOCHS, device)"
   ]
  },
  {
   "cell_type": "code",
   "execution_count": 16,
   "id": "5b515884",
   "metadata": {
    "execution": {
     "iopub.execute_input": "2024-05-12T09:56:26.034979Z",
     "iopub.status.busy": "2024-05-12T09:56:26.034452Z",
     "iopub.status.idle": "2024-05-12T15:31:35.363759Z",
     "shell.execute_reply": "2024-05-12T15:31:35.363022Z"
    },
    "papermill": {
     "duration": 20109.340643,
     "end_time": "2024-05-12T15:31:35.365829",
     "exception": false,
     "start_time": "2024-05-12T09:56:26.025186",
     "status": "completed"
    },
    "tags": []
   },
   "outputs": [
    {
     "name": "stderr",
     "output_type": "stream",
     "text": [
      "\u001b[34m\u001b[1mwandb\u001b[0m: Currently logged in as: \u001b[33mmint21\u001b[0m. Use \u001b[1m`wandb login --relogin`\u001b[0m to force relogin\n",
      "\u001b[34m\u001b[1mwandb\u001b[0m: wandb version 0.17.0 is available!  To upgrade, please run:\n",
      "\u001b[34m\u001b[1mwandb\u001b[0m:  $ pip install wandb --upgrade\n",
      "\u001b[34m\u001b[1mwandb\u001b[0m: Tracking run with wandb version 0.16.6\n",
      "\u001b[34m\u001b[1mwandb\u001b[0m: Run data is saved locally in \u001b[35m\u001b[1m/kaggle/working/wandb/run-20240512_095626-hs5kloy5\u001b[0m\n",
      "\u001b[34m\u001b[1mwandb\u001b[0m: Run \u001b[1m`wandb offline`\u001b[0m to turn off syncing.\n",
      "\u001b[34m\u001b[1mwandb\u001b[0m: Syncing run \u001b[33mGRU Spacy WEmbedding\u001b[0m\n",
      "\u001b[34m\u001b[1mwandb\u001b[0m: ⭐️ View project at \u001b[34m\u001b[4mhttps://wandb.ai/mint21/RNN%20Spam%20Detection\u001b[0m\n",
      "\u001b[34m\u001b[1mwandb\u001b[0m: 🚀 View run at \u001b[34m\u001b[4mhttps://wandb.ai/mint21/RNN%20Spam%20Detection/runs/hs5kloy5\u001b[0m\n",
      "/tmp/ipykernel_24/2189551758.py:33: UserWarning: Creating a tensor from a list of numpy.ndarrays is extremely slow. Please consider converting the list to a single numpy.ndarray with numpy.array() before converting to a tensor. (Triggered internally at /usr/local/src/pytorch/torch/csrc/utils/tensor_new.cpp:261.)\n",
      "  embedding = torch.tensor(embedding + padding, dtype=torch.float)\n"
     ]
    },
    {
     "name": "stdout",
     "output_type": "stream",
     "text": [
      "Epoch [1], Loss: 0.2597\n",
      "Epoch [2], Loss: 0.1431\n",
      "Epoch [3], Loss: 0.2031\n",
      "Epoch [4], Loss: 0.1532\n",
      "Epoch [5], Loss: 0.1566\n",
      "Epoch [6], Loss: 0.0907\n",
      "Epoch [7], Loss: 0.1440\n",
      "Epoch [8], Loss: 0.1151\n",
      "Epoch [9], Loss: 0.0426\n",
      "Epoch [10], Loss: 0.1084\n",
      "Accuracy: 0.9147\n",
      "PR_AUC: 0.9701\n",
      "Classification Report:\n",
      "              precision    recall  f1-score   support\n",
      "\n",
      "           0       0.69      0.65      0.67      4420\n",
      "           1       0.95      0.96      0.95     28580\n",
      "\n",
      "    accuracy                           0.91     33000\n",
      "   macro avg       0.82      0.80      0.81     33000\n",
      "weighted avg       0.91      0.91      0.91     33000\n",
      "\n"
     ]
    },
    {
     "name": "stderr",
     "output_type": "stream",
     "text": [
      "\u001b[34m\u001b[1mwandb\u001b[0m:                                                                                \n",
      "\u001b[34m\u001b[1mwandb\u001b[0m: \n",
      "\u001b[34m\u001b[1mwandb\u001b[0m: Run history:\n",
      "\u001b[34m\u001b[1mwandb\u001b[0m:         epoch ▁▂▃▃▄▅▆▆▇█\n",
      "\u001b[34m\u001b[1mwandb\u001b[0m:          loss █▄▆▅▅▃▄▃▁▃\n",
      "\u001b[34m\u001b[1mwandb\u001b[0m:  run_time_sec ▁\n",
      "\u001b[34m\u001b[1mwandb\u001b[0m: test_accuracy ▁\n",
      "\u001b[34m\u001b[1mwandb\u001b[0m:   test_pr_auc ▁\n",
      "\u001b[34m\u001b[1mwandb\u001b[0m: \n",
      "\u001b[34m\u001b[1mwandb\u001b[0m: Run summary:\n",
      "\u001b[34m\u001b[1mwandb\u001b[0m:         epoch 9\n",
      "\u001b[34m\u001b[1mwandb\u001b[0m:          loss 0.10841\n",
      "\u001b[34m\u001b[1mwandb\u001b[0m:  run_time_sec 20085.9077\n",
      "\u001b[34m\u001b[1mwandb\u001b[0m: test_accuracy 0.91467\n",
      "\u001b[34m\u001b[1mwandb\u001b[0m:   test_pr_auc 0.97005\n",
      "\u001b[34m\u001b[1mwandb\u001b[0m: \n",
      "\u001b[34m\u001b[1mwandb\u001b[0m: 🚀 View run \u001b[33mGRU Spacy WEmbedding\u001b[0m at: \u001b[34m\u001b[4mhttps://wandb.ai/mint21/RNN%20Spam%20Detection/runs/hs5kloy5\u001b[0m\n",
      "\u001b[34m\u001b[1mwandb\u001b[0m: ⭐️ View project at: \u001b[34m\u001b[4mhttps://wandb.ai/mint21/RNN%20Spam%20Detection\u001b[0m\n",
      "\u001b[34m\u001b[1mwandb\u001b[0m: Synced 5 W&B file(s), 0 media file(s), 0 artifact file(s) and 0 other file(s)\n",
      "\u001b[34m\u001b[1mwandb\u001b[0m: Find logs at: \u001b[35m\u001b[1m./wandb/run-20240512_095626-hs5kloy5/logs\u001b[0m\n"
     ]
    }
   ],
   "source": [
    "wandb.init(project='RNN Spam Detection', name='GRU Spacy WEmbedding')\n",
    "\n",
    "model = GRUClassifierSpaCy(input_dim=300, hidden_dim=256, output_dim=2, n_layers=2, bidirectional=True, dropout=0.3)\n",
    "model = torch.nn.DataParallel(model)\n",
    "model = model.to(device)\n",
    "\n",
    "# Set the optimizer and loss function\n",
    "optimizer = optim.Adam(model.parameters(), lr=1e-4)\n",
    "criterion = nn.CrossEntropyLoss().to(device)\n",
    "\n",
    "EPOCHS = 10\n",
    "train_eval(model, train_data_loader, test_data_loader, criterion, optimizer, EPOCHS, device)"
   ]
  },
  {
   "cell_type": "code",
   "execution_count": null,
   "id": "a04e8a31",
   "metadata": {
    "papermill": {
     "duration": 0.0113,
     "end_time": "2024-05-12T15:31:35.388665",
     "exception": false,
     "start_time": "2024-05-12T15:31:35.377365",
     "status": "completed"
    },
    "tags": []
   },
   "outputs": [],
   "source": []
  }
 ],
 "metadata": {
  "kaggle": {
   "accelerator": "nvidiaTeslaT4",
   "dataSources": [
    {
     "datasetId": 1135527,
     "sourceId": 1904905,
     "sourceType": "datasetVersion"
    }
   ],
   "dockerImageVersionId": 30699,
   "isGpuEnabled": true,
   "isInternetEnabled": true,
   "language": "python",
   "sourceType": "notebook"
  },
  "kernelspec": {
   "display_name": "Python 3",
   "language": "python",
   "name": "python3"
  },
  "language_info": {
   "codemirror_mode": {
    "name": "ipython",
    "version": 3
   },
   "file_extension": ".py",
   "mimetype": "text/x-python",
   "name": "python",
   "nbconvert_exporter": "python",
   "pygments_lexer": "ipython3",
   "version": "3.10.13"
  },
  "papermill": {
   "default_parameters": {},
   "duration": 20224.093722,
   "end_time": "2024-05-12T15:31:38.358509",
   "environment_variables": {},
   "exception": null,
   "input_path": "__notebook__.ipynb",
   "output_path": "__notebook__.ipynb",
   "parameters": {},
   "start_time": "2024-05-12T09:54:34.264787",
   "version": "2.5.0"
  }
 },
 "nbformat": 4,
 "nbformat_minor": 5
}
