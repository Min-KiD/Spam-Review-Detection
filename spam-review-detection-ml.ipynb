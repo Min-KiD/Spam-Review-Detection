{
 "cells": [
  {
   "cell_type": "code",
   "execution_count": 1,
   "id": "00a9c08e",
   "metadata": {
    "_cell_guid": "b1076dfc-b9ad-4769-8c92-a6c4dae69d19",
    "_uuid": "8f2839f25d086af736a60e9eeb907d3b93b6e0e5",
    "execution": {
     "iopub.execute_input": "2024-04-01T00:50:52.485648Z",
     "iopub.status.busy": "2024-04-01T00:50:52.485193Z",
     "iopub.status.idle": "2024-04-01T00:51:14.223753Z",
     "shell.execute_reply": "2024-04-01T00:51:14.222092Z"
    },
    "papermill": {
     "duration": 21.762932,
     "end_time": "2024-04-01T00:51:14.226831",
     "exception": false,
     "start_time": "2024-04-01T00:50:52.463899",
     "status": "completed"
    },
    "tags": []
   },
   "outputs": [
    {
     "name": "stdout",
     "output_type": "stream",
     "text": [
      "Collecting contractions\r\n",
      "  Downloading contractions-0.1.73-py2.py3-none-any.whl.metadata (1.2 kB)\r\n",
      "Collecting textsearch>=0.0.21 (from contractions)\r\n",
      "  Downloading textsearch-0.0.24-py2.py3-none-any.whl.metadata (1.2 kB)\r\n",
      "Collecting anyascii (from textsearch>=0.0.21->contractions)\r\n",
      "  Downloading anyascii-0.3.2-py3-none-any.whl.metadata (1.5 kB)\r\n",
      "Collecting pyahocorasick (from textsearch>=0.0.21->contractions)\r\n",
      "  Downloading pyahocorasick-2.1.0-cp310-cp310-manylinux_2_5_x86_64.manylinux1_x86_64.manylinux_2_12_x86_64.manylinux2010_x86_64.whl.metadata (13 kB)\r\n",
      "Downloading contractions-0.1.73-py2.py3-none-any.whl (8.7 kB)\r\n",
      "Downloading textsearch-0.0.24-py2.py3-none-any.whl (7.6 kB)\r\n",
      "Downloading anyascii-0.3.2-py3-none-any.whl (289 kB)\r\n",
      "\u001b[2K   \u001b[90m━━━━━━━━━━━━━━━━━━━━━━━━━━━━━━━━━━━━━━━━\u001b[0m \u001b[32m289.9/289.9 kB\u001b[0m \u001b[31m7.5 MB/s\u001b[0m eta \u001b[36m0:00:00\u001b[0m\r\n",
      "\u001b[?25hDownloading pyahocorasick-2.1.0-cp310-cp310-manylinux_2_5_x86_64.manylinux1_x86_64.manylinux_2_12_x86_64.manylinux2010_x86_64.whl (110 kB)\r\n",
      "\u001b[2K   \u001b[90m━━━━━━━━━━━━━━━━━━━━━━━━━━━━━━━━━━━━━━━━\u001b[0m \u001b[32m110.7/110.7 kB\u001b[0m \u001b[31m5.4 MB/s\u001b[0m eta \u001b[36m0:00:00\u001b[0m\r\n",
      "\u001b[?25hInstalling collected packages: pyahocorasick, anyascii, textsearch, contractions\r\n",
      "Successfully installed anyascii-0.3.2 contractions-0.1.73 pyahocorasick-2.1.0 textsearch-0.0.24\r\n",
      "/kaggle/input/amazon-product-review-spam-and-non-spam/Home_and_Kitchen/Home_and_Kitchen.json\n",
      "/kaggle/input/amazon-product-review-spam-and-non-spam/part.json/part.json\n",
      "/kaggle/input/amazon-product-review-spam-and-non-spam/Electronics/Electronics.json\n",
      "/kaggle/input/amazon-product-review-spam-and-non-spam/separate.json/separate.json\n",
      "/kaggle/input/amazon-product-review-spam-and-non-spam/Clothing_Shoes_and_Jewelry/Clothing_Shoes_and_Jewelry.json\n",
      "/kaggle/input/amazon-product-review-spam-and-non-spam/Sports_and_Outdoors/Sports_and_Outdoors.json\n",
      "/kaggle/input/amazon-product-review-spam-and-non-spam/Cell_Phones_and_Accessories/Cell_Phones_and_Accessories.json\n",
      "/kaggle/input/amazon-product-review-spam-and-non-spam/Toys_and_Games/Toys_and_Games.json\n"
     ]
    }
   ],
   "source": [
    "# This Python 3 environment comes with many helpful analytics libraries installed\n",
    "# It is defined by the kaggle/python Docker image: https://github.com/kaggle/docker-python\n",
    "# For example, here's several helpful packages to load\n",
    "\n",
    "import numpy as np # linear algebra\n",
    "import pandas as pd # data processing, CSV file I/O (e.g. pd.read_csv)\n",
    "\n",
    "from sklearn.feature_extraction.text import CountVectorizer, TfidfVectorizer, TfidfTransformer\n",
    "from sklearn.model_selection import train_test_split, GridSearchCV\n",
    "from sklearn.metrics import precision_recall_curve, auc, accuracy_score, confusion_matrix\n",
    "from sklearn.naive_bayes import MultinomialNB\n",
    "\n",
    "import matplotlib.pyplot as plt\n",
    "import seaborn as sns # plotting problem\n",
    "\n",
    "!pip install contractions\n",
    "import contractions # expanding contractions in text can't -> cannot\n",
    "\n",
    "import os\n",
    "for dirname, _, filenames in os.walk('/kaggle/input'):\n",
    "    for filename in filenames:\n",
    "        print(os.path.join(dirname, filename))\n",
    "\n",
    "# You can write up to 20GB to the current directory (/kaggle/working/) that gets preserved as output when you create a version using \"Save & Run All\" \n",
    "# You can also write temporary files to /kaggle/temp/, but they won't be saved outside of the current session"
   ]
  },
  {
   "cell_type": "markdown",
   "id": "9e470a93",
   "metadata": {
    "papermill": {
     "duration": 0.021349,
     "end_time": "2024-04-01T00:51:14.269875",
     "exception": false,
     "start_time": "2024-04-01T00:51:14.248526",
     "status": "completed"
    },
    "tags": []
   },
   "source": [
    "## Dataset"
   ]
  },
  {
   "cell_type": "code",
   "execution_count": 2,
   "id": "9b109135",
   "metadata": {
    "execution": {
     "iopub.execute_input": "2024-04-01T00:51:14.316749Z",
     "iopub.status.busy": "2024-04-01T00:51:14.314549Z",
     "iopub.status.idle": "2024-04-01T00:52:18.664433Z",
     "shell.execute_reply": "2024-04-01T00:52:18.663043Z"
    },
    "papermill": {
     "duration": 64.396313,
     "end_time": "2024-04-01T00:52:18.688329",
     "exception": false,
     "start_time": "2024-04-01T00:51:14.292016",
     "status": "completed"
    },
    "tags": []
   },
   "outputs": [
    {
     "data": {
      "text/html": [
       "<div>\n",
       "<style scoped>\n",
       "    .dataframe tbody tr th:only-of-type {\n",
       "        vertical-align: middle;\n",
       "    }\n",
       "\n",
       "    .dataframe tbody tr th {\n",
       "        vertical-align: top;\n",
       "    }\n",
       "\n",
       "    .dataframe thead th {\n",
       "        text-align: right;\n",
       "    }\n",
       "</style>\n",
       "<table border=\"1\" class=\"dataframe\">\n",
       "  <thead>\n",
       "    <tr style=\"text-align: right;\">\n",
       "      <th></th>\n",
       "      <th>_id</th>\n",
       "      <th>reviewerID</th>\n",
       "      <th>asin</th>\n",
       "      <th>reviewerName</th>\n",
       "      <th>helpful</th>\n",
       "      <th>reviewText</th>\n",
       "      <th>overall</th>\n",
       "      <th>summary</th>\n",
       "      <th>unixReviewTime</th>\n",
       "      <th>reviewTime</th>\n",
       "      <th>category</th>\n",
       "      <th>class</th>\n",
       "    </tr>\n",
       "  </thead>\n",
       "  <tbody>\n",
       "    <tr>\n",
       "      <th>0</th>\n",
       "      <td>{'$oid': '5a13282b741a2384e879a620'}</td>\n",
       "      <td>A3C9CSW3TJITGT</td>\n",
       "      <td>0005069491</td>\n",
       "      <td>Renee</td>\n",
       "      <td>[0, 0]</td>\n",
       "      <td>I love these felt nursery rhyme characters and...</td>\n",
       "      <td>4</td>\n",
       "      <td>Charming characters but busy work required</td>\n",
       "      <td>1377561600</td>\n",
       "      <td>08 27, 2013</td>\n",
       "      <td>Toys_and_Games</td>\n",
       "      <td>1</td>\n",
       "    </tr>\n",
       "    <tr>\n",
       "      <th>1</th>\n",
       "      <td>{'$oid': '5a13282b741a2384e879a621'}</td>\n",
       "      <td>A31POTIYCKSZ9G</td>\n",
       "      <td>0076561046</td>\n",
       "      <td>So CA Teacher</td>\n",
       "      <td>[0, 0]</td>\n",
       "      <td>I see no directions for its use. Therefore I h...</td>\n",
       "      <td>3</td>\n",
       "      <td>No directions for use...</td>\n",
       "      <td>1404864000</td>\n",
       "      <td>07 9, 2014</td>\n",
       "      <td>Toys_and_Games</td>\n",
       "      <td>0</td>\n",
       "    </tr>\n",
       "    <tr>\n",
       "      <th>2</th>\n",
       "      <td>{'$oid': '5a13282b741a2384e879a622'}</td>\n",
       "      <td>A2GGHHME9B6W4O</td>\n",
       "      <td>0131358936</td>\n",
       "      <td>Dalilah G.</td>\n",
       "      <td>[0, 0]</td>\n",
       "      <td>This is a great tool for any teacher using the...</td>\n",
       "      <td>5</td>\n",
       "      <td>Great CD-ROM</td>\n",
       "      <td>1382400000</td>\n",
       "      <td>10 22, 2013</td>\n",
       "      <td>Toys_and_Games</td>\n",
       "      <td>1</td>\n",
       "    </tr>\n",
       "    <tr>\n",
       "      <th>3</th>\n",
       "      <td>{'$oid': '5a13282b741a2384e879a61f'}</td>\n",
       "      <td>AMEVO2LY6VEJA</td>\n",
       "      <td>0000191639</td>\n",
       "      <td>Nicole Soeder</td>\n",
       "      <td>[0, 0]</td>\n",
       "      <td>Great product, thank you! Our son loved the pu...</td>\n",
       "      <td>5</td>\n",
       "      <td>Puzzles</td>\n",
       "      <td>1388016000</td>\n",
       "      <td>12 26, 2013</td>\n",
       "      <td>Toys_and_Games</td>\n",
       "      <td>1</td>\n",
       "    </tr>\n",
       "    <tr>\n",
       "      <th>4</th>\n",
       "      <td>{'$oid': '5a13282b741a2384e879a623'}</td>\n",
       "      <td>A1FSLDH43ORWZP</td>\n",
       "      <td>0133642984</td>\n",
       "      <td>Dayna English</td>\n",
       "      <td>[0, 0]</td>\n",
       "      <td>Although not as streamlined as the Algebra I m...</td>\n",
       "      <td>5</td>\n",
       "      <td>Algebra II -- presentation materials</td>\n",
       "      <td>1374278400</td>\n",
       "      <td>07 20, 2013</td>\n",
       "      <td>Toys_and_Games</td>\n",
       "      <td>1</td>\n",
       "    </tr>\n",
       "    <tr>\n",
       "      <th>...</th>\n",
       "      <td>...</td>\n",
       "      <td>...</td>\n",
       "      <td>...</td>\n",
       "      <td>...</td>\n",
       "      <td>...</td>\n",
       "      <td>...</td>\n",
       "      <td>...</td>\n",
       "      <td>...</td>\n",
       "      <td>...</td>\n",
       "      <td>...</td>\n",
       "      <td>...</td>\n",
       "      <td>...</td>\n",
       "    </tr>\n",
       "    <tr>\n",
       "      <th>1997135</th>\n",
       "      <td>{'$oid': '5a132892741a2384e89c0ee4'}</td>\n",
       "      <td>A3SDSFPFY8WS8C</td>\n",
       "      <td>B00LRXEK4G</td>\n",
       "      <td>ben brightman \"benbrightman\"</td>\n",
       "      <td>[2, 4]</td>\n",
       "      <td>Donny looks awesome in his wizard outfit. It r...</td>\n",
       "      <td>4</td>\n",
       "      <td>Awesome toy Price not Awesome</td>\n",
       "      <td>1405209600</td>\n",
       "      <td>07 13, 2014</td>\n",
       "      <td>Toys_and_Games</td>\n",
       "      <td>1</td>\n",
       "    </tr>\n",
       "    <tr>\n",
       "      <th>1997136</th>\n",
       "      <td>{'$oid': '5a132892741a2384e89c0ee2'}</td>\n",
       "      <td>AVJ4N5LBKAOG5</td>\n",
       "      <td>B00LOYLHOE</td>\n",
       "      <td>Gary P.</td>\n",
       "      <td>[2, 3]</td>\n",
       "      <td>When I was a kid, I always heard, and sometime...</td>\n",
       "      <td>5</td>\n",
       "      <td>Excellent quality and fun to fly. Certainly wo...</td>\n",
       "      <td>1405123200</td>\n",
       "      <td>07 12, 2014</td>\n",
       "      <td>Toys_and_Games</td>\n",
       "      <td>1</td>\n",
       "    </tr>\n",
       "    <tr>\n",
       "      <th>1997137</th>\n",
       "      <td>{'$oid': '5a132892741a2384e89c0ee6'}</td>\n",
       "      <td>A3JB0C3QWIN61Q</td>\n",
       "      <td>B00LXACM5W</td>\n",
       "      <td>Moms of Three</td>\n",
       "      <td>[0, 0]</td>\n",
       "      <td>The kids had hours and hours of fun with this....</td>\n",
       "      <td>5</td>\n",
       "      <td>Great Set!</td>\n",
       "      <td>1405900800</td>\n",
       "      <td>07 21, 2014</td>\n",
       "      <td>Toys_and_Games</td>\n",
       "      <td>1</td>\n",
       "    </tr>\n",
       "    <tr>\n",
       "      <th>1997138</th>\n",
       "      <td>{'$oid': '5a132892741a2384e89c0ee5'}</td>\n",
       "      <td>AJ062DSRHW9RX</td>\n",
       "      <td>B00LXACM5W</td>\n",
       "      <td>Braindel Schwartz</td>\n",
       "      <td>[0, 0]</td>\n",
       "      <td>this pack of water shooters and splash balls a...</td>\n",
       "      <td>5</td>\n",
       "      <td>I bought a few packs for a birthday party and ...</td>\n",
       "      <td>1405814400</td>\n",
       "      <td>07 20, 2014</td>\n",
       "      <td>Toys_and_Games</td>\n",
       "      <td>1</td>\n",
       "    </tr>\n",
       "    <tr>\n",
       "      <th>1997139</th>\n",
       "      <td>{'$oid': '5a132892741a2384e89c0ee7'}</td>\n",
       "      <td>AVJ84HKPIGBMH</td>\n",
       "      <td>B00M0TTT5Q</td>\n",
       "      <td>Knd</td>\n",
       "      <td>[0, 0]</td>\n",
       "      <td>Awesome!!! These lights are SO BRIGHT!! Way be...</td>\n",
       "      <td>5</td>\n",
       "      <td>Awesome!!</td>\n",
       "      <td>1405987200</td>\n",
       "      <td>07 22, 2014</td>\n",
       "      <td>Toys_and_Games</td>\n",
       "      <td>1</td>\n",
       "    </tr>\n",
       "  </tbody>\n",
       "</table>\n",
       "<p>1997140 rows × 12 columns</p>\n",
       "</div>"
      ],
      "text/plain": [
       "                                          _id      reviewerID        asin  \\\n",
       "0        {'$oid': '5a13282b741a2384e879a620'}  A3C9CSW3TJITGT  0005069491   \n",
       "1        {'$oid': '5a13282b741a2384e879a621'}  A31POTIYCKSZ9G  0076561046   \n",
       "2        {'$oid': '5a13282b741a2384e879a622'}  A2GGHHME9B6W4O  0131358936   \n",
       "3        {'$oid': '5a13282b741a2384e879a61f'}   AMEVO2LY6VEJA  0000191639   \n",
       "4        {'$oid': '5a13282b741a2384e879a623'}  A1FSLDH43ORWZP  0133642984   \n",
       "...                                       ...             ...         ...   \n",
       "1997135  {'$oid': '5a132892741a2384e89c0ee4'}  A3SDSFPFY8WS8C  B00LRXEK4G   \n",
       "1997136  {'$oid': '5a132892741a2384e89c0ee2'}   AVJ4N5LBKAOG5  B00LOYLHOE   \n",
       "1997137  {'$oid': '5a132892741a2384e89c0ee6'}  A3JB0C3QWIN61Q  B00LXACM5W   \n",
       "1997138  {'$oid': '5a132892741a2384e89c0ee5'}   AJ062DSRHW9RX  B00LXACM5W   \n",
       "1997139  {'$oid': '5a132892741a2384e89c0ee7'}   AVJ84HKPIGBMH  B00M0TTT5Q   \n",
       "\n",
       "                         reviewerName helpful  \\\n",
       "0                               Renee  [0, 0]   \n",
       "1                       So CA Teacher  [0, 0]   \n",
       "2                          Dalilah G.  [0, 0]   \n",
       "3                       Nicole Soeder  [0, 0]   \n",
       "4                       Dayna English  [0, 0]   \n",
       "...                               ...     ...   \n",
       "1997135  ben brightman \"benbrightman\"  [2, 4]   \n",
       "1997136                       Gary P.  [2, 3]   \n",
       "1997137                 Moms of Three  [0, 0]   \n",
       "1997138             Braindel Schwartz  [0, 0]   \n",
       "1997139                           Knd  [0, 0]   \n",
       "\n",
       "                                                reviewText  overall  \\\n",
       "0        I love these felt nursery rhyme characters and...        4   \n",
       "1        I see no directions for its use. Therefore I h...        3   \n",
       "2        This is a great tool for any teacher using the...        5   \n",
       "3        Great product, thank you! Our son loved the pu...        5   \n",
       "4        Although not as streamlined as the Algebra I m...        5   \n",
       "...                                                    ...      ...   \n",
       "1997135  Donny looks awesome in his wizard outfit. It r...        4   \n",
       "1997136  When I was a kid, I always heard, and sometime...        5   \n",
       "1997137  The kids had hours and hours of fun with this....        5   \n",
       "1997138  this pack of water shooters and splash balls a...        5   \n",
       "1997139  Awesome!!! These lights are SO BRIGHT!! Way be...        5   \n",
       "\n",
       "                                                   summary  unixReviewTime  \\\n",
       "0               Charming characters but busy work required      1377561600   \n",
       "1                                 No directions for use...      1404864000   \n",
       "2                                             Great CD-ROM      1382400000   \n",
       "3                                                  Puzzles      1388016000   \n",
       "4                     Algebra II -- presentation materials      1374278400   \n",
       "...                                                    ...             ...   \n",
       "1997135                      Awesome toy Price not Awesome      1405209600   \n",
       "1997136  Excellent quality and fun to fly. Certainly wo...      1405123200   \n",
       "1997137                                         Great Set!      1405900800   \n",
       "1997138  I bought a few packs for a birthday party and ...      1405814400   \n",
       "1997139                                          Awesome!!      1405987200   \n",
       "\n",
       "          reviewTime        category  class  \n",
       "0        08 27, 2013  Toys_and_Games      1  \n",
       "1         07 9, 2014  Toys_and_Games      0  \n",
       "2        10 22, 2013  Toys_and_Games      1  \n",
       "3        12 26, 2013  Toys_and_Games      1  \n",
       "4        07 20, 2013  Toys_and_Games      1  \n",
       "...              ...             ...    ...  \n",
       "1997135  07 13, 2014  Toys_and_Games      1  \n",
       "1997136  07 12, 2014  Toys_and_Games      1  \n",
       "1997137  07 21, 2014  Toys_and_Games      1  \n",
       "1997138  07 20, 2014  Toys_and_Games      1  \n",
       "1997139  07 22, 2014  Toys_and_Games      1  \n",
       "\n",
       "[1997140 rows x 12 columns]"
      ]
     },
     "execution_count": 2,
     "metadata": {},
     "output_type": "execute_result"
    }
   ],
   "source": [
    "df = pd.read_json('/kaggle/input/amazon-product-review-spam-and-non-spam/Toys_and_Games/Toys_and_Games.json', lines=True)\n",
    "df"
   ]
  },
  {
   "cell_type": "code",
   "execution_count": 3,
   "id": "a0ab4584",
   "metadata": {
    "execution": {
     "iopub.execute_input": "2024-04-01T00:52:18.732161Z",
     "iopub.status.busy": "2024-04-01T00:52:18.731753Z",
     "iopub.status.idle": "2024-04-01T00:52:18.740321Z",
     "shell.execute_reply": "2024-04-01T00:52:18.739033Z"
    },
    "papermill": {
     "duration": 0.032983,
     "end_time": "2024-04-01T00:52:18.742869",
     "exception": false,
     "start_time": "2024-04-01T00:52:18.709886",
     "status": "completed"
    },
    "tags": []
   },
   "outputs": [
    {
     "data": {
      "text/plain": [
       "Index(['_id', 'reviewerID', 'asin', 'reviewerName', 'helpful', 'reviewText',\n",
       "       'overall', 'summary', 'unixReviewTime', 'reviewTime', 'category',\n",
       "       'class'],\n",
       "      dtype='object')"
      ]
     },
     "execution_count": 3,
     "metadata": {},
     "output_type": "execute_result"
    }
   ],
   "source": [
    "df.columns"
   ]
  },
  {
   "cell_type": "code",
   "execution_count": 4,
   "id": "348f5be5",
   "metadata": {
    "execution": {
     "iopub.execute_input": "2024-04-01T00:52:18.786948Z",
     "iopub.status.busy": "2024-04-01T00:52:18.786507Z",
     "iopub.status.idle": "2024-04-01T00:52:18.821438Z",
     "shell.execute_reply": "2024-04-01T00:52:18.820296Z"
    },
    "papermill": {
     "duration": 0.060655,
     "end_time": "2024-04-01T00:52:18.824093",
     "exception": false,
     "start_time": "2024-04-01T00:52:18.763438",
     "status": "completed"
    },
    "tags": []
   },
   "outputs": [
    {
     "data": {
      "text/plain": [
       "class\n",
       "1    1662754\n",
       "0     334386\n",
       "Name: count, dtype: int64"
      ]
     },
     "execution_count": 4,
     "metadata": {},
     "output_type": "execute_result"
    }
   ],
   "source": [
    "df['class'].value_counts()"
   ]
  },
  {
   "cell_type": "code",
   "execution_count": 5,
   "id": "231f5e57",
   "metadata": {
    "execution": {
     "iopub.execute_input": "2024-04-01T00:52:18.868539Z",
     "iopub.status.busy": "2024-04-01T00:52:18.868132Z",
     "iopub.status.idle": "2024-04-01T00:52:18.899426Z",
     "shell.execute_reply": "2024-04-01T00:52:18.898342Z"
    },
    "papermill": {
     "duration": 0.056774,
     "end_time": "2024-04-01T00:52:18.901879",
     "exception": false,
     "start_time": "2024-04-01T00:52:18.845105",
     "status": "completed"
    },
    "tags": []
   },
   "outputs": [
    {
     "data": {
      "text/plain": [
       "class\n",
       "1    0.832568\n",
       "0    0.167432\n",
       "Name: count, dtype: float64"
      ]
     },
     "execution_count": 5,
     "metadata": {},
     "output_type": "execute_result"
    }
   ],
   "source": [
    "df['class'].value_counts() / len(df)"
   ]
  },
  {
   "cell_type": "code",
   "execution_count": 6,
   "id": "58ceb669",
   "metadata": {
    "execution": {
     "iopub.execute_input": "2024-04-01T00:52:18.945630Z",
     "iopub.status.busy": "2024-04-01T00:52:18.945151Z",
     "iopub.status.idle": "2024-04-01T00:52:18.952334Z",
     "shell.execute_reply": "2024-04-01T00:52:18.951133Z"
    },
    "papermill": {
     "duration": 0.032216,
     "end_time": "2024-04-01T00:52:18.954912",
     "exception": false,
     "start_time": "2024-04-01T00:52:18.922696",
     "status": "completed"
    },
    "tags": []
   },
   "outputs": [
    {
     "data": {
      "text/plain": [
       "'Great product, thank you! Our son loved the puzzles.  They have large pieces yet they are still challenging for a 4 year old.'"
      ]
     },
     "execution_count": 6,
     "metadata": {},
     "output_type": "execute_result"
    }
   ],
   "source": [
    "df.iloc[3]['reviewText']"
   ]
  },
  {
   "cell_type": "code",
   "execution_count": 7,
   "id": "04db2b84",
   "metadata": {
    "execution": {
     "iopub.execute_input": "2024-04-01T00:52:18.998565Z",
     "iopub.status.busy": "2024-04-01T00:52:18.997885Z",
     "iopub.status.idle": "2024-04-01T00:52:20.709005Z",
     "shell.execute_reply": "2024-04-01T00:52:20.707736Z"
    },
    "papermill": {
     "duration": 1.735957,
     "end_time": "2024-04-01T00:52:20.711548",
     "exception": false,
     "start_time": "2024-04-01T00:52:18.975591",
     "status": "completed"
    },
    "tags": []
   },
   "outputs": [
    {
     "data": {
      "text/plain": [
       "pandas.core.series.Series"
      ]
     },
     "execution_count": 7,
     "metadata": {},
     "output_type": "execute_result"
    }
   ],
   "source": [
    "leng_review = df.reviewText.str.len()\n",
    "type(leng_review)"
   ]
  },
  {
   "cell_type": "code",
   "execution_count": 8,
   "id": "86000404",
   "metadata": {
    "execution": {
     "iopub.execute_input": "2024-04-01T00:52:20.756226Z",
     "iopub.status.busy": "2024-04-01T00:52:20.755840Z",
     "iopub.status.idle": "2024-04-01T00:52:20.764478Z",
     "shell.execute_reply": "2024-04-01T00:52:20.763355Z"
    },
    "papermill": {
     "duration": 0.033565,
     "end_time": "2024-04-01T00:52:20.766975",
     "exception": false,
     "start_time": "2024-04-01T00:52:20.733410",
     "status": "completed"
    },
    "tags": []
   },
   "outputs": [
    {
     "data": {
      "text/plain": [
       "0           653\n",
       "1            86\n",
       "2           171\n",
       "3           125\n",
       "4           160\n",
       "           ... \n",
       "1997135     606\n",
       "1997136    1242\n",
       "1997137     143\n",
       "1997138     264\n",
       "1997139     294\n",
       "Name: reviewText, Length: 1997140, dtype: int64"
      ]
     },
     "execution_count": 8,
     "metadata": {},
     "output_type": "execute_result"
    }
   ],
   "source": [
    "leng_review"
   ]
  },
  {
   "cell_type": "code",
   "execution_count": 9,
   "id": "68508733",
   "metadata": {
    "execution": {
     "iopub.execute_input": "2024-04-01T00:52:20.811710Z",
     "iopub.status.busy": "2024-04-01T00:52:20.811287Z",
     "iopub.status.idle": "2024-04-01T00:52:21.113424Z",
     "shell.execute_reply": "2024-04-01T00:52:21.112044Z"
    },
    "papermill": {
     "duration": 0.327768,
     "end_time": "2024-04-01T00:52:21.115966",
     "exception": false,
     "start_time": "2024-04-01T00:52:20.788198",
     "status": "completed"
    },
    "tags": []
   },
   "outputs": [
    {
     "data": {
      "text/plain": [
       "32427"
      ]
     },
     "execution_count": 9,
     "metadata": {},
     "output_type": "execute_result"
    }
   ],
   "source": [
    "max(leng_review)"
   ]
  },
  {
   "cell_type": "markdown",
   "id": "c9d4a00e",
   "metadata": {
    "papermill": {
     "duration": 0.021571,
     "end_time": "2024-04-01T00:52:21.159131",
     "exception": false,
     "start_time": "2024-04-01T00:52:21.137560",
     "status": "completed"
    },
    "tags": []
   },
   "source": [
    "## Data preprocessing"
   ]
  },
  {
   "cell_type": "code",
   "execution_count": 10,
   "id": "3b3a5168",
   "metadata": {
    "execution": {
     "iopub.execute_input": "2024-04-01T00:52:21.204068Z",
     "iopub.status.busy": "2024-04-01T00:52:21.203690Z",
     "iopub.status.idle": "2024-04-01T00:52:21.208652Z",
     "shell.execute_reply": "2024-04-01T00:52:21.207521Z"
    },
    "papermill": {
     "duration": 0.030531,
     "end_time": "2024-04-01T00:52:21.211121",
     "exception": false,
     "start_time": "2024-04-01T00:52:21.180590",
     "status": "completed"
    },
    "tags": []
   },
   "outputs": [],
   "source": [
    "df = df.head(100000)"
   ]
  },
  {
   "cell_type": "code",
   "execution_count": 11,
   "id": "e800538e",
   "metadata": {
    "execution": {
     "iopub.execute_input": "2024-04-01T00:52:21.256508Z",
     "iopub.status.busy": "2024-04-01T00:52:21.256084Z",
     "iopub.status.idle": "2024-04-01T00:52:21.277095Z",
     "shell.execute_reply": "2024-04-01T00:52:21.275749Z"
    },
    "papermill": {
     "duration": 0.046755,
     "end_time": "2024-04-01T00:52:21.279589",
     "exception": false,
     "start_time": "2024-04-01T00:52:21.232834",
     "status": "completed"
    },
    "tags": []
   },
   "outputs": [
    {
     "data": {
      "text/html": [
       "<div>\n",
       "<style scoped>\n",
       "    .dataframe tbody tr th:only-of-type {\n",
       "        vertical-align: middle;\n",
       "    }\n",
       "\n",
       "    .dataframe tbody tr th {\n",
       "        vertical-align: top;\n",
       "    }\n",
       "\n",
       "    .dataframe thead th {\n",
       "        text-align: right;\n",
       "    }\n",
       "</style>\n",
       "<table border=\"1\" class=\"dataframe\">\n",
       "  <thead>\n",
       "    <tr style=\"text-align: right;\">\n",
       "      <th></th>\n",
       "      <th>reviewText</th>\n",
       "      <th>class</th>\n",
       "    </tr>\n",
       "  </thead>\n",
       "  <tbody>\n",
       "    <tr>\n",
       "      <th>0</th>\n",
       "      <td>I love these felt nursery rhyme characters and...</td>\n",
       "      <td>1</td>\n",
       "    </tr>\n",
       "    <tr>\n",
       "      <th>1</th>\n",
       "      <td>I see no directions for its use. Therefore I h...</td>\n",
       "      <td>0</td>\n",
       "    </tr>\n",
       "    <tr>\n",
       "      <th>2</th>\n",
       "      <td>This is a great tool for any teacher using the...</td>\n",
       "      <td>1</td>\n",
       "    </tr>\n",
       "    <tr>\n",
       "      <th>3</th>\n",
       "      <td>Great product, thank you! Our son loved the pu...</td>\n",
       "      <td>1</td>\n",
       "    </tr>\n",
       "    <tr>\n",
       "      <th>4</th>\n",
       "      <td>Although not as streamlined as the Algebra I m...</td>\n",
       "      <td>1</td>\n",
       "    </tr>\n",
       "    <tr>\n",
       "      <th>...</th>\n",
       "      <td>...</td>\n",
       "      <td>...</td>\n",
       "    </tr>\n",
       "    <tr>\n",
       "      <th>99995</th>\n",
       "      <td>Received this product in a timely fashion. I m...</td>\n",
       "      <td>0</td>\n",
       "    </tr>\n",
       "    <tr>\n",
       "      <th>99996</th>\n",
       "      <td>McFarlane Sports Series are fantastic and life...</td>\n",
       "      <td>1</td>\n",
       "    </tr>\n",
       "    <tr>\n",
       "      <th>99997</th>\n",
       "      <td>Fortune is a good figure. She has a very attra...</td>\n",
       "      <td>1</td>\n",
       "    </tr>\n",
       "    <tr>\n",
       "      <th>99998</th>\n",
       "      <td>I just thought that I'd jot a few words to let...</td>\n",
       "      <td>0</td>\n",
       "    </tr>\n",
       "    <tr>\n",
       "      <th>99999</th>\n",
       "      <td>Although the Blair Witch, herself did not appe...</td>\n",
       "      <td>0</td>\n",
       "    </tr>\n",
       "  </tbody>\n",
       "</table>\n",
       "<p>100000 rows × 2 columns</p>\n",
       "</div>"
      ],
      "text/plain": [
       "                                              reviewText  class\n",
       "0      I love these felt nursery rhyme characters and...      1\n",
       "1      I see no directions for its use. Therefore I h...      0\n",
       "2      This is a great tool for any teacher using the...      1\n",
       "3      Great product, thank you! Our son loved the pu...      1\n",
       "4      Although not as streamlined as the Algebra I m...      1\n",
       "...                                                  ...    ...\n",
       "99995  Received this product in a timely fashion. I m...      0\n",
       "99996  McFarlane Sports Series are fantastic and life...      1\n",
       "99997  Fortune is a good figure. She has a very attra...      1\n",
       "99998  I just thought that I'd jot a few words to let...      0\n",
       "99999  Although the Blair Witch, herself did not appe...      0\n",
       "\n",
       "[100000 rows x 2 columns]"
      ]
     },
     "execution_count": 11,
     "metadata": {},
     "output_type": "execute_result"
    }
   ],
   "source": [
    "df = df.loc[:, ['reviewText', 'class']]\n",
    "df"
   ]
  },
  {
   "cell_type": "code",
   "execution_count": 12,
   "id": "76b1d08d",
   "metadata": {
    "execution": {
     "iopub.execute_input": "2024-04-01T00:52:21.324445Z",
     "iopub.status.busy": "2024-04-01T00:52:21.323971Z",
     "iopub.status.idle": "2024-04-01T00:52:21.334155Z",
     "shell.execute_reply": "2024-04-01T00:52:21.332925Z"
    },
    "papermill": {
     "duration": 0.035597,
     "end_time": "2024-04-01T00:52:21.336703",
     "exception": false,
     "start_time": "2024-04-01T00:52:21.301106",
     "status": "completed"
    },
    "tags": []
   },
   "outputs": [
    {
     "data": {
      "text/plain": [
       "class\n",
       "1    86465\n",
       "0    13535\n",
       "Name: count, dtype: int64"
      ]
     },
     "execution_count": 12,
     "metadata": {},
     "output_type": "execute_result"
    }
   ],
   "source": [
    "df['class'].value_counts()"
   ]
  },
  {
   "cell_type": "code",
   "execution_count": 13,
   "id": "d8a48e51",
   "metadata": {
    "execution": {
     "iopub.execute_input": "2024-04-01T00:52:21.384352Z",
     "iopub.status.busy": "2024-04-01T00:52:21.383900Z",
     "iopub.status.idle": "2024-04-01T00:52:27.366700Z",
     "shell.execute_reply": "2024-04-01T00:52:27.364060Z"
    },
    "papermill": {
     "duration": 6.017202,
     "end_time": "2024-04-01T00:52:27.375820",
     "exception": false,
     "start_time": "2024-04-01T00:52:21.358618",
     "status": "completed"
    },
    "tags": []
   },
   "outputs": [
    {
     "data": {
      "text/html": [
       "<div>\n",
       "<style scoped>\n",
       "    .dataframe tbody tr th:only-of-type {\n",
       "        vertical-align: middle;\n",
       "    }\n",
       "\n",
       "    .dataframe tbody tr th {\n",
       "        vertical-align: top;\n",
       "    }\n",
       "\n",
       "    .dataframe thead th {\n",
       "        text-align: right;\n",
       "    }\n",
       "</style>\n",
       "<table border=\"1\" class=\"dataframe\">\n",
       "  <thead>\n",
       "    <tr style=\"text-align: right;\">\n",
       "      <th></th>\n",
       "      <th>reviewText</th>\n",
       "      <th>class</th>\n",
       "    </tr>\n",
       "  </thead>\n",
       "  <tbody>\n",
       "    <tr>\n",
       "      <th>0</th>\n",
       "      <td>i love these felt nursery rhyme characters and...</td>\n",
       "      <td>1</td>\n",
       "    </tr>\n",
       "    <tr>\n",
       "      <th>1</th>\n",
       "      <td>i see no directions for its use. therefore i h...</td>\n",
       "      <td>0</td>\n",
       "    </tr>\n",
       "    <tr>\n",
       "      <th>2</th>\n",
       "      <td>this is a great tool for any teacher using the...</td>\n",
       "      <td>1</td>\n",
       "    </tr>\n",
       "    <tr>\n",
       "      <th>3</th>\n",
       "      <td>great product, thank you! our son loved the pu...</td>\n",
       "      <td>1</td>\n",
       "    </tr>\n",
       "    <tr>\n",
       "      <th>4</th>\n",
       "      <td>although not as streamlined as the algebra i m...</td>\n",
       "      <td>1</td>\n",
       "    </tr>\n",
       "    <tr>\n",
       "      <th>...</th>\n",
       "      <td>...</td>\n",
       "      <td>...</td>\n",
       "    </tr>\n",
       "    <tr>\n",
       "      <th>99995</th>\n",
       "      <td>received this product in a timely fashion. i m...</td>\n",
       "      <td>0</td>\n",
       "    </tr>\n",
       "    <tr>\n",
       "      <th>99996</th>\n",
       "      <td>mcfarlane sports series are fantastic and life...</td>\n",
       "      <td>1</td>\n",
       "    </tr>\n",
       "    <tr>\n",
       "      <th>99997</th>\n",
       "      <td>fortune is a good figure. she has a very attra...</td>\n",
       "      <td>1</td>\n",
       "    </tr>\n",
       "    <tr>\n",
       "      <th>99998</th>\n",
       "      <td>i just thought that i would jot a few words to...</td>\n",
       "      <td>0</td>\n",
       "    </tr>\n",
       "    <tr>\n",
       "      <th>99999</th>\n",
       "      <td>although the blair witch, herself did not appe...</td>\n",
       "      <td>0</td>\n",
       "    </tr>\n",
       "  </tbody>\n",
       "</table>\n",
       "<p>100000 rows × 2 columns</p>\n",
       "</div>"
      ],
      "text/plain": [
       "                                              reviewText  class\n",
       "0      i love these felt nursery rhyme characters and...      1\n",
       "1      i see no directions for its use. therefore i h...      0\n",
       "2      this is a great tool for any teacher using the...      1\n",
       "3      great product, thank you! our son loved the pu...      1\n",
       "4      although not as streamlined as the algebra i m...      1\n",
       "...                                                  ...    ...\n",
       "99995  received this product in a timely fashion. i m...      0\n",
       "99996  mcfarlane sports series are fantastic and life...      1\n",
       "99997  fortune is a good figure. she has a very attra...      1\n",
       "99998  i just thought that i would jot a few words to...      0\n",
       "99999  although the blair witch, herself did not appe...      0\n",
       "\n",
       "[100000 rows x 2 columns]"
      ]
     },
     "execution_count": 13,
     "metadata": {},
     "output_type": "execute_result"
    }
   ],
   "source": [
    "df['reviewText'] = df['reviewText'].apply(lambda x: contractions.fix(x))\n",
    "df.loc[:, 'reviewText'] = df['reviewText'].str.lower()\n",
    "\n",
    "# \\W represents Special characters like \"$\" and \"!!!\"\n",
    "df.loc[:, 'reviewText'] = df['reviewText'].str.replace('\\W', ' ')\n",
    "\n",
    "# \\d represents Numeric digits like \"19.99\"\n",
    "df.loc[:, 'reviewText'] = df['reviewText'].str.replace('\\d', ' ')\n",
    "\n",
    "df"
   ]
  },
  {
   "cell_type": "code",
   "execution_count": 14,
   "id": "71c19c77",
   "metadata": {
    "execution": {
     "iopub.execute_input": "2024-04-01T00:52:27.444291Z",
     "iopub.status.busy": "2024-04-01T00:52:27.443137Z",
     "iopub.status.idle": "2024-04-01T00:52:27.450939Z",
     "shell.execute_reply": "2024-04-01T00:52:27.449565Z"
    },
    "papermill": {
     "duration": 0.043573,
     "end_time": "2024-04-01T00:52:27.454122",
     "exception": false,
     "start_time": "2024-04-01T00:52:27.410549",
     "status": "completed"
    },
    "tags": []
   },
   "outputs": [],
   "source": [
    "def pr_auc_score(y_test, y_pred):\n",
    "    precision, recall, _ = precision_recall_curve(y_test, y_pred)\n",
    "    pr_auc = auc(recall, precision)\n",
    "    return pr_auc"
   ]
  },
  {
   "cell_type": "code",
   "execution_count": 15,
   "id": "172695ab",
   "metadata": {
    "execution": {
     "iopub.execute_input": "2024-04-01T00:52:27.511153Z",
     "iopub.status.busy": "2024-04-01T00:52:27.510106Z",
     "iopub.status.idle": "2024-04-01T00:52:27.517765Z",
     "shell.execute_reply": "2024-04-01T00:52:27.516525Z"
    },
    "papermill": {
     "duration": 0.039272,
     "end_time": "2024-04-01T00:52:27.520215",
     "exception": false,
     "start_time": "2024-04-01T00:52:27.480943",
     "status": "completed"
    },
    "tags": []
   },
   "outputs": [],
   "source": [
    "def testModel(model, x_train, x_test):\n",
    "    global y_test, y_train\n",
    "    model.fit(x_train, y_train)\n",
    "    pred = model.predict(x_test)\n",
    "\n",
    "    score = accuracy_score(y_test, pred)\n",
    "    print(score)\n",
    "\n",
    "    pr_score = pr_auc_score(y_test, pred)\n",
    "    print(pr_score)\n",
    "\n",
    "    cm = confusion_matrix(y_test, pred, labels=[0, 1])\n",
    "    print(cm)"
   ]
  },
  {
   "cell_type": "code",
   "execution_count": 16,
   "id": "d3c8e29f",
   "metadata": {
    "execution": {
     "iopub.execute_input": "2024-04-01T00:52:27.569234Z",
     "iopub.status.busy": "2024-04-01T00:52:27.568416Z",
     "iopub.status.idle": "2024-04-01T00:52:27.573723Z",
     "shell.execute_reply": "2024-04-01T00:52:27.572649Z"
    },
    "papermill": {
     "duration": 0.033017,
     "end_time": "2024-04-01T00:52:27.576431",
     "exception": false,
     "start_time": "2024-04-01T00:52:27.543414",
     "status": "completed"
    },
    "tags": []
   },
   "outputs": [],
   "source": [
    "# from nltk import word_tokenize\n",
    "\n",
    "# # Tokenize each item in the review column \n",
    "# word_tokens = [word_tokenize(review) for review in df.reviewText]\n",
    "# # Create an empty list to store the length of reviews\n",
    "# len_tokens = []\n",
    "\n",
    "# # Iterate over the word_tokens list and determine the length of each item\n",
    "# for i in range(len(word_tokens)):\n",
    "#      len_tokens.append(len(word_tokens[i]))\n",
    "\n",
    "# # Create a new feature for the lengh of each review\n",
    "# df['n_words'] = len_tokens \n",
    "# # very long time running ? think other ways"
   ]
  },
  {
   "cell_type": "markdown",
   "id": "5799045d",
   "metadata": {
    "papermill": {
     "duration": 0.022649,
     "end_time": "2024-04-01T00:52:27.623010",
     "exception": false,
     "start_time": "2024-04-01T00:52:27.600361",
     "status": "completed"
    },
    "tags": []
   },
   "source": [
    "#### CountVectorizer test with max_features and ngram_range"
   ]
  },
  {
   "cell_type": "code",
   "execution_count": 17,
   "id": "16705d8d",
   "metadata": {
    "execution": {
     "iopub.execute_input": "2024-04-01T00:52:27.671908Z",
     "iopub.status.busy": "2024-04-01T00:52:27.670879Z",
     "iopub.status.idle": "2024-04-01T00:52:37.853196Z",
     "shell.execute_reply": "2024-04-01T00:52:37.851983Z"
    },
    "papermill": {
     "duration": 10.209505,
     "end_time": "2024-04-01T00:52:37.856126",
     "exception": false,
     "start_time": "2024-04-01T00:52:27.646621",
     "status": "completed"
    },
    "tags": []
   },
   "outputs": [],
   "source": [
    "# Create a series to store the labels: y\n",
    "y = df['class']\n",
    "\n",
    "# Create training and test sets\n",
    "X_train, X_test, y_train, y_test = train_test_split(df['reviewText'], y, test_size=0.33, random_state=21)\n",
    "\n",
    "# Initialize a CountVectorizer object: count_vectorizer\n",
    "count_vectorizer = CountVectorizer(stop_words='english', max_df = 0.8, max_features = 2000)\n",
    "\n",
    "# Transform the training data using only the 'text' column values: count_train \n",
    "count_train = count_vectorizer.fit_transform(X_train)\n",
    "\n",
    "# Transform the test data using only the 'text' column values: count_test \n",
    "count_test = count_vectorizer.transform(X_test)"
   ]
  },
  {
   "cell_type": "code",
   "execution_count": 18,
   "id": "82d2a9f9",
   "metadata": {
    "execution": {
     "iopub.execute_input": "2024-04-01T00:52:37.993464Z",
     "iopub.status.busy": "2024-04-01T00:52:37.992989Z",
     "iopub.status.idle": "2024-04-01T00:52:38.003097Z",
     "shell.execute_reply": "2024-04-01T00:52:38.002196Z"
    },
    "papermill": {
     "duration": 0.037431,
     "end_time": "2024-04-01T00:52:38.005374",
     "exception": false,
     "start_time": "2024-04-01T00:52:37.967943",
     "status": "completed"
    },
    "tags": []
   },
   "outputs": [
    {
     "data": {
      "text/plain": [
       "2000"
      ]
     },
     "execution_count": 18,
     "metadata": {},
     "output_type": "execute_result"
    }
   ],
   "source": [
    "len(count_vectorizer.get_feature_names_out())"
   ]
  },
  {
   "cell_type": "code",
   "execution_count": 19,
   "id": "eb647bd1",
   "metadata": {
    "execution": {
     "iopub.execute_input": "2024-04-01T00:52:38.052504Z",
     "iopub.status.busy": "2024-04-01T00:52:38.052019Z",
     "iopub.status.idle": "2024-04-01T00:52:38.104242Z",
     "shell.execute_reply": "2024-04-01T00:52:38.102862Z"
    },
    "papermill": {
     "duration": 0.079046,
     "end_time": "2024-04-01T00:52:38.106900",
     "exception": false,
     "start_time": "2024-04-01T00:52:38.027854",
     "status": "completed"
    },
    "tags": []
   },
   "outputs": [
    {
     "name": "stdout",
     "output_type": "stream",
     "text": [
      "0.8765454545454545\n",
      "0.9653009876243847\n",
      "[[ 2818  1602]\n",
      " [ 2472 26108]]\n"
     ]
    }
   ],
   "source": [
    "# Instantiate a Multinomial Naive Bayes classifier: nb_classifier\n",
    "nb_classifier = MultinomialNB()\n",
    "\n",
    "testModel(nb_classifier, count_train, count_test)"
   ]
  },
  {
   "cell_type": "code",
   "execution_count": 20,
   "id": "bdc1dc9b",
   "metadata": {
    "execution": {
     "iopub.execute_input": "2024-04-01T00:52:38.155968Z",
     "iopub.status.busy": "2024-04-01T00:52:38.155557Z",
     "iopub.status.idle": "2024-04-01T00:53:13.864158Z",
     "shell.execute_reply": "2024-04-01T00:53:13.862943Z"
    },
    "papermill": {
     "duration": 35.759396,
     "end_time": "2024-04-01T00:53:13.889564",
     "exception": false,
     "start_time": "2024-04-01T00:52:38.130168",
     "status": "completed"
    },
    "tags": []
   },
   "outputs": [
    {
     "name": "stdout",
     "output_type": "stream",
     "text": [
      "0.8447272727272728\n",
      "0.9486841460965585\n",
      "[[ 1817  2603]\n",
      " [ 2521 26059]]\n"
     ]
    }
   ],
   "source": [
    "from sklearn.tree import DecisionTreeClassifier\n",
    "\n",
    "# Initialize the DecisionTreeClassifier\n",
    "decision_tree = DecisionTreeClassifier()\n",
    "\n",
    "testModel(decision_tree, count_train, count_test)\n",
    "# running time very very long "
   ]
  },
  {
   "cell_type": "code",
   "execution_count": 21,
   "id": "a7468c25",
   "metadata": {
    "execution": {
     "iopub.execute_input": "2024-04-01T00:53:13.937883Z",
     "iopub.status.busy": "2024-04-01T00:53:13.937463Z",
     "iopub.status.idle": "2024-04-01T00:53:16.303514Z",
     "shell.execute_reply": "2024-04-01T00:53:16.302059Z"
    },
    "papermill": {
     "duration": 2.394006,
     "end_time": "2024-04-01T00:53:16.306174",
     "exception": false,
     "start_time": "2024-04-01T00:53:13.912168",
     "status": "completed"
    },
    "tags": []
   },
   "outputs": [
    {
     "name": "stdout",
     "output_type": "stream",
     "text": [
      "0.9062727272727272\n",
      "0.9598372301577586\n",
      "[[ 2113  2307]\n",
      " [  786 27794]]\n"
     ]
    }
   ],
   "source": [
    "from sklearn.linear_model import LogisticRegression\n",
    "\n",
    "# Initialize the logistic regression model\n",
    "logistic_regression = LogisticRegression(max_iter = 400) #Maximum number of iterations taken for the solvers to converge\n",
    "\n",
    "testModel(logistic_regression, count_train, count_test)"
   ]
  },
  {
   "cell_type": "code",
   "execution_count": 22,
   "id": "fdb5ad92",
   "metadata": {
    "execution": {
     "iopub.execute_input": "2024-04-01T00:53:16.354367Z",
     "iopub.status.busy": "2024-04-01T00:53:16.353230Z",
     "iopub.status.idle": "2024-04-01T00:55:46.629635Z",
     "shell.execute_reply": "2024-04-01T00:55:46.628038Z"
    },
    "papermill": {
     "duration": 150.328047,
     "end_time": "2024-04-01T00:55:46.656995",
     "exception": false,
     "start_time": "2024-04-01T00:53:16.328948",
     "status": "completed"
    },
    "tags": []
   },
   "outputs": [
    {
     "name": "stdout",
     "output_type": "stream",
     "text": [
      "0.8938787878787878\n",
      "0.9485457345259153\n",
      "[[ 1228  3192]\n",
      " [  310 28270]]\n"
     ]
    }
   ],
   "source": [
    "from sklearn.ensemble import RandomForestClassifier\n",
    "\n",
    "# Initialize the RandomForestClassifier with default parameters\n",
    "random_forest = RandomForestClassifier()\n",
    "\n",
    "testModel(random_forest, count_train, count_test)"
   ]
  },
  {
   "cell_type": "code",
   "execution_count": 23,
   "id": "0a6f1ff6",
   "metadata": {
    "execution": {
     "iopub.execute_input": "2024-04-01T00:55:46.706013Z",
     "iopub.status.busy": "2024-04-01T00:55:46.705546Z",
     "iopub.status.idle": "2024-04-01T00:56:04.793544Z",
     "shell.execute_reply": "2024-04-01T00:56:04.792186Z"
    },
    "papermill": {
     "duration": 18.116056,
     "end_time": "2024-04-01T00:56:04.796922",
     "exception": false,
     "start_time": "2024-04-01T00:55:46.680866",
     "status": "completed"
    },
    "tags": []
   },
   "outputs": [
    {
     "name": "stdout",
     "output_type": "stream",
     "text": [
      "0.905\n",
      "0.9581865986361813\n",
      "[[ 1984  2436]\n",
      " [  699 27881]]\n"
     ]
    },
    {
     "name": "stderr",
     "output_type": "stream",
     "text": [
      "/opt/conda/lib/python3.10/site-packages/sklearn/svm/_base.py:1244: ConvergenceWarning: Liblinear failed to converge, increase the number of iterations.\n",
      "  warnings.warn(\n"
     ]
    }
   ],
   "source": [
    "from sklearn.svm import LinearSVC\n",
    "\n",
    "# Initialize the LinearSVC model\n",
    "linear_svc = LinearSVC()\n",
    "\n",
    "testModel(linear_svc, count_train, count_test)"
   ]
  },
  {
   "cell_type": "code",
   "execution_count": 24,
   "id": "0fc3659c",
   "metadata": {
    "execution": {
     "iopub.execute_input": "2024-04-01T00:56:04.845812Z",
     "iopub.status.busy": "2024-04-01T00:56:04.845409Z",
     "iopub.status.idle": "2024-04-01T00:56:05.069483Z",
     "shell.execute_reply": "2024-04-01T00:56:05.068424Z"
    },
    "papermill": {
     "duration": 0.25139,
     "end_time": "2024-04-01T00:56:05.071973",
     "exception": false,
     "start_time": "2024-04-01T00:56:04.820583",
     "status": "completed"
    },
    "tags": []
   },
   "outputs": [
    {
     "name": "stdout",
     "output_type": "stream",
     "text": [
      "0.8841515151515151\n",
      "0.9581166696065478\n",
      "[[ 2191  2229]\n",
      " [ 1594 26986]]\n"
     ]
    }
   ],
   "source": [
    "from sklearn.linear_model import Perceptron\n",
    "\n",
    "# Initialize the Perceptron model\n",
    "perceptron = Perceptron()\n",
    "\n",
    "testModel(perceptron, count_train, count_test)"
   ]
  },
  {
   "cell_type": "code",
   "execution_count": 25,
   "id": "82bc0b14",
   "metadata": {
    "execution": {
     "iopub.execute_input": "2024-04-01T00:56:05.124130Z",
     "iopub.status.busy": "2024-04-01T00:56:05.122896Z",
     "iopub.status.idle": "2024-04-01T00:56:11.389339Z",
     "shell.execute_reply": "2024-04-01T00:56:11.388048Z"
    },
    "papermill": {
     "duration": 6.295713,
     "end_time": "2024-04-01T00:56:11.391857",
     "exception": false,
     "start_time": "2024-04-01T00:56:05.096144",
     "status": "completed"
    },
    "tags": []
   },
   "outputs": [
    {
     "name": "stdout",
     "output_type": "stream",
     "text": [
      "0.9094242424242425\n",
      "0.9597122721369789\n",
      "[[ 2070  2350]\n",
      " [  639 27941]]\n"
     ]
    }
   ],
   "source": [
    "import xgboost as xgb\n",
    "\n",
    "# Convert your data into DMatrix format, which is optimized for XGBoost\n",
    "dtrain = xgb.DMatrix(count_train, label=y_train)\n",
    "\n",
    "# Set the parameters for the XGBoost model\n",
    "params = {\n",
    "    'objective': 'binary:logistic',  # Assuming binary classification\n",
    "    'eval_metric': 'logloss'  # Use log loss as the evaluation metric\n",
    "}\n",
    "\n",
    "# Train the XGBoost model\n",
    "num_rounds = 500  # Number of boosting rounds\n",
    "xgb_model = xgb.train(params, dtrain, num_rounds)\n",
    "\n",
    "dtest = xgb.DMatrix(count_test)\n",
    "\n",
    "# Make predictions on the test data\n",
    "y_pred_proba = xgb_model.predict(dtest)  # Predict probabilities\n",
    "y_pred = [1 if pred > 0.5 else 0 for pred in y_pred_proba]  # Convert probabilities to binary predictions\n",
    "\n",
    "score = accuracy_score(y_test, y_pred)\n",
    "print(score)\n",
    "\n",
    "pr_score = pr_auc_score(y_test, y_pred)\n",
    "print(pr_score)\n",
    "cm = confusion_matrix(y_test, y_pred, labels=[0, 1])\n",
    "print(cm)"
   ]
  },
  {
   "cell_type": "code",
   "execution_count": 26,
   "id": "7cdfbba6",
   "metadata": {
    "execution": {
     "iopub.execute_input": "2024-04-01T00:56:11.442050Z",
     "iopub.status.busy": "2024-04-01T00:56:11.441215Z",
     "iopub.status.idle": "2024-04-01T00:56:11.446385Z",
     "shell.execute_reply": "2024-04-01T00:56:11.445273Z"
    },
    "papermill": {
     "duration": 0.03276,
     "end_time": "2024-04-01T00:56:11.448778",
     "exception": false,
     "start_time": "2024-04-01T00:56:11.416018",
     "status": "completed"
    },
    "tags": []
   },
   "outputs": [],
   "source": [
    "# 0.8797751939513577\n",
    "# 0.9604416985078744\n",
    "# [[ 74773  35569]\n",
    "#  [ 43666 505049]]\n",
    "# ngram_range=(min,max) in CountVectorizer, (2,2) 0.8672982761733811, 0.9460343957068968"
   ]
  },
  {
   "cell_type": "markdown",
   "id": "b9e77ae9",
   "metadata": {
    "papermill": {
     "duration": 0.024129,
     "end_time": "2024-04-01T00:56:11.496806",
     "exception": false,
     "start_time": "2024-04-01T00:56:11.472677",
     "status": "completed"
    },
    "tags": []
   },
   "source": [
    "#### TfidfVectorizer test with max_features "
   ]
  },
  {
   "cell_type": "code",
   "execution_count": 27,
   "id": "d1422613",
   "metadata": {
    "execution": {
     "iopub.execute_input": "2024-04-01T00:56:11.547409Z",
     "iopub.status.busy": "2024-04-01T00:56:11.546975Z",
     "iopub.status.idle": "2024-04-01T00:56:22.176898Z",
     "shell.execute_reply": "2024-04-01T00:56:22.175632Z"
    },
    "papermill": {
     "duration": 10.659128,
     "end_time": "2024-04-01T00:56:22.179781",
     "exception": false,
     "start_time": "2024-04-01T00:56:11.520653",
     "status": "completed"
    },
    "tags": []
   },
   "outputs": [],
   "source": [
    "# Initialize a TfidfVectorizer object: tfidf_vectorizer\n",
    "tfidf_vectorizer = TfidfVectorizer(stop_words=\"english\", max_df=0.8, max_features=2000)\n",
    "\n",
    "# Transform the training data: tfidf_train \n",
    "tfidf_train = tfidf_vectorizer.fit_transform(X_train) \n",
    "\n",
    "# Transform the test data: tfidf_test \n",
    "tfidf_test = tfidf_vectorizer.transform(X_test)"
   ]
  },
  {
   "cell_type": "code",
   "execution_count": 28,
   "id": "7f28f589",
   "metadata": {
    "execution": {
     "iopub.execute_input": "2024-04-01T00:56:22.229935Z",
     "iopub.status.busy": "2024-04-01T00:56:22.229496Z",
     "iopub.status.idle": "2024-04-01T00:56:22.277632Z",
     "shell.execute_reply": "2024-04-01T00:56:22.276342Z"
    },
    "papermill": {
     "duration": 0.075941,
     "end_time": "2024-04-01T00:56:22.279994",
     "exception": false,
     "start_time": "2024-04-01T00:56:22.204053",
     "status": "completed"
    },
    "tags": []
   },
   "outputs": [
    {
     "name": "stdout",
     "output_type": "stream",
     "text": [
      "0.8860606060606061\n",
      "0.9429143774048497\n",
      "[[  769  3651]\n",
      " [  109 28471]]\n"
     ]
    }
   ],
   "source": [
    "nb_classifier = MultinomialNB()\n",
    "\n",
    "testModel(nb_classifier, tfidf_train, tfidf_test)"
   ]
  },
  {
   "cell_type": "code",
   "execution_count": 29,
   "id": "eadd6ae8",
   "metadata": {
    "execution": {
     "iopub.execute_input": "2024-04-01T00:56:22.330210Z",
     "iopub.status.busy": "2024-04-01T00:56:22.329835Z",
     "iopub.status.idle": "2024-04-01T00:57:17.471722Z",
     "shell.execute_reply": "2024-04-01T00:57:17.470457Z"
    },
    "papermill": {
     "duration": 55.19382,
     "end_time": "2024-04-01T00:57:17.497955",
     "exception": false,
     "start_time": "2024-04-01T00:56:22.304135",
     "status": "completed"
    },
    "tags": []
   },
   "outputs": [
    {
     "name": "stdout",
     "output_type": "stream",
     "text": [
      "0.8409090909090909\n",
      "0.9475324193015844\n",
      "[[ 1762  2658]\n",
      " [ 2592 25988]]\n"
     ]
    }
   ],
   "source": [
    "from sklearn.tree import DecisionTreeClassifier\n",
    "\n",
    "# Initialize the DecisionTreeClassifier\n",
    "decision_tree = DecisionTreeClassifier()\n",
    "\n",
    "testModel(decision_tree, tfidf_train, tfidf_test)\n",
    "# running time very very long "
   ]
  },
  {
   "cell_type": "code",
   "execution_count": 30,
   "id": "f593486c",
   "metadata": {
    "execution": {
     "iopub.execute_input": "2024-04-01T00:57:17.549175Z",
     "iopub.status.busy": "2024-04-01T00:57:17.548146Z",
     "iopub.status.idle": "2024-04-01T00:57:18.666640Z",
     "shell.execute_reply": "2024-04-01T00:57:18.665434Z"
    },
    "papermill": {
     "duration": 1.146984,
     "end_time": "2024-04-01T00:57:18.669171",
     "exception": false,
     "start_time": "2024-04-01T00:57:17.522187",
     "status": "completed"
    },
    "tags": []
   },
   "outputs": [
    {
     "name": "stdout",
     "output_type": "stream",
     "text": [
      "0.9096363636363637\n",
      "0.9587239667915386\n",
      "[[ 1982  2438]\n",
      " [  544 28036]]\n"
     ]
    }
   ],
   "source": [
    "from sklearn.linear_model import LogisticRegression\n",
    "\n",
    "# Initialize the logistic regression model\n",
    "logistic_regression = LogisticRegression(max_iter = 400) #Maximum number of iterations taken for the solvers to converge\n",
    "\n",
    "testModel(logistic_regression, tfidf_train, tfidf_test)"
   ]
  },
  {
   "cell_type": "code",
   "execution_count": 31,
   "id": "d197c4cb",
   "metadata": {
    "execution": {
     "iopub.execute_input": "2024-04-01T00:57:18.720237Z",
     "iopub.status.busy": "2024-04-01T00:57:18.719143Z",
     "iopub.status.idle": "2024-04-01T00:59:45.537694Z",
     "shell.execute_reply": "2024-04-01T00:59:45.536351Z"
    },
    "papermill": {
     "duration": 146.87183,
     "end_time": "2024-04-01T00:59:45.565469",
     "exception": false,
     "start_time": "2024-04-01T00:57:18.693639",
     "status": "completed"
    },
    "tags": []
   },
   "outputs": [
    {
     "name": "stdout",
     "output_type": "stream",
     "text": [
      "0.8926363636363637\n",
      "0.947663847070314\n",
      "[[ 1158  3262]\n",
      " [  281 28299]]\n"
     ]
    }
   ],
   "source": [
    "from sklearn.ensemble import RandomForestClassifier\n",
    "\n",
    "# Initialize the RandomForestClassifier with default parameters\n",
    "random_forest = RandomForestClassifier()\n",
    "\n",
    "testModel(random_forest, tfidf_train, tfidf_test)"
   ]
  },
  {
   "cell_type": "code",
   "execution_count": 32,
   "id": "9cffd80c",
   "metadata": {
    "execution": {
     "iopub.execute_input": "2024-04-01T00:59:45.617574Z",
     "iopub.status.busy": "2024-04-01T00:59:45.617148Z",
     "iopub.status.idle": "2024-04-01T00:59:46.576026Z",
     "shell.execute_reply": "2024-04-01T00:59:46.574576Z"
    },
    "papermill": {
     "duration": 0.987106,
     "end_time": "2024-04-01T00:59:46.578538",
     "exception": false,
     "start_time": "2024-04-01T00:59:45.591432",
     "status": "completed"
    },
    "tags": []
   },
   "outputs": [
    {
     "name": "stdout",
     "output_type": "stream",
     "text": [
      "0.9103333333333333\n",
      "0.9604612370877422\n",
      "[[ 2125  2295]\n",
      " [  664 27916]]\n"
     ]
    }
   ],
   "source": [
    "from sklearn.svm import LinearSVC\n",
    "\n",
    "# Initialize the LinearSVC model\n",
    "linear_svc = LinearSVC()\n",
    "\n",
    "testModel(linear_svc, tfidf_train, tfidf_test)"
   ]
  },
  {
   "cell_type": "code",
   "execution_count": 33,
   "id": "36b3516d",
   "metadata": {
    "execution": {
     "iopub.execute_input": "2024-04-01T00:59:46.629237Z",
     "iopub.status.busy": "2024-04-01T00:59:46.628818Z",
     "iopub.status.idle": "2024-04-01T00:59:46.757577Z",
     "shell.execute_reply": "2024-04-01T00:59:46.756239Z"
    },
    "papermill": {
     "duration": 0.156973,
     "end_time": "2024-04-01T00:59:46.760099",
     "exception": false,
     "start_time": "2024-04-01T00:59:46.603126",
     "status": "completed"
    },
    "tags": []
   },
   "outputs": [
    {
     "name": "stdout",
     "output_type": "stream",
     "text": [
      "0.8693939393939394\n",
      "0.9570367111671463\n",
      "[[ 2248  2172]\n",
      " [ 2138 26442]]\n"
     ]
    }
   ],
   "source": [
    "from sklearn.linear_model import Perceptron\n",
    "\n",
    "# Initialize the Perceptron model\n",
    "perceptron = Perceptron()\n",
    "\n",
    "testModel(perceptron, tfidf_train, tfidf_test)"
   ]
  },
  {
   "cell_type": "code",
   "execution_count": 34,
   "id": "452a41d5",
   "metadata": {
    "execution": {
     "iopub.execute_input": "2024-04-01T00:59:46.812191Z",
     "iopub.status.busy": "2024-04-01T00:59:46.811794Z",
     "iopub.status.idle": "2024-04-01T01:01:28.048077Z",
     "shell.execute_reply": "2024-04-01T01:01:28.046757Z"
    },
    "papermill": {
     "duration": 101.290248,
     "end_time": "2024-04-01T01:01:28.075546",
     "exception": false,
     "start_time": "2024-04-01T00:59:46.785298",
     "status": "completed"
    },
    "tags": []
   },
   "outputs": [
    {
     "name": "stdout",
     "output_type": "stream",
     "text": [
      "0.9066060606060606\n",
      "0.9583809021321104\n",
      "[[ 1984  2436]\n",
      " [  646 27934]]\n"
     ]
    }
   ],
   "source": [
    "import xgboost as xgb\n",
    "\n",
    "# Convert your data into DMatrix format, which is optimized for XGBoost\n",
    "dtrain = xgb.DMatrix(tfidf_train, label=y_train)\n",
    "\n",
    "# Set the parameters for the XGBoost model\n",
    "params = {\n",
    "    'objective': 'binary:logistic',  # Assuming binary classification\n",
    "    'eval_metric': 'logloss'  # Use log loss as the evaluation metric\n",
    "}\n",
    "\n",
    "# Train the XGBoost model\n",
    "num_rounds = 500  # Number of boosting rounds\n",
    "xgb_model = xgb.train(params, dtrain, num_rounds)\n",
    "\n",
    "dtest = xgb.DMatrix(tfidf_test)\n",
    "\n",
    "# Make predictions on the test data\n",
    "y_pred_proba = xgb_model.predict(dtest)  # Predict probabilities\n",
    "y_pred = [1 if pred > 0.5 else 0 for pred in y_pred_proba]  # Convert probabilities to binary predictions\n",
    "\n",
    "score = accuracy_score(y_test, y_pred)\n",
    "print(score)\n",
    "\n",
    "pr_score = pr_auc_score(y_test, y_pred)\n",
    "print(pr_score)\n",
    "cm = confusion_matrix(y_test, y_pred, labels=[0, 1])\n",
    "print(cm)"
   ]
  },
  {
   "cell_type": "markdown",
   "id": "bbafbbde",
   "metadata": {
    "papermill": {
     "duration": 0.024962,
     "end_time": "2024-04-01T01:01:28.125558",
     "exception": false,
     "start_time": "2024-04-01T01:01:28.100596",
     "status": "completed"
    },
    "tags": []
   },
   "source": [
    "### CountVectorizer approach"
   ]
  },
  {
   "cell_type": "code",
   "execution_count": 35,
   "id": "5087b00d",
   "metadata": {
    "execution": {
     "iopub.execute_input": "2024-04-01T01:01:28.177523Z",
     "iopub.status.busy": "2024-04-01T01:01:28.177071Z",
     "iopub.status.idle": "2024-04-01T01:01:36.525812Z",
     "shell.execute_reply": "2024-04-01T01:01:36.524856Z"
    },
    "papermill": {
     "duration": 8.377627,
     "end_time": "2024-04-01T01:01:36.528498",
     "exception": false,
     "start_time": "2024-04-01T01:01:28.150871",
     "status": "completed"
    },
    "tags": []
   },
   "outputs": [],
   "source": [
    "#BOW\n",
    "\n",
    "# Initialize a CountVectorizer object: count_vectorizer\n",
    "count_vectorizer = CountVectorizer(stop_words='english')\n",
    "\n",
    "# Transform the training data using only the 'text' column values: count_train \n",
    "count_train = count_vectorizer.fit_transform(X_train)\n",
    "\n",
    "# Transform the test data using only the 'text' column values: count_test \n",
    "count_test = count_vectorizer.transform(X_test)"
   ]
  },
  {
   "cell_type": "code",
   "execution_count": 36,
   "id": "e3d591dc",
   "metadata": {
    "execution": {
     "iopub.execute_input": "2024-04-01T01:01:36.581045Z",
     "iopub.status.busy": "2024-04-01T01:01:36.580392Z",
     "iopub.status.idle": "2024-04-01T01:01:36.646074Z",
     "shell.execute_reply": "2024-04-01T01:01:36.644817Z"
    },
    "papermill": {
     "duration": 0.094538,
     "end_time": "2024-04-01T01:01:36.648549",
     "exception": false,
     "start_time": "2024-04-01T01:01:36.554011",
     "status": "completed"
    },
    "tags": []
   },
   "outputs": [
    {
     "data": {
      "text/plain": [
       "array(['00', '000', '000g', '001', '0021', '0029', '006602', '0069',\n",
       "       '007', '007banjo'], dtype=object)"
      ]
     },
     "execution_count": 36,
     "metadata": {},
     "output_type": "execute_result"
    }
   ],
   "source": [
    "count_vectorizer.get_feature_names_out()[:10]"
   ]
  },
  {
   "cell_type": "code",
   "execution_count": 37,
   "id": "48a04880",
   "metadata": {
    "execution": {
     "iopub.execute_input": "2024-04-01T01:01:36.707225Z",
     "iopub.status.busy": "2024-04-01T01:01:36.706289Z",
     "iopub.status.idle": "2024-04-01T01:01:36.799234Z",
     "shell.execute_reply": "2024-04-01T01:01:36.798091Z"
    },
    "papermill": {
     "duration": 0.129131,
     "end_time": "2024-04-01T01:01:36.803025",
     "exception": false,
     "start_time": "2024-04-01T01:01:36.673894",
     "status": "completed"
    },
    "tags": []
   },
   "outputs": [
    {
     "data": {
      "text/plain": [
       "51685"
      ]
     },
     "execution_count": 37,
     "metadata": {},
     "output_type": "execute_result"
    }
   ],
   "source": [
    "len(count_vectorizer.get_feature_names_out())"
   ]
  },
  {
   "cell_type": "code",
   "execution_count": 38,
   "id": "86dac078",
   "metadata": {
    "execution": {
     "iopub.execute_input": "2024-04-01T01:01:36.859437Z",
     "iopub.status.busy": "2024-04-01T01:01:36.858586Z",
     "iopub.status.idle": "2024-04-01T01:01:36.865896Z",
     "shell.execute_reply": "2024-04-01T01:01:36.864674Z"
    },
    "papermill": {
     "duration": 0.038561,
     "end_time": "2024-04-01T01:01:36.868301",
     "exception": false,
     "start_time": "2024-04-01T01:01:36.829740",
     "status": "completed"
    },
    "tags": []
   },
   "outputs": [
    {
     "data": {
      "text/plain": [
       "<67000x51685 sparse matrix of type '<class 'numpy.int64'>'\n",
       "\twith 1887007 stored elements in Compressed Sparse Row format>"
      ]
     },
     "execution_count": 38,
     "metadata": {},
     "output_type": "execute_result"
    }
   ],
   "source": [
    "count_train"
   ]
  },
  {
   "cell_type": "markdown",
   "id": "a3189447",
   "metadata": {
    "papermill": {
     "duration": 0.030903,
     "end_time": "2024-04-01T01:01:36.936601",
     "exception": false,
     "start_time": "2024-04-01T01:01:36.905698",
     "status": "completed"
    },
    "tags": []
   },
   "source": [
    "### TfidfVectorizer approach"
   ]
  },
  {
   "cell_type": "code",
   "execution_count": 39,
   "id": "e4792f3b",
   "metadata": {
    "execution": {
     "iopub.execute_input": "2024-04-01T01:01:36.998598Z",
     "iopub.status.busy": "2024-04-01T01:01:36.997777Z",
     "iopub.status.idle": "2024-04-01T01:01:45.596725Z",
     "shell.execute_reply": "2024-04-01T01:01:45.595529Z"
    },
    "papermill": {
     "duration": 8.631539,
     "end_time": "2024-04-01T01:01:45.599528",
     "exception": false,
     "start_time": "2024-04-01T01:01:36.967989",
     "status": "completed"
    },
    "tags": []
   },
   "outputs": [],
   "source": [
    "# Initialize a TfidfVectorizer object: tfidf_vectorizer\n",
    "tfidf_vectorizer = TfidfVectorizer(stop_words=\"english\", max_df=0.7)\n",
    "\n",
    "# Transform the training data: tfidf_train \n",
    "tfidf_train = tfidf_vectorizer.fit_transform(X_train) \n",
    "\n",
    "# Transform the test data: tfidf_test \n",
    "tfidf_test = tfidf_vectorizer.transform(X_test)"
   ]
  },
  {
   "cell_type": "code",
   "execution_count": 40,
   "id": "c30ba996",
   "metadata": {
    "execution": {
     "iopub.execute_input": "2024-04-01T01:01:45.652131Z",
     "iopub.status.busy": "2024-04-01T01:01:45.651696Z",
     "iopub.status.idle": "2024-04-01T01:01:45.721915Z",
     "shell.execute_reply": "2024-04-01T01:01:45.720733Z"
    },
    "papermill": {
     "duration": 0.099565,
     "end_time": "2024-04-01T01:01:45.724587",
     "exception": false,
     "start_time": "2024-04-01T01:01:45.625022",
     "status": "completed"
    },
    "tags": []
   },
   "outputs": [
    {
     "data": {
      "text/plain": [
       "51685"
      ]
     },
     "execution_count": 40,
     "metadata": {},
     "output_type": "execute_result"
    }
   ],
   "source": [
    "len(tfidf_vectorizer.get_feature_names_out())"
   ]
  },
  {
   "cell_type": "code",
   "execution_count": 41,
   "id": "5a8a371d",
   "metadata": {
    "execution": {
     "iopub.execute_input": "2024-04-01T01:01:45.779108Z",
     "iopub.status.busy": "2024-04-01T01:01:45.778698Z",
     "iopub.status.idle": "2024-04-01T01:01:45.846552Z",
     "shell.execute_reply": "2024-04-01T01:01:45.845347Z"
    },
    "papermill": {
     "duration": 0.098349,
     "end_time": "2024-04-01T01:01:45.849161",
     "exception": false,
     "start_time": "2024-04-01T01:01:45.750812",
     "status": "completed"
    },
    "tags": []
   },
   "outputs": [
    {
     "data": {
      "text/plain": [
       "array(['00', '000', '000g', '001', '0021', '0029', '006602', '0069',\n",
       "       '007', '007banjo'], dtype=object)"
      ]
     },
     "execution_count": 41,
     "metadata": {},
     "output_type": "execute_result"
    }
   ],
   "source": [
    "tfidf_vectorizer.get_feature_names_out()[:10]"
   ]
  },
  {
   "cell_type": "code",
   "execution_count": 42,
   "id": "82462b86",
   "metadata": {
    "execution": {
     "iopub.execute_input": "2024-04-01T01:01:45.902805Z",
     "iopub.status.busy": "2024-04-01T01:01:45.902408Z",
     "iopub.status.idle": "2024-04-01T01:01:45.908898Z",
     "shell.execute_reply": "2024-04-01T01:01:45.908076Z"
    },
    "papermill": {
     "duration": 0.03633,
     "end_time": "2024-04-01T01:01:45.911213",
     "exception": false,
     "start_time": "2024-04-01T01:01:45.874883",
     "status": "completed"
    },
    "tags": []
   },
   "outputs": [
    {
     "data": {
      "text/plain": [
       "<67000x51685 sparse matrix of type '<class 'numpy.float64'>'\n",
       "\twith 1887007 stored elements in Compressed Sparse Row format>"
      ]
     },
     "execution_count": 42,
     "metadata": {},
     "output_type": "execute_result"
    }
   ],
   "source": [
    "tfidf_train"
   ]
  },
  {
   "cell_type": "markdown",
   "id": "c664bda7",
   "metadata": {
    "papermill": {
     "duration": 0.025206,
     "end_time": "2024-04-01T01:01:45.961961",
     "exception": false,
     "start_time": "2024-04-01T01:01:45.936755",
     "status": "completed"
    },
    "tags": []
   },
   "source": [
    "#### Model test Count"
   ]
  },
  {
   "cell_type": "code",
   "execution_count": 43,
   "id": "eaf865a4",
   "metadata": {
    "execution": {
     "iopub.execute_input": "2024-04-01T01:01:46.015367Z",
     "iopub.status.busy": "2024-04-01T01:01:46.014592Z",
     "iopub.status.idle": "2024-04-01T01:01:46.073732Z",
     "shell.execute_reply": "2024-04-01T01:01:46.071948Z"
    },
    "papermill": {
     "duration": 0.089006,
     "end_time": "2024-04-01T01:01:46.076556",
     "exception": false,
     "start_time": "2024-04-01T01:01:45.987550",
     "status": "completed"
    },
    "tags": []
   },
   "outputs": [
    {
     "name": "stdout",
     "output_type": "stream",
     "text": [
      "0.8964848484848484\n",
      "0.9617608207641024\n",
      "[[ 2369  2051]\n",
      " [ 1365 27215]]\n"
     ]
    }
   ],
   "source": [
    "# Instantiate a Multinomial Naive Bayes classifier: nb_classifier\n",
    "nb_classifier = MultinomialNB()\n",
    "\n",
    "# Fit the classifier to the training data\n",
    "nb_classifier.fit(count_train, y_train)\n",
    "\n",
    "# Create the predicted tags: pred\n",
    "pred = nb_classifier.predict(count_test)\n",
    "\n",
    "# Calculate the accuracy score: score\n",
    "score = accuracy_score(y_test, pred)\n",
    "print(score)\n",
    "\n",
    "pr_score = pr_auc_score(y_test, pred)\n",
    "print(pr_score)\n",
    "# Calculate the confusion matrix: cm\n",
    "cm = confusion_matrix(y_test, pred, labels=[0, 1])\n",
    "print(cm)"
   ]
  },
  {
   "cell_type": "code",
   "execution_count": 44,
   "id": "1bc5b3ba",
   "metadata": {
    "execution": {
     "iopub.execute_input": "2024-04-01T01:01:46.131378Z",
     "iopub.status.busy": "2024-04-01T01:01:46.130967Z",
     "iopub.status.idle": "2024-04-01T01:01:46.487156Z",
     "shell.execute_reply": "2024-04-01T01:01:46.485968Z"
    },
    "papermill": {
     "duration": 0.386622,
     "end_time": "2024-04-01T01:01:46.489764",
     "exception": false,
     "start_time": "2024-04-01T01:01:46.103142",
     "status": "completed"
    },
    "tags": []
   },
   "outputs": [
    {
     "data": {
      "image/png": "[encoded data removed]",
      "text/plain": [
       "<Figure size 800x600 with 2 Axes>"
      ]
     },
     "metadata": {},
     "output_type": "display_data"
    }
   ],
   "source": [
    "class_labels = ['REAL', 'SPAM']\n",
    "# Plot confusion matrix\n",
    "def plot_cmatrix(cm, class_labels):\n",
    "    plt.figure(figsize=(8, 6))\n",
    "    sns.heatmap(cm, annot=True, fmt='d', cmap='Blues', xticklabels=class_labels, yticklabels=class_labels)\n",
    "    plt.xlabel('Predicted')\n",
    "    plt.ylabel('True')\n",
    "    plt.title('Confusion Matrix')\n",
    "    plt.show()\n",
    "plot_cmatrix(cm, class_labels)"
   ]
  },
  {
   "cell_type": "markdown",
   "id": "712689fb",
   "metadata": {
    "papermill": {
     "duration": 0.027139,
     "end_time": "2024-04-01T01:01:46.543126",
     "exception": false,
     "start_time": "2024-04-01T01:01:46.515987",
     "status": "completed"
    },
    "tags": []
   },
   "source": [
    "#### Model test tf-idf"
   ]
  },
  {
   "cell_type": "code",
   "execution_count": 45,
   "id": "8492cec1",
   "metadata": {
    "execution": {
     "iopub.execute_input": "2024-04-01T01:01:46.599077Z",
     "iopub.status.busy": "2024-04-01T01:01:46.598238Z",
     "iopub.status.idle": "2024-04-01T01:01:46.655275Z",
     "shell.execute_reply": "2024-04-01T01:01:46.654119Z"
    },
    "papermill": {
     "duration": 0.088402,
     "end_time": "2024-04-01T01:01:46.657918",
     "exception": false,
     "start_time": "2024-04-01T01:01:46.569516",
     "status": "completed"
    },
    "tags": []
   },
   "outputs": [
    {
     "name": "stdout",
     "output_type": "stream",
     "text": [
      "0.8664545454545455\n",
      "0.933244795932389\n",
      "[[   18  4402]\n",
      " [    5 28575]]\n"
     ]
    }
   ],
   "source": [
    "# Fit the classifier to the training data\n",
    "nb_classifier.fit(tfidf_train, y_train)\n",
    "\n",
    "# Create the predicted tags: pred\n",
    "pred = nb_classifier.predict(tfidf_test)\n",
    "\n",
    "# Calculate the accuracy score: score\n",
    "score = accuracy_score(y_test, pred)\n",
    "print(score)\n",
    "\n",
    "pr_score = pr_auc_score(y_test, pred)\n",
    "print(pr_score)\n",
    "# Calculate the confusion matrix: cm\n",
    "cm = confusion_matrix(y_test, pred, labels=[0, 1])\n",
    "print(cm)"
   ]
  },
  {
   "cell_type": "code",
   "execution_count": 46,
   "id": "e0eaa0c8",
   "metadata": {
    "execution": {
     "iopub.execute_input": "2024-04-01T01:01:46.714778Z",
     "iopub.status.busy": "2024-04-01T01:01:46.713905Z",
     "iopub.status.idle": "2024-04-01T01:01:47.025634Z",
     "shell.execute_reply": "2024-04-01T01:01:47.024485Z"
    },
    "papermill": {
     "duration": 0.342656,
     "end_time": "2024-04-01T01:01:47.028406",
     "exception": false,
     "start_time": "2024-04-01T01:01:46.685750",
     "status": "completed"
    },
    "tags": []
   },
   "outputs": [
    {
     "data": {
      "image/png": "[encoded data removed]",
      "text/plain": [
       "<Figure size 800x600 with 2 Axes>"
      ]
     },
     "metadata": {},
     "output_type": "display_data"
    }
   ],
   "source": [
    "plot_cmatrix(cm, class_labels)"
   ]
  },
  {
   "cell_type": "markdown",
   "id": "ac7d98f6",
   "metadata": {
    "papermill": {
     "duration": 0.026728,
     "end_time": "2024-04-01T01:01:47.083312",
     "exception": false,
     "start_time": "2024-04-01T01:01:47.056584",
     "status": "completed"
    },
    "tags": []
   },
   "source": [
    "#### Count + Tf-IDF"
   ]
  },
  {
   "cell_type": "code",
   "execution_count": 47,
   "id": "37009b58",
   "metadata": {
    "execution": {
     "iopub.execute_input": "2024-04-01T01:01:47.158373Z",
     "iopub.status.busy": "2024-04-01T01:01:47.157646Z",
     "iopub.status.idle": "2024-04-01T01:01:57.817998Z",
     "shell.execute_reply": "2024-04-01T01:01:57.816954Z"
    },
    "papermill": {
     "duration": 10.70441,
     "end_time": "2024-04-01T01:01:57.820701",
     "exception": false,
     "start_time": "2024-04-01T01:01:47.116291",
     "status": "completed"
    },
    "tags": []
   },
   "outputs": [],
   "source": [
    "# Limiting the vocabulary size\n",
    "vectorizer = CountVectorizer(stop_words='english', max_df=0.8,max_features=100000)\n",
    "X_counts_train = vectorizer.fit_transform(X_train)\n",
    "X_counts_test = vectorizer.transform(X_test)\n",
    "\n",
    "# Applying TF-IDF transformation\n",
    "tfidf_transformer = TfidfTransformer()\n",
    "X_cb_train = tfidf_transformer.fit_transform(X_counts_train)\n",
    "X_cb_test = tfidf_transformer.transform(X_counts_test)"
   ]
  },
  {
   "cell_type": "code",
   "execution_count": 48,
   "id": "9629daab",
   "metadata": {
    "execution": {
     "iopub.execute_input": "2024-04-01T01:01:57.876339Z",
     "iopub.status.busy": "2024-04-01T01:01:57.875904Z",
     "iopub.status.idle": "2024-04-01T01:01:57.902621Z",
     "shell.execute_reply": "2024-04-01T01:01:57.901434Z"
    },
    "papermill": {
     "duration": 0.058083,
     "end_time": "2024-04-01T01:01:57.905786",
     "exception": false,
     "start_time": "2024-04-01T01:01:57.847703",
     "status": "completed"
    },
    "tags": []
   },
   "outputs": [
    {
     "name": "stdout",
     "output_type": "stream",
     "text": [
      "51685\n"
     ]
    }
   ],
   "source": [
    "print(len(tfidf_transformer.get_feature_names_out()))"
   ]
  },
  {
   "cell_type": "code",
   "execution_count": 49,
   "id": "ddcf2f73",
   "metadata": {
    "execution": {
     "iopub.execute_input": "2024-04-01T01:01:57.962748Z",
     "iopub.status.busy": "2024-04-01T01:01:57.962345Z",
     "iopub.status.idle": "2024-04-01T01:01:57.969673Z",
     "shell.execute_reply": "2024-04-01T01:01:57.968533Z"
    },
    "papermill": {
     "duration": 0.038877,
     "end_time": "2024-04-01T01:01:57.972091",
     "exception": false,
     "start_time": "2024-04-01T01:01:57.933214",
     "status": "completed"
    },
    "tags": []
   },
   "outputs": [
    {
     "data": {
      "text/plain": [
       "<67000x51685 sparse matrix of type '<class 'numpy.float64'>'\n",
       "\twith 1887007 stored elements in Compressed Sparse Row format>"
      ]
     },
     "execution_count": 49,
     "metadata": {},
     "output_type": "execute_result"
    }
   ],
   "source": [
    "X_cb_train"
   ]
  },
  {
   "cell_type": "code",
   "execution_count": 50,
   "id": "829058f5",
   "metadata": {
    "execution": {
     "iopub.execute_input": "2024-04-01T01:01:58.028241Z",
     "iopub.status.busy": "2024-04-01T01:01:58.027849Z",
     "iopub.status.idle": "2024-04-01T01:01:58.032713Z",
     "shell.execute_reply": "2024-04-01T01:01:58.031508Z"
    },
    "papermill": {
     "duration": 0.035709,
     "end_time": "2024-04-01T01:01:58.035145",
     "exception": false,
     "start_time": "2024-04-01T01:01:57.999436",
     "status": "completed"
    },
    "tags": []
   },
   "outputs": [],
   "source": [
    "# X_cb_train.A[:5]"
   ]
  },
  {
   "cell_type": "code",
   "execution_count": 51,
   "id": "ceb71a3b",
   "metadata": {
    "execution": {
     "iopub.execute_input": "2024-04-01T01:01:58.091940Z",
     "iopub.status.busy": "2024-04-01T01:01:58.091542Z",
     "iopub.status.idle": "2024-04-01T01:01:58.095898Z",
     "shell.execute_reply": "2024-04-01T01:01:58.094768Z"
    },
    "papermill": {
     "duration": 0.035753,
     "end_time": "2024-04-01T01:01:58.098280",
     "exception": false,
     "start_time": "2024-04-01T01:01:58.062527",
     "status": "completed"
    },
    "tags": []
   },
   "outputs": [],
   "source": [
    "# cb_df = pd.DataFrame(X_cb_train.toarray(), columns=tfidf_transformer.get_feature_names_out())\n",
    "# cb_df"
   ]
  },
  {
   "cell_type": "code",
   "execution_count": 52,
   "id": "a47be2f4",
   "metadata": {
    "execution": {
     "iopub.execute_input": "2024-04-01T01:01:58.155215Z",
     "iopub.status.busy": "2024-04-01T01:01:58.154779Z",
     "iopub.status.idle": "2024-04-01T01:01:58.213354Z",
     "shell.execute_reply": "2024-04-01T01:01:58.211921Z"
    },
    "papermill": {
     "duration": 0.089842,
     "end_time": "2024-04-01T01:01:58.216076",
     "exception": false,
     "start_time": "2024-04-01T01:01:58.126234",
     "status": "completed"
    },
    "tags": []
   },
   "outputs": [
    {
     "name": "stdout",
     "output_type": "stream",
     "text": [
      "0.8664545454545455\n",
      "0.933244795932389\n",
      "[[   18  4402]\n",
      " [    5 28575]]\n"
     ]
    }
   ],
   "source": [
    "# Fit the classifier to the training data\n",
    "nb_classifier.fit(X_cb_train, y_train)\n",
    "\n",
    "# Create the predicted tags: pred\n",
    "pred = nb_classifier.predict(X_cb_test)\n",
    "\n",
    "# Calculate the accuracy score: score\n",
    "score = accuracy_score(y_test, pred)\n",
    "print(score)\n",
    "\n",
    "pr_score = pr_auc_score(y_test, pred)\n",
    "print(pr_score)\n",
    "# Calculate the confusion matrix: cm\n",
    "cm = confusion_matrix(y_test, pred, labels=[0, 1])\n",
    "print(cm)"
   ]
  },
  {
   "cell_type": "code",
   "execution_count": 53,
   "id": "74554167",
   "metadata": {
    "execution": {
     "iopub.execute_input": "2024-04-01T01:01:58.272754Z",
     "iopub.status.busy": "2024-04-01T01:01:58.272294Z",
     "iopub.status.idle": "2024-04-01T01:01:58.586091Z",
     "shell.execute_reply": "2024-04-01T01:01:58.584772Z"
    },
    "papermill": {
     "duration": 0.344967,
     "end_time": "2024-04-01T01:01:58.588451",
     "exception": false,
     "start_time": "2024-04-01T01:01:58.243484",
     "status": "completed"
    },
    "tags": []
   },
   "outputs": [
    {
     "data": {
      "image/png": "[encoded data removed]",
      "text/plain": [
       "<Figure size 800x600 with 2 Axes>"
      ]
     },
     "metadata": {},
     "output_type": "display_data"
    }
   ],
   "source": [
    "plot_cmatrix(cm, class_labels)"
   ]
  },
  {
   "cell_type": "code",
   "execution_count": 54,
   "id": "f4387ee7",
   "metadata": {
    "execution": {
     "iopub.execute_input": "2024-04-01T01:01:58.646218Z",
     "iopub.status.busy": "2024-04-01T01:01:58.645784Z",
     "iopub.status.idle": "2024-04-01T01:02:00.609411Z",
     "shell.execute_reply": "2024-04-01T01:02:00.608138Z"
    },
    "papermill": {
     "duration": 1.995487,
     "end_time": "2024-04-01T01:02:00.611775",
     "exception": false,
     "start_time": "2024-04-01T01:01:58.616288",
     "status": "completed"
    },
    "tags": []
   },
   "outputs": [
    {
     "name": "stderr",
     "output_type": "stream",
     "text": [
      "/opt/conda/lib/python3.10/site-packages/sklearn/naive_bayes.py:629: FutureWarning: The default value for `force_alpha` will change to `True` in 1.4. To suppress this warning, manually set the value of `force_alpha`.\n",
      "  warnings.warn(\n",
      "/opt/conda/lib/python3.10/site-packages/sklearn/naive_bayes.py:635: UserWarning: alpha too small will result in numeric errors, setting alpha = 1.0e-10. Use `force_alpha=True` to keep alpha unchanged.\n",
      "  warnings.warn(\n",
      "/opt/conda/lib/python3.10/site-packages/sklearn/naive_bayes.py:629: FutureWarning: The default value for `force_alpha` will change to `True` in 1.4. To suppress this warning, manually set the value of `force_alpha`.\n",
      "  warnings.warn(\n",
      "/opt/conda/lib/python3.10/site-packages/sklearn/naive_bayes.py:635: UserWarning: alpha too small will result in numeric errors, setting alpha = 1.0e-10. Use `force_alpha=True` to keep alpha unchanged.\n",
      "  warnings.warn(\n",
      "/opt/conda/lib/python3.10/site-packages/sklearn/naive_bayes.py:629: FutureWarning: The default value for `force_alpha` will change to `True` in 1.4. To suppress this warning, manually set the value of `force_alpha`.\n",
      "  warnings.warn(\n",
      "/opt/conda/lib/python3.10/site-packages/sklearn/naive_bayes.py:635: UserWarning: alpha too small will result in numeric errors, setting alpha = 1.0e-10. Use `force_alpha=True` to keep alpha unchanged.\n",
      "  warnings.warn(\n",
      "/opt/conda/lib/python3.10/site-packages/sklearn/naive_bayes.py:629: FutureWarning: The default value for `force_alpha` will change to `True` in 1.4. To suppress this warning, manually set the value of `force_alpha`.\n",
      "  warnings.warn(\n",
      "/opt/conda/lib/python3.10/site-packages/sklearn/naive_bayes.py:635: UserWarning: alpha too small will result in numeric errors, setting alpha = 1.0e-10. Use `force_alpha=True` to keep alpha unchanged.\n",
      "  warnings.warn(\n",
      "/opt/conda/lib/python3.10/site-packages/sklearn/naive_bayes.py:629: FutureWarning: The default value for `force_alpha` will change to `True` in 1.4. To suppress this warning, manually set the value of `force_alpha`.\n",
      "  warnings.warn(\n",
      "/opt/conda/lib/python3.10/site-packages/sklearn/naive_bayes.py:635: UserWarning: alpha too small will result in numeric errors, setting alpha = 1.0e-10. Use `force_alpha=True` to keep alpha unchanged.\n",
      "  warnings.warn(\n"
     ]
    },
    {
     "name": "stdout",
     "output_type": "stream",
     "text": [
      "Best Alpha: 0.1\n"
     ]
    }
   ],
   "source": [
    "# Create the list of alphas\n",
    "alphas = np.arange(0, 1, 0.1)\n",
    "\n",
    "# Define the parameter grid\n",
    "param_grid = {'alpha': alphas}\n",
    "\n",
    "\n",
    "# Instantiate GridSearchCV\n",
    "grid_search = GridSearchCV(estimator=nb_classifier, param_grid=param_grid, cv=5, scoring='accuracy')\n",
    "\n",
    "# Fit the grid search to the data\n",
    "grid_search.fit(X_cb_train, y_train)\n",
    "\n",
    "# Print the best alpha value found\n",
    "print(\"Best Alpha:\", grid_search.best_params_['alpha'])"
   ]
  },
  {
   "cell_type": "code",
   "execution_count": 55,
   "id": "da4cde12",
   "metadata": {
    "execution": {
     "iopub.execute_input": "2024-04-01T01:02:00.672284Z",
     "iopub.status.busy": "2024-04-01T01:02:00.671835Z",
     "iopub.status.idle": "2024-04-01T01:02:00.733192Z",
     "shell.execute_reply": "2024-04-01T01:02:00.731865Z"
    },
    "papermill": {
     "duration": 0.094617,
     "end_time": "2024-04-01T01:02:00.735745",
     "exception": false,
     "start_time": "2024-04-01T01:02:00.641128",
     "status": "completed"
    },
    "tags": []
   },
   "outputs": [
    {
     "name": "stdout",
     "output_type": "stream",
     "text": [
      "0.8872727272727273\n",
      "0.9441913418023535\n",
      "[[  883  3537]\n",
      " [  183 28397]]\n"
     ]
    }
   ],
   "source": [
    "nb_classifier = MultinomialNB(alpha=0.1)\n",
    "\n",
    "# Fit the classifier to the training data\n",
    "nb_classifier.fit(X_cb_train, y_train)\n",
    "\n",
    "# Create the predicted tags: pred\n",
    "pred = nb_classifier.predict(X_cb_test)\n",
    "\n",
    "# Calculate the accuracy score: score\n",
    "score = accuracy_score(y_test, pred)\n",
    "print(score)\n",
    "\n",
    "pr_score = pr_auc_score(y_test, pred)\n",
    "print(pr_score)\n",
    "# Calculate the confusion matrix: cm\n",
    "cm = confusion_matrix(y_test, pred, labels=[0, 1])\n",
    "print(cm)"
   ]
  },
  {
   "cell_type": "code",
   "execution_count": 56,
   "id": "879533a5",
   "metadata": {
    "execution": {
     "iopub.execute_input": "2024-04-01T01:02:00.797035Z",
     "iopub.status.busy": "2024-04-01T01:02:00.796437Z",
     "iopub.status.idle": "2024-04-01T01:02:03.145882Z",
     "shell.execute_reply": "2024-04-01T01:02:03.144548Z"
    },
    "papermill": {
     "duration": 2.383863,
     "end_time": "2024-04-01T01:02:03.148563",
     "exception": false,
     "start_time": "2024-04-01T01:02:00.764700",
     "status": "completed"
    },
    "tags": []
   },
   "outputs": [
    {
     "name": "stderr",
     "output_type": "stream",
     "text": [
      "/opt/conda/lib/python3.10/site-packages/sklearn/naive_bayes.py:629: FutureWarning: The default value for `force_alpha` will change to `True` in 1.4. To suppress this warning, manually set the value of `force_alpha`.\n",
      "  warnings.warn(\n",
      "/opt/conda/lib/python3.10/site-packages/sklearn/naive_bayes.py:635: UserWarning: alpha too small will result in numeric errors, setting alpha = 1.0e-10. Use `force_alpha=True` to keep alpha unchanged.\n",
      "  warnings.warn(\n",
      "/opt/conda/lib/python3.10/site-packages/sklearn/naive_bayes.py:629: FutureWarning: The default value for `force_alpha` will change to `True` in 1.4. To suppress this warning, manually set the value of `force_alpha`.\n",
      "  warnings.warn(\n",
      "/opt/conda/lib/python3.10/site-packages/sklearn/naive_bayes.py:635: UserWarning: alpha too small will result in numeric errors, setting alpha = 1.0e-10. Use `force_alpha=True` to keep alpha unchanged.\n",
      "  warnings.warn(\n",
      "/opt/conda/lib/python3.10/site-packages/sklearn/naive_bayes.py:629: FutureWarning: The default value for `force_alpha` will change to `True` in 1.4. To suppress this warning, manually set the value of `force_alpha`.\n",
      "  warnings.warn(\n",
      "/opt/conda/lib/python3.10/site-packages/sklearn/naive_bayes.py:635: UserWarning: alpha too small will result in numeric errors, setting alpha = 1.0e-10. Use `force_alpha=True` to keep alpha unchanged.\n",
      "  warnings.warn(\n",
      "/opt/conda/lib/python3.10/site-packages/sklearn/naive_bayes.py:629: FutureWarning: The default value for `force_alpha` will change to `True` in 1.4. To suppress this warning, manually set the value of `force_alpha`.\n",
      "  warnings.warn(\n",
      "/opt/conda/lib/python3.10/site-packages/sklearn/naive_bayes.py:635: UserWarning: alpha too small will result in numeric errors, setting alpha = 1.0e-10. Use `force_alpha=True` to keep alpha unchanged.\n",
      "  warnings.warn(\n",
      "/opt/conda/lib/python3.10/site-packages/sklearn/naive_bayes.py:629: FutureWarning: The default value for `force_alpha` will change to `True` in 1.4. To suppress this warning, manually set the value of `force_alpha`.\n",
      "  warnings.warn(\n",
      "/opt/conda/lib/python3.10/site-packages/sklearn/naive_bayes.py:635: UserWarning: alpha too small will result in numeric errors, setting alpha = 1.0e-10. Use `force_alpha=True` to keep alpha unchanged.\n",
      "  warnings.warn(\n"
     ]
    },
    {
     "name": "stdout",
     "output_type": "stream",
     "text": [
      "Best Alpha: 0.1\n"
     ]
    }
   ],
   "source": [
    "# Create the list of alphas\n",
    "alphas = np.arange(0, 1, 0.1)\n",
    "\n",
    "# Define the parameter grid\n",
    "param_grid = {'alpha': alphas}\n",
    "\n",
    "\n",
    "# Instantiate GridSearchCV\n",
    "grid_search = GridSearchCV(estimator=nb_classifier, param_grid=param_grid, cv=5, scoring='roc_auc')\n",
    "\n",
    "# Fit the grid search to the data\n",
    "grid_search.fit(X_cb_train, y_train)\n",
    "\n",
    "# Print the best alpha value found\n",
    "print(\"Best Alpha:\", grid_search.best_params_['alpha'])"
   ]
  },
  {
   "cell_type": "code",
   "execution_count": 57,
   "id": "68be7a5a",
   "metadata": {
    "execution": {
     "iopub.execute_input": "2024-04-01T01:02:03.207925Z",
     "iopub.status.busy": "2024-04-01T01:02:03.207497Z",
     "iopub.status.idle": "2024-04-01T01:02:03.265944Z",
     "shell.execute_reply": "2024-04-01T01:02:03.264781Z"
    },
    "papermill": {
     "duration": 0.090912,
     "end_time": "2024-04-01T01:02:03.268417",
     "exception": false,
     "start_time": "2024-04-01T01:02:03.177505",
     "status": "completed"
    },
    "tags": []
   },
   "outputs": [
    {
     "name": "stdout",
     "output_type": "stream",
     "text": [
      "0.8771515151515151\n",
      "0.9385045416211967\n",
      "[[  433  3987]\n",
      " [   67 28513]]\n"
     ]
    }
   ],
   "source": [
    "nb_classifier = MultinomialNB(alpha=0.3)\n",
    "\n",
    "# Fit the classifier to the training data\n",
    "nb_classifier.fit(X_cb_train, y_train)\n",
    "\n",
    "# Create the predicted tags: pred\n",
    "pred = nb_classifier.predict(X_cb_test)\n",
    "\n",
    "# Calculate the accuracy score: score\n",
    "score = accuracy_score(y_test, pred)\n",
    "print(score)\n",
    "\n",
    "pr_score = pr_auc_score(y_test, pred)\n",
    "print(pr_score)\n",
    "# Calculate the confusion matrix: cm\n",
    "cm = confusion_matrix(y_test, pred, labels=[0, 1])\n",
    "print(cm)"
   ]
  },
  {
   "cell_type": "code",
   "execution_count": null,
   "id": "bd970e2a",
   "metadata": {
    "papermill": {
     "duration": 0.028467,
     "end_time": "2024-04-01T01:02:03.325511",
     "exception": false,
     "start_time": "2024-04-01T01:02:03.297044",
     "status": "completed"
    },
    "tags": []
   },
   "outputs": [],
   "source": []
  }
 ],
 "metadata": {
  "kaggle": {
   "accelerator": "none",
   "dataSources": [
    {
     "datasetId": 1135527,
     "sourceId": 1904905,
     "sourceType": "datasetVersion"
    }
   ],
   "dockerImageVersionId": 30664,
   "isGpuEnabled": false,
   "isInternetEnabled": true,
   "language": "python",
   "sourceType": "notebook"
  },
  "kernelspec": {
   "display_name": "Python 3",
   "language": "python",
   "name": "python3"
  },
  "language_info": {
   "codemirror_mode": {
    "name": "ipython",
    "version": 3
   },
   "file_extension": ".py",
   "mimetype": "text/x-python",
   "name": "python",
   "nbconvert_exporter": "python",
   "pygments_lexer": "ipython3",
   "version": "3.10.13"
  },
  "papermill": {
   "default_parameters": {},
   "duration": 677.338298,
   "end_time": "2024-04-01T01:02:06.480508",
   "environment_variables": {},
   "exception": null,
   "input_path": "__notebook__.ipynb",
   "output_path": "__notebook__.ipynb",
   "parameters": {},
   "start_time": "2024-04-01T00:50:49.142210",
   "version": "2.5.0"
  }
 },
 "nbformat": 4,
 "nbformat_minor": 5
}
