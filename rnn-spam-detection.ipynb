{
 "cells": [
  {
   "cell_type": "code",
   "execution_count": 1,
   "id": "3f2792b4",
   "metadata": {
    "_cell_guid": "b1076dfc-b9ad-4769-8c92-a6c4dae69d19",
    "_uuid": "8f2839f25d086af736a60e9eeb907d3b93b6e0e5",
    "execution": {
     "iopub.execute_input": "2024-05-08T17:55:10.981972Z",
     "iopub.status.busy": "2024-05-08T17:55:10.981074Z",
     "iopub.status.idle": "2024-05-08T17:55:30.597079Z",
     "shell.execute_reply": "2024-05-08T17:55:30.595795Z"
    },
    "papermill": {
     "duration": 19.627046,
     "end_time": "2024-05-08T17:55:30.599345",
     "exception": false,
     "start_time": "2024-05-08T17:55:10.972299",
     "status": "completed"
    },
    "tags": []
   },
   "outputs": [
    {
     "name": "stdout",
     "output_type": "stream",
     "text": [
      "Collecting contractions\r\n",
      "  Downloading contractions-0.1.73-py2.py3-none-any.whl.metadata (1.2 kB)\r\n",
      "Collecting textsearch>=0.0.21 (from contractions)\r\n",
      "  Downloading textsearch-0.0.24-py2.py3-none-any.whl.metadata (1.2 kB)\r\n",
      "Collecting anyascii (from textsearch>=0.0.21->contractions)\r\n",
      "  Downloading anyascii-0.3.2-py3-none-any.whl.metadata (1.5 kB)\r\n",
      "Collecting pyahocorasick (from textsearch>=0.0.21->contractions)\r\n",
      "  Downloading pyahocorasick-2.1.0-cp310-cp310-manylinux_2_5_x86_64.manylinux1_x86_64.manylinux_2_12_x86_64.manylinux2010_x86_64.whl.metadata (13 kB)\r\n",
      "Downloading contractions-0.1.73-py2.py3-none-any.whl (8.7 kB)\r\n",
      "Downloading textsearch-0.0.24-py2.py3-none-any.whl (7.6 kB)\r\n",
      "Downloading anyascii-0.3.2-py3-none-any.whl (289 kB)\r\n",
      "\u001b[2K   \u001b[90m━━━━━━━━━━━━━━━━━━━━━━━━━━━━━━━━━━━━━━━━\u001b[0m \u001b[32m289.9/289.9 kB\u001b[0m \u001b[31m3.1 MB/s\u001b[0m eta \u001b[36m0:00:00\u001b[0m\r\n",
      "\u001b[?25hDownloading pyahocorasick-2.1.0-cp310-cp310-manylinux_2_5_x86_64.manylinux1_x86_64.manylinux_2_12_x86_64.manylinux2010_x86_64.whl (110 kB)\r\n",
      "\u001b[2K   \u001b[90m━━━━━━━━━━━━━━━━━━━━━━━━━━━━━━━━━━━━━━━━\u001b[0m \u001b[32m110.7/110.7 kB\u001b[0m \u001b[31m8.9 MB/s\u001b[0m eta \u001b[36m0:00:00\u001b[0m\r\n",
      "\u001b[?25hInstalling collected packages: pyahocorasick, anyascii, textsearch, contractions\r\n",
      "Successfully installed anyascii-0.3.2 contractions-0.1.73 pyahocorasick-2.1.0 textsearch-0.0.24\r\n",
      "/kaggle/input/amazon-product-review-spam-and-non-spam/Home_and_Kitchen/Home_and_Kitchen.json\n",
      "/kaggle/input/amazon-product-review-spam-and-non-spam/part.json/part.json\n",
      "/kaggle/input/amazon-product-review-spam-and-non-spam/Electronics/Electronics.json\n",
      "/kaggle/input/amazon-product-review-spam-and-non-spam/separate.json/separate.json\n",
      "/kaggle/input/amazon-product-review-spam-and-non-spam/Clothing_Shoes_and_Jewelry/Clothing_Shoes_and_Jewelry.json\n",
      "/kaggle/input/amazon-product-review-spam-and-non-spam/Sports_and_Outdoors/Sports_and_Outdoors.json\n",
      "/kaggle/input/amazon-product-review-spam-and-non-spam/Cell_Phones_and_Accessories/Cell_Phones_and_Accessories.json\n",
      "/kaggle/input/amazon-product-review-spam-and-non-spam/Toys_and_Games/Toys_and_Games.json\n"
     ]
    }
   ],
   "source": [
    "import numpy as np # linear algebra\n",
    "import pandas as pd # data processing, CSV file I/O (e.g. pd.read_csv)\n",
    "import random\n",
    "import time\n",
    "\n",
    "import torch\n",
    "import torch.nn as nn\n",
    "import torch.optim as optim\n",
    "from torch.utils.data import DataLoader, Dataset\n",
    "\n",
    "from sklearn.model_selection import train_test_split\n",
    "from sklearn.preprocessing import LabelEncoder\n",
    "from sklearn.metrics import accuracy_score, roc_auc_score\n",
    "from sklearn.feature_extraction.text import CountVectorizer, TfidfVectorizer\n",
    "from sklearn.metrics import precision_recall_curve, auc, accuracy_score, confusion_matrix\n",
    "\n",
    "import matplotlib.pyplot as plt\n",
    "import seaborn as sns # plotting problem\n",
    "\n",
    "!pip install contractions\n",
    "import contractions # expanding contractions in text can't -> cannot\n",
    "\n",
    "import os\n",
    "for dirname, _, filenames in os.walk('/kaggle/input'):\n",
    "    for filename in filenames:\n",
    "        print(os.path.join(dirname, filename))"
   ]
  },
  {
   "cell_type": "code",
   "execution_count": 2,
   "id": "dcc79f22",
   "metadata": {
    "execution": {
     "iopub.execute_input": "2024-05-08T17:55:30.617160Z",
     "iopub.status.busy": "2024-05-08T17:55:30.616489Z",
     "iopub.status.idle": "2024-05-08T17:55:30.624652Z",
     "shell.execute_reply": "2024-05-08T17:55:30.623902Z"
    },
    "papermill": {
     "duration": 0.019341,
     "end_time": "2024-05-08T17:55:30.626583",
     "exception": false,
     "start_time": "2024-05-08T17:55:30.607242",
     "status": "completed"
    },
    "tags": []
   },
   "outputs": [],
   "source": [
    "torch.backends.cudnn.deterministic = True\n",
    "random.seed(21)\n",
    "np.random.seed(21)\n",
    "torch.manual_seed(21)\n",
    "torch.cuda.manual_seed_all(21)"
   ]
  },
  {
   "cell_type": "code",
   "execution_count": 3,
   "id": "c71f1e91",
   "metadata": {
    "execution": {
     "iopub.execute_input": "2024-05-08T17:55:30.642909Z",
     "iopub.status.busy": "2024-05-08T17:55:30.642626Z",
     "iopub.status.idle": "2024-05-08T17:55:32.683852Z",
     "shell.execute_reply": "2024-05-08T17:55:32.682869Z"
    },
    "papermill": {
     "duration": 2.051827,
     "end_time": "2024-05-08T17:55:32.686131",
     "exception": false,
     "start_time": "2024-05-08T17:55:30.634304",
     "status": "completed"
    },
    "tags": []
   },
   "outputs": [
    {
     "name": "stderr",
     "output_type": "stream",
     "text": [
      "\u001b[34m\u001b[1mwandb\u001b[0m: W&B API key is configured. Use \u001b[1m`wandb login --relogin`\u001b[0m to force relogin\n",
      "\u001b[34m\u001b[1mwandb\u001b[0m: \u001b[33mWARNING\u001b[0m If you're specifying your api key in code, ensure this code is not shared publicly.\n",
      "\u001b[34m\u001b[1mwandb\u001b[0m: \u001b[33mWARNING\u001b[0m Consider setting the WANDB_API_KEY environment variable, or running `wandb login` from the command line.\n",
      "\u001b[34m\u001b[1mwandb\u001b[0m: Appending key for api.wandb.ai to your netrc file: /root/.netrc\n"
     ]
    }
   ],
   "source": [
    "import wandb\n",
    "wandb.login(key = '02c8923278a3dc82932fafb9959cd6d7587dacc7')\n",
    "device = torch.device('cuda' if torch.cuda.is_available() else 'cpu')"
   ]
  },
  {
   "cell_type": "code",
   "execution_count": 4,
   "id": "9a2c287a",
   "metadata": {
    "execution": {
     "iopub.execute_input": "2024-05-08T17:55:32.703887Z",
     "iopub.status.busy": "2024-05-08T17:55:32.703059Z",
     "iopub.status.idle": "2024-05-08T17:56:26.633561Z",
     "shell.execute_reply": "2024-05-08T17:56:26.632610Z"
    },
    "papermill": {
     "duration": 53.949222,
     "end_time": "2024-05-08T17:56:26.643576",
     "exception": false,
     "start_time": "2024-05-08T17:55:32.694354",
     "status": "completed"
    },
    "tags": []
   },
   "outputs": [
    {
     "data": {
      "text/html": [
       "<div>\n",
       "<style scoped>\n",
       "    .dataframe tbody tr th:only-of-type {\n",
       "        vertical-align: middle;\n",
       "    }\n",
       "\n",
       "    .dataframe tbody tr th {\n",
       "        vertical-align: top;\n",
       "    }\n",
       "\n",
       "    .dataframe thead th {\n",
       "        text-align: right;\n",
       "    }\n",
       "</style>\n",
       "<table border=\"1\" class=\"dataframe\">\n",
       "  <thead>\n",
       "    <tr style=\"text-align: right;\">\n",
       "      <th></th>\n",
       "      <th>reviewText</th>\n",
       "      <th>class</th>\n",
       "    </tr>\n",
       "  </thead>\n",
       "  <tbody>\n",
       "    <tr>\n",
       "      <th>0</th>\n",
       "      <td>I love these felt nursery rhyme characters and...</td>\n",
       "      <td>1</td>\n",
       "    </tr>\n",
       "    <tr>\n",
       "      <th>1</th>\n",
       "      <td>I see no directions for its use. Therefore I h...</td>\n",
       "      <td>0</td>\n",
       "    </tr>\n",
       "    <tr>\n",
       "      <th>2</th>\n",
       "      <td>This is a great tool for any teacher using the...</td>\n",
       "      <td>1</td>\n",
       "    </tr>\n",
       "    <tr>\n",
       "      <th>3</th>\n",
       "      <td>Great product, thank you! Our son loved the pu...</td>\n",
       "      <td>1</td>\n",
       "    </tr>\n",
       "    <tr>\n",
       "      <th>4</th>\n",
       "      <td>Although not as streamlined as the Algebra I m...</td>\n",
       "      <td>1</td>\n",
       "    </tr>\n",
       "    <tr>\n",
       "      <th>...</th>\n",
       "      <td>...</td>\n",
       "      <td>...</td>\n",
       "    </tr>\n",
       "    <tr>\n",
       "      <th>99995</th>\n",
       "      <td>Received this product in a timely fashion. I m...</td>\n",
       "      <td>0</td>\n",
       "    </tr>\n",
       "    <tr>\n",
       "      <th>99996</th>\n",
       "      <td>McFarlane Sports Series are fantastic and life...</td>\n",
       "      <td>1</td>\n",
       "    </tr>\n",
       "    <tr>\n",
       "      <th>99997</th>\n",
       "      <td>Fortune is a good figure. She has a very attra...</td>\n",
       "      <td>1</td>\n",
       "    </tr>\n",
       "    <tr>\n",
       "      <th>99998</th>\n",
       "      <td>I just thought that I'd jot a few words to let...</td>\n",
       "      <td>0</td>\n",
       "    </tr>\n",
       "    <tr>\n",
       "      <th>99999</th>\n",
       "      <td>Although the Blair Witch, herself did not appe...</td>\n",
       "      <td>0</td>\n",
       "    </tr>\n",
       "  </tbody>\n",
       "</table>\n",
       "<p>100000 rows × 2 columns</p>\n",
       "</div>"
      ],
      "text/plain": [
       "                                              reviewText  class\n",
       "0      I love these felt nursery rhyme characters and...      1\n",
       "1      I see no directions for its use. Therefore I h...      0\n",
       "2      This is a great tool for any teacher using the...      1\n",
       "3      Great product, thank you! Our son loved the pu...      1\n",
       "4      Although not as streamlined as the Algebra I m...      1\n",
       "...                                                  ...    ...\n",
       "99995  Received this product in a timely fashion. I m...      0\n",
       "99996  McFarlane Sports Series are fantastic and life...      1\n",
       "99997  Fortune is a good figure. She has a very attra...      1\n",
       "99998  I just thought that I'd jot a few words to let...      0\n",
       "99999  Although the Blair Witch, herself did not appe...      0\n",
       "\n",
       "[100000 rows x 2 columns]"
      ]
     },
     "execution_count": 4,
     "metadata": {},
     "output_type": "execute_result"
    }
   ],
   "source": [
    "df = pd.read_json('/kaggle/input/amazon-product-review-spam-and-non-spam/Toys_and_Games/Toys_and_Games.json', lines=True).head(100000)\n",
    "df = df.loc[:, ['reviewText', 'class']]\n",
    "df"
   ]
  },
  {
   "cell_type": "code",
   "execution_count": 5,
   "id": "e755aba1",
   "metadata": {
    "execution": {
     "iopub.execute_input": "2024-05-08T17:56:26.660465Z",
     "iopub.status.busy": "2024-05-08T17:56:26.660163Z",
     "iopub.status.idle": "2024-05-08T17:56:31.302976Z",
     "shell.execute_reply": "2024-05-08T17:56:31.302008Z"
    },
    "papermill": {
     "duration": 4.653589,
     "end_time": "2024-05-08T17:56:31.305005",
     "exception": false,
     "start_time": "2024-05-08T17:56:26.651416",
     "status": "completed"
    },
    "tags": []
   },
   "outputs": [
    {
     "data": {
      "text/html": [
       "<div>\n",
       "<style scoped>\n",
       "    .dataframe tbody tr th:only-of-type {\n",
       "        vertical-align: middle;\n",
       "    }\n",
       "\n",
       "    .dataframe tbody tr th {\n",
       "        vertical-align: top;\n",
       "    }\n",
       "\n",
       "    .dataframe thead th {\n",
       "        text-align: right;\n",
       "    }\n",
       "</style>\n",
       "<table border=\"1\" class=\"dataframe\">\n",
       "  <thead>\n",
       "    <tr style=\"text-align: right;\">\n",
       "      <th></th>\n",
       "      <th>reviewText</th>\n",
       "      <th>class</th>\n",
       "    </tr>\n",
       "  </thead>\n",
       "  <tbody>\n",
       "    <tr>\n",
       "      <th>0</th>\n",
       "      <td>i love these felt nursery rhyme characters and...</td>\n",
       "      <td>1</td>\n",
       "    </tr>\n",
       "    <tr>\n",
       "      <th>1</th>\n",
       "      <td>i see no directions for its use. therefore i h...</td>\n",
       "      <td>0</td>\n",
       "    </tr>\n",
       "    <tr>\n",
       "      <th>2</th>\n",
       "      <td>this is a great tool for any teacher using the...</td>\n",
       "      <td>1</td>\n",
       "    </tr>\n",
       "    <tr>\n",
       "      <th>3</th>\n",
       "      <td>great product, thank you! our son loved the pu...</td>\n",
       "      <td>1</td>\n",
       "    </tr>\n",
       "    <tr>\n",
       "      <th>4</th>\n",
       "      <td>although not as streamlined as the algebra i m...</td>\n",
       "      <td>1</td>\n",
       "    </tr>\n",
       "    <tr>\n",
       "      <th>...</th>\n",
       "      <td>...</td>\n",
       "      <td>...</td>\n",
       "    </tr>\n",
       "    <tr>\n",
       "      <th>99995</th>\n",
       "      <td>received this product in a timely fashion. i m...</td>\n",
       "      <td>0</td>\n",
       "    </tr>\n",
       "    <tr>\n",
       "      <th>99996</th>\n",
       "      <td>mcfarlane sports series are fantastic and life...</td>\n",
       "      <td>1</td>\n",
       "    </tr>\n",
       "    <tr>\n",
       "      <th>99997</th>\n",
       "      <td>fortune is a good figure. she has a very attra...</td>\n",
       "      <td>1</td>\n",
       "    </tr>\n",
       "    <tr>\n",
       "      <th>99998</th>\n",
       "      <td>i just thought that i would jot a few words to...</td>\n",
       "      <td>0</td>\n",
       "    </tr>\n",
       "    <tr>\n",
       "      <th>99999</th>\n",
       "      <td>although the blair witch, herself did not appe...</td>\n",
       "      <td>0</td>\n",
       "    </tr>\n",
       "  </tbody>\n",
       "</table>\n",
       "<p>100000 rows × 2 columns</p>\n",
       "</div>"
      ],
      "text/plain": [
       "                                              reviewText  class\n",
       "0      i love these felt nursery rhyme characters and...      1\n",
       "1      i see no directions for its use. therefore i h...      0\n",
       "2      this is a great tool for any teacher using the...      1\n",
       "3      great product, thank you! our son loved the pu...      1\n",
       "4      although not as streamlined as the algebra i m...      1\n",
       "...                                                  ...    ...\n",
       "99995  received this product in a timely fashion. i m...      0\n",
       "99996  mcfarlane sports series are fantastic and life...      1\n",
       "99997  fortune is a good figure. she has a very attra...      1\n",
       "99998  i just thought that i would jot a few words to...      0\n",
       "99999  although the blair witch, herself did not appe...      0\n",
       "\n",
       "[100000 rows x 2 columns]"
      ]
     },
     "execution_count": 5,
     "metadata": {},
     "output_type": "execute_result"
    }
   ],
   "source": [
    "df['reviewText'] = df['reviewText'].apply(lambda x: contractions.fix(x))\n",
    "df.loc[:, 'reviewText'] = df['reviewText'].str.lower()\n",
    "\n",
    "# \\W represents Special characters like \"$\" and \"!!!\"\n",
    "df.loc[:, 'reviewText'] = df['reviewText'].str.replace('\\W', ' ')\n",
    "\n",
    "# \\d represents Numeric digits like \"19.99\"\n",
    "df.loc[:, 'reviewText'] = df['reviewText'].str.replace('\\d', ' ')\n",
    "\n",
    "df"
   ]
  },
  {
   "cell_type": "code",
   "execution_count": 6,
   "id": "7c856c3e",
   "metadata": {
    "execution": {
     "iopub.execute_input": "2024-05-08T17:56:31.322927Z",
     "iopub.status.busy": "2024-05-08T17:56:31.322251Z",
     "iopub.status.idle": "2024-05-08T17:56:31.326947Z",
     "shell.execute_reply": "2024-05-08T17:56:31.326082Z"
    },
    "papermill": {
     "duration": 0.015771,
     "end_time": "2024-05-08T17:56:31.329008",
     "exception": false,
     "start_time": "2024-05-08T17:56:31.313237",
     "status": "completed"
    },
    "tags": []
   },
   "outputs": [],
   "source": [
    "def pr_auc_score(y_test, y_pred):\n",
    "    precision, recall, _ = precision_recall_curve(y_test, y_pred)\n",
    "    pr_auc = auc(recall, precision)\n",
    "    return pr_auc"
   ]
  },
  {
   "cell_type": "code",
   "execution_count": 7,
   "id": "58fff3cb",
   "metadata": {
    "execution": {
     "iopub.execute_input": "2024-05-08T17:56:31.346860Z",
     "iopub.status.busy": "2024-05-08T17:56:31.346606Z",
     "iopub.status.idle": "2024-05-08T17:56:31.362175Z",
     "shell.execute_reply": "2024-05-08T17:56:31.361391Z"
    },
    "papermill": {
     "duration": 0.026879,
     "end_time": "2024-05-08T17:56:31.364357",
     "exception": false,
     "start_time": "2024-05-08T17:56:31.337478",
     "status": "completed"
    },
    "tags": []
   },
   "outputs": [],
   "source": [
    "y = df['class']\n",
    "X_train, X_test, y_train, y_test = train_test_split(df['reviewText'], y, test_size=0.33, random_state=21)"
   ]
  },
  {
   "cell_type": "code",
   "execution_count": 8,
   "id": "c54a1700",
   "metadata": {
    "execution": {
     "iopub.execute_input": "2024-05-08T17:56:31.383018Z",
     "iopub.status.busy": "2024-05-08T17:56:31.382747Z",
     "iopub.status.idle": "2024-05-08T17:56:31.391735Z",
     "shell.execute_reply": "2024-05-08T17:56:31.391074Z"
    },
    "papermill": {
     "duration": 0.020439,
     "end_time": "2024-05-08T17:56:31.393796",
     "exception": false,
     "start_time": "2024-05-08T17:56:31.373357",
     "status": "completed"
    },
    "tags": []
   },
   "outputs": [],
   "source": [
    "encoder = LabelEncoder()\n",
    "y_train = encoder.fit_transform(y_train)\n",
    "y_test = encoder.transform(y_test)"
   ]
  },
  {
   "cell_type": "code",
   "execution_count": 9,
   "id": "dc0adf09",
   "metadata": {
    "execution": {
     "iopub.execute_input": "2024-05-08T17:56:31.412336Z",
     "iopub.status.busy": "2024-05-08T17:56:31.412019Z",
     "iopub.status.idle": "2024-05-08T17:56:31.418128Z",
     "shell.execute_reply": "2024-05-08T17:56:31.417295Z"
    },
    "papermill": {
     "duration": 0.017985,
     "end_time": "2024-05-08T17:56:31.420269",
     "exception": false,
     "start_time": "2024-05-08T17:56:31.402284",
     "status": "completed"
    },
    "tags": []
   },
   "outputs": [],
   "source": [
    "class SpamDataset(Dataset):\n",
    "    def __init__(self, texts, labels):\n",
    "        self.texts = torch.tensor(texts, dtype=torch.float32)\n",
    "        self.labels = torch.tensor(labels, dtype=torch.long)\n",
    "\n",
    "    def __len__(self):\n",
    "        return len(self.labels)\n",
    "\n",
    "    def __getitem__(self, index):\n",
    "        text = self.texts[index]\n",
    "        text = text.unsqueeze(0)\n",
    "        return text, self.labels[index]"
   ]
  },
  {
   "cell_type": "code",
   "execution_count": 10,
   "id": "16ca03b4",
   "metadata": {
    "execution": {
     "iopub.execute_input": "2024-05-08T17:56:31.438977Z",
     "iopub.status.busy": "2024-05-08T17:56:31.438695Z",
     "iopub.status.idle": "2024-05-08T17:56:31.445587Z",
     "shell.execute_reply": "2024-05-08T17:56:31.444748Z"
    },
    "papermill": {
     "duration": 0.01793,
     "end_time": "2024-05-08T17:56:31.447456",
     "exception": false,
     "start_time": "2024-05-08T17:56:31.429526",
     "status": "completed"
    },
    "tags": []
   },
   "outputs": [],
   "source": [
    "class LSTMClassifier(nn.Module):\n",
    "    def __init__(self, input_size, hidden_size, num_layers, num_classes):\n",
    "        super(LSTMClassifier, self).__init__()\n",
    "        self.lstm = nn.LSTM(input_size, hidden_size, num_layers, batch_first=True)\n",
    "        self.fc = nn.Linear(hidden_size, num_classes)\n",
    "\n",
    "    def forward(self, x):\n",
    "        batch_size = x.size(0)\n",
    "        # Initialize the hidden state and cell state with appropriate dimensions\n",
    "        h0 = torch.zeros(1, batch_size, 128).to(device)\n",
    "        c0 = torch.zeros(1, batch_size, 128).to(device)\n",
    "        out, _ = self.lstm(x, (h0, c0))\n",
    "        out = self.fc(out[:, -1, :])\n",
    "        return out"
   ]
  },
  {
   "cell_type": "code",
   "execution_count": 11,
   "id": "0b7b33c7",
   "metadata": {
    "execution": {
     "iopub.execute_input": "2024-05-08T17:56:31.464994Z",
     "iopub.status.busy": "2024-05-08T17:56:31.464552Z",
     "iopub.status.idle": "2024-05-08T17:56:31.470803Z",
     "shell.execute_reply": "2024-05-08T17:56:31.469974Z"
    },
    "papermill": {
     "duration": 0.017053,
     "end_time": "2024-05-08T17:56:31.472762",
     "exception": false,
     "start_time": "2024-05-08T17:56:31.455709",
     "status": "completed"
    },
    "tags": []
   },
   "outputs": [],
   "source": [
    "class GRUClassifier(nn.Module):\n",
    "    def __init__(self, input_size, hidden_size, num_layers, num_classes):\n",
    "        super(GRUClassifier, self).__init__()\n",
    "        self.gru = nn.GRU(input_size, hidden_size, num_layers, batch_first=True)\n",
    "        self.fc = nn.Linear(hidden_size, num_classes)\n",
    "\n",
    "    def forward(self, x):\n",
    "        batch_size = x.size(0)\n",
    "        # Initialize the hidden state with appropriate dimensions\n",
    "        h0 = torch.zeros(1, batch_size, 128).to(device)\n",
    "        out, _ = self.gru(x, h0)\n",
    "        out = self.fc(out[:, -1, :])\n",
    "        return out"
   ]
  },
  {
   "cell_type": "code",
   "execution_count": 12,
   "id": "9669e467",
   "metadata": {
    "execution": {
     "iopub.execute_input": "2024-05-08T17:56:31.490659Z",
     "iopub.status.busy": "2024-05-08T17:56:31.490225Z",
     "iopub.status.idle": "2024-05-08T17:56:31.500776Z",
     "shell.execute_reply": "2024-05-08T17:56:31.499983Z"
    },
    "papermill": {
     "duration": 0.021518,
     "end_time": "2024-05-08T17:56:31.502771",
     "exception": false,
     "start_time": "2024-05-08T17:56:31.481253",
     "status": "completed"
    },
    "tags": []
   },
   "outputs": [],
   "source": [
    "def train_and_eval(train_loader, test_loader, model, criterion, optimizer):\n",
    "    \n",
    "    wandb.watch(model, criterion, log=\"all\", log_freq=10)\n",
    "    start_time = time.time()\n",
    "    # Training loop\n",
    "    num_epochs = 15\n",
    "    for epoch in range(num_epochs):\n",
    "        model.train()\n",
    "        for texts, labels in train_loader:\n",
    "            texts, labels = texts.to(device), labels.to(device)\n",
    "            outputs = model(texts)\n",
    "            loss = criterion(outputs, labels)\n",
    "\n",
    "            optimizer.zero_grad()\n",
    "            loss.backward()\n",
    "            optimizer.step()\n",
    "        wandb.log({\"epoch\": epoch,\"loss\": loss})\n",
    "        print(f'Epoch [{epoch+1}/{num_epochs}], Loss: {loss.item():.4f}')\n",
    "\n",
    "    # Evaluation\n",
    "    model.eval()\n",
    "    all_preds = []\n",
    "    all_labels = []\n",
    "    with torch.no_grad():\n",
    "        for texts, labels in test_loader:\n",
    "            texts, labels = texts.to(device), labels.to(device)\n",
    "            outputs = model(texts)\n",
    "            _, predicted = torch.max(outputs, 1)\n",
    "            all_preds.extend(predicted.cpu().numpy())\n",
    "            all_labels.extend(labels.cpu().numpy())\n",
    "\n",
    "    # Calculate accuracy and PR AUC score\n",
    "    accuracy = accuracy_score(all_labels, all_preds)\n",
    "    pr_auc = pr_auc_score(all_labels, all_preds)\n",
    "    \n",
    "    wandb.log({\"test_accuracy\": accuracy})\n",
    "    wandb.log({\"test_pr_auc\": pr_auc})\n",
    "\n",
    "    print(f'Accuracy: {accuracy:.4f}')\n",
    "    print(f'AUC Score: {pr_auc:.4f}')\n",
    "    \n",
    "    elapsed_time = time.time() - start_time\n",
    "    wandb.log({\"run_time_sec\": elapsed_time})\n",
    "    wandb.finish()\n",
    "    return model"
   ]
  },
  {
   "cell_type": "markdown",
   "id": "01dfb197",
   "metadata": {
    "papermill": {
     "duration": 0.007665,
     "end_time": "2024-05-08T17:56:31.518261",
     "exception": false,
     "start_time": "2024-05-08T17:56:31.510596",
     "status": "completed"
    },
    "tags": []
   },
   "source": [
    "# LSTM"
   ]
  },
  {
   "cell_type": "markdown",
   "id": "477d77cd",
   "metadata": {
    "papermill": {
     "duration": 0.007782,
     "end_time": "2024-05-08T17:56:31.534060",
     "exception": false,
     "start_time": "2024-05-08T17:56:31.526278",
     "status": "completed"
    },
    "tags": []
   },
   "source": [
    "### CountVectorizer "
   ]
  },
  {
   "cell_type": "code",
   "execution_count": 13,
   "id": "c718eb9b",
   "metadata": {
    "execution": {
     "iopub.execute_input": "2024-05-08T17:56:31.550872Z",
     "iopub.status.busy": "2024-05-08T17:56:31.550641Z",
     "iopub.status.idle": "2024-05-08T17:58:34.951862Z",
     "shell.execute_reply": "2024-05-08T17:58:34.950940Z"
    },
    "papermill": {
     "duration": 123.411902,
     "end_time": "2024-05-08T17:58:34.953913",
     "exception": false,
     "start_time": "2024-05-08T17:56:31.542011",
     "status": "completed"
    },
    "tags": []
   },
   "outputs": [
    {
     "name": "stderr",
     "output_type": "stream",
     "text": [
      "\u001b[34m\u001b[1mwandb\u001b[0m: Currently logged in as: \u001b[33mmint21\u001b[0m. Use \u001b[1m`wandb login --relogin`\u001b[0m to force relogin\n",
      "\u001b[34m\u001b[1mwandb\u001b[0m: wandb version 0.17.0 is available!  To upgrade, please run:\n",
      "\u001b[34m\u001b[1mwandb\u001b[0m:  $ pip install wandb --upgrade\n",
      "\u001b[34m\u001b[1mwandb\u001b[0m: Tracking run with wandb version 0.16.6\n",
      "\u001b[34m\u001b[1mwandb\u001b[0m: Run data is saved locally in \u001b[35m\u001b[1m/kaggle/working/wandb/run-20240508_175641-yjb05y24\u001b[0m\n",
      "\u001b[34m\u001b[1mwandb\u001b[0m: Run \u001b[1m`wandb offline`\u001b[0m to turn off syncing.\n",
      "\u001b[34m\u001b[1mwandb\u001b[0m: Syncing run \u001b[33mLSTM CountVectorizer\u001b[0m\n",
      "\u001b[34m\u001b[1mwandb\u001b[0m: ⭐️ View project at \u001b[34m\u001b[4mhttps://wandb.ai/mint21/RNN%20Spam%20Detection\u001b[0m\n",
      "\u001b[34m\u001b[1mwandb\u001b[0m: 🚀 View run at \u001b[34m\u001b[4mhttps://wandb.ai/mint21/RNN%20Spam%20Detection/runs/yjb05y24\u001b[0m\n"
     ]
    },
    {
     "name": "stdout",
     "output_type": "stream",
     "text": [
      "Epoch [1/15], Loss: 0.2492\n",
      "Epoch [2/15], Loss: 0.2750\n",
      "Epoch [3/15], Loss: 0.2335\n",
      "Epoch [4/15], Loss: 0.1443\n",
      "Epoch [5/15], Loss: 0.1645\n",
      "Epoch [6/15], Loss: 0.0787\n",
      "Epoch [7/15], Loss: 0.0582\n",
      "Epoch [8/15], Loss: 0.0138\n",
      "Epoch [9/15], Loss: 0.0046\n",
      "Epoch [10/15], Loss: 0.0189\n",
      "Epoch [11/15], Loss: 0.0072\n",
      "Epoch [12/15], Loss: 0.0010\n",
      "Epoch [13/15], Loss: 0.0039\n",
      "Epoch [14/15], Loss: 0.0003\n",
      "Epoch [15/15], Loss: 0.0004\n",
      "Accuracy: 0.9020\n",
      "AUC Score: 0.9605\n"
     ]
    },
    {
     "name": "stderr",
     "output_type": "stream",
     "text": [
      "\u001b[34m\u001b[1mwandb\u001b[0m:                                                                                \n",
      "\u001b[34m\u001b[1mwandb\u001b[0m: \n",
      "\u001b[34m\u001b[1mwandb\u001b[0m: Run history:\n",
      "\u001b[34m\u001b[1mwandb\u001b[0m:         epoch ▁▁▂▃▃▃▄▅▅▅▆▇▇▇█\n",
      "\u001b[34m\u001b[1mwandb\u001b[0m:          loss ▇█▇▅▅▃▂▁▁▁▁▁▁▁▁\n",
      "\u001b[34m\u001b[1mwandb\u001b[0m:  run_time_sec ▁\n",
      "\u001b[34m\u001b[1mwandb\u001b[0m: test_accuracy ▁\n",
      "\u001b[34m\u001b[1mwandb\u001b[0m:   test_pr_auc ▁\n",
      "\u001b[34m\u001b[1mwandb\u001b[0m: \n",
      "\u001b[34m\u001b[1mwandb\u001b[0m: Run summary:\n",
      "\u001b[34m\u001b[1mwandb\u001b[0m:         epoch 14\n",
      "\u001b[34m\u001b[1mwandb\u001b[0m:          loss 0.00042\n",
      "\u001b[34m\u001b[1mwandb\u001b[0m:  run_time_sec 93.98166\n",
      "\u001b[34m\u001b[1mwandb\u001b[0m: test_accuracy 0.90203\n",
      "\u001b[34m\u001b[1mwandb\u001b[0m:   test_pr_auc 0.96052\n",
      "\u001b[34m\u001b[1mwandb\u001b[0m: \n",
      "\u001b[34m\u001b[1mwandb\u001b[0m: 🚀 View run \u001b[33mLSTM CountVectorizer\u001b[0m at: \u001b[34m\u001b[4mhttps://wandb.ai/mint21/RNN%20Spam%20Detection/runs/yjb05y24\u001b[0m\n",
      "\u001b[34m\u001b[1mwandb\u001b[0m: ⭐️ View project at: \u001b[34m\u001b[4mhttps://wandb.ai/mint21/RNN%20Spam%20Detection\u001b[0m\n",
      "\u001b[34m\u001b[1mwandb\u001b[0m: Synced 5 W&B file(s), 0 media file(s), 0 artifact file(s) and 0 other file(s)\n",
      "\u001b[34m\u001b[1mwandb\u001b[0m: Find logs at: \u001b[35m\u001b[1m./wandb/run-20240508_175641-yjb05y24/logs\u001b[0m\n"
     ]
    },
    {
     "data": {
      "text/plain": [
       "LSTMClassifier(\n",
       "  (lstm): LSTM(2000, 128, batch_first=True)\n",
       "  (fc): Linear(in_features=128, out_features=2, bias=True)\n",
       ")"
      ]
     },
     "execution_count": 13,
     "metadata": {},
     "output_type": "execute_result"
    }
   ],
   "source": [
    "# Vectorization of text data (maybe change this to other embeddings or tokenization)\n",
    "count_vectorizer = CountVectorizer(stop_words='english', max_df = 0.8, max_features = 2000)\n",
    "X_train_vectorized = count_vectorizer.fit_transform(X_train).toarray()\n",
    "X_test_vectorized = count_vectorizer.transform(X_test).toarray()\n",
    "\n",
    "# Create PyTorch datasets\n",
    "train_dataset = SpamDataset(X_train_vectorized, y_train)\n",
    "test_dataset = SpamDataset(X_test_vectorized, y_test)\n",
    "\n",
    "# Create PyTorch data loaders\n",
    "train_loader = DataLoader(train_dataset, batch_size=64, shuffle=True)\n",
    "test_loader = DataLoader(test_dataset, batch_size=64, shuffle=False)\n",
    "\n",
    "# Initialize device, model, optimizer, and loss function\n",
    "model = LSTMClassifier(input_size=2000, hidden_size=128, num_layers=1, num_classes=2).to(device)\n",
    "criterion = nn.CrossEntropyLoss()\n",
    "optimizer = optim.Adam(model.parameters(), lr=0.001)\n",
    "\n",
    "wandb.init(project='RNN Spam Detection', name='LSTM CountVectorizer')\n",
    "\n",
    "train_and_eval(train_loader, test_loader, model, criterion, optimizer)"
   ]
  },
  {
   "cell_type": "markdown",
   "id": "b78eab7e",
   "metadata": {
    "papermill": {
     "duration": 0.010639,
     "end_time": "2024-05-08T17:58:34.975769",
     "exception": false,
     "start_time": "2024-05-08T17:58:34.965130",
     "status": "completed"
    },
    "tags": []
   },
   "source": [
    "### TfidfVectorizer"
   ]
  },
  {
   "cell_type": "code",
   "execution_count": 14,
   "id": "ac591f28",
   "metadata": {
    "execution": {
     "iopub.execute_input": "2024-05-08T17:58:34.998697Z",
     "iopub.status.busy": "2024-05-08T17:58:34.998371Z",
     "iopub.status.idle": "2024-05-08T18:00:39.538390Z",
     "shell.execute_reply": "2024-05-08T18:00:39.537538Z"
    },
    "papermill": {
     "duration": 124.55363,
     "end_time": "2024-05-08T18:00:39.540383",
     "exception": false,
     "start_time": "2024-05-08T17:58:34.986753",
     "status": "completed"
    },
    "tags": []
   },
   "outputs": [
    {
     "name": "stderr",
     "output_type": "stream",
     "text": [
      "\u001b[34m\u001b[1mwandb\u001b[0m: wandb version 0.17.0 is available!  To upgrade, please run:\n",
      "\u001b[34m\u001b[1mwandb\u001b[0m:  $ pip install wandb --upgrade\n",
      "\u001b[34m\u001b[1mwandb\u001b[0m: Tracking run with wandb version 0.16.6\n",
      "\u001b[34m\u001b[1mwandb\u001b[0m: Run data is saved locally in \u001b[35m\u001b[1m/kaggle/working/wandb/run-20240508_175844-76pl85bi\u001b[0m\n",
      "\u001b[34m\u001b[1mwandb\u001b[0m: Run \u001b[1m`wandb offline`\u001b[0m to turn off syncing.\n",
      "\u001b[34m\u001b[1mwandb\u001b[0m: Syncing run \u001b[33mLSTM TfidfVectorizer\u001b[0m\n",
      "\u001b[34m\u001b[1mwandb\u001b[0m: ⭐️ View project at \u001b[34m\u001b[4mhttps://wandb.ai/mint21/RNN%20Spam%20Detection\u001b[0m\n",
      "\u001b[34m\u001b[1mwandb\u001b[0m: 🚀 View run at \u001b[34m\u001b[4mhttps://wandb.ai/mint21/RNN%20Spam%20Detection/runs/76pl85bi\u001b[0m\n"
     ]
    },
    {
     "name": "stdout",
     "output_type": "stream",
     "text": [
      "Epoch [1/15], Loss: 0.1418\n",
      "Epoch [2/15], Loss: 0.2081\n",
      "Epoch [3/15], Loss: 0.1894\n",
      "Epoch [4/15], Loss: 0.0968\n",
      "Epoch [5/15], Loss: 0.1044\n",
      "Epoch [6/15], Loss: 0.2505\n",
      "Epoch [7/15], Loss: 0.2047\n",
      "Epoch [8/15], Loss: 0.1602\n",
      "Epoch [9/15], Loss: 0.1922\n",
      "Epoch [10/15], Loss: 0.3542\n",
      "Epoch [11/15], Loss: 0.0971\n",
      "Epoch [12/15], Loss: 0.1123\n",
      "Epoch [13/15], Loss: 0.1121\n",
      "Epoch [14/15], Loss: 0.1559\n",
      "Epoch [15/15], Loss: 0.1806\n",
      "Accuracy: 0.9072\n",
      "AUC Score: 0.9638\n"
     ]
    },
    {
     "name": "stderr",
     "output_type": "stream",
     "text": [
      "\u001b[34m\u001b[1mwandb\u001b[0m:                                                                                \n",
      "\u001b[34m\u001b[1mwandb\u001b[0m: \n",
      "\u001b[34m\u001b[1mwandb\u001b[0m: Run history:\n",
      "\u001b[34m\u001b[1mwandb\u001b[0m:         epoch ▁▁▂▃▃▃▄▅▅▅▆▇▇▇█\n",
      "\u001b[34m\u001b[1mwandb\u001b[0m:          loss ▂▄▄▁▁▅▄▃▄█▁▁▁▃▃\n",
      "\u001b[34m\u001b[1mwandb\u001b[0m:  run_time_sec ▁\n",
      "\u001b[34m\u001b[1mwandb\u001b[0m: test_accuracy ▁\n",
      "\u001b[34m\u001b[1mwandb\u001b[0m:   test_pr_auc ▁\n",
      "\u001b[34m\u001b[1mwandb\u001b[0m: \n",
      "\u001b[34m\u001b[1mwandb\u001b[0m: Run summary:\n",
      "\u001b[34m\u001b[1mwandb\u001b[0m:         epoch 14\n",
      "\u001b[34m\u001b[1mwandb\u001b[0m:          loss 0.18063\n",
      "\u001b[34m\u001b[1mwandb\u001b[0m:  run_time_sec 94.27006\n",
      "\u001b[34m\u001b[1mwandb\u001b[0m: test_accuracy 0.90718\n",
      "\u001b[34m\u001b[1mwandb\u001b[0m:   test_pr_auc 0.96379\n",
      "\u001b[34m\u001b[1mwandb\u001b[0m: \n",
      "\u001b[34m\u001b[1mwandb\u001b[0m: 🚀 View run \u001b[33mLSTM TfidfVectorizer\u001b[0m at: \u001b[34m\u001b[4mhttps://wandb.ai/mint21/RNN%20Spam%20Detection/runs/76pl85bi\u001b[0m\n",
      "\u001b[34m\u001b[1mwandb\u001b[0m: ⭐️ View project at: \u001b[34m\u001b[4mhttps://wandb.ai/mint21/RNN%20Spam%20Detection\u001b[0m\n",
      "\u001b[34m\u001b[1mwandb\u001b[0m: Synced 5 W&B file(s), 0 media file(s), 0 artifact file(s) and 0 other file(s)\n",
      "\u001b[34m\u001b[1mwandb\u001b[0m: Find logs at: \u001b[35m\u001b[1m./wandb/run-20240508_175844-76pl85bi/logs\u001b[0m\n"
     ]
    },
    {
     "data": {
      "text/plain": [
       "LSTMClassifier(\n",
       "  (lstm): LSTM(2000, 128, batch_first=True)\n",
       "  (fc): Linear(in_features=128, out_features=2, bias=True)\n",
       ")"
      ]
     },
     "execution_count": 14,
     "metadata": {},
     "output_type": "execute_result"
    }
   ],
   "source": [
    "vectorizer = TfidfVectorizer(stop_words=\"english\", max_df=0.8, max_features=2000)\n",
    "X_train_vectorized = vectorizer.fit_transform(X_train).toarray()\n",
    "X_test_vectorized = vectorizer.transform(X_test).toarray()\n",
    "\n",
    "# Create PyTorch datasets\n",
    "train_dataset = SpamDataset(X_train_vectorized, y_train)\n",
    "test_dataset = SpamDataset(X_test_vectorized, y_test)\n",
    "\n",
    "# Create PyTorch data loaders\n",
    "train_loader = DataLoader(train_dataset, batch_size=64, shuffle=True)\n",
    "test_loader = DataLoader(test_dataset, batch_size=64, shuffle=False)\n",
    "\n",
    "# Initialize device, model, optimizer, and loss function\n",
    "model = LSTMClassifier(input_size=2000, hidden_size=128, num_layers=1, num_classes=2).to(device)\n",
    "criterion = nn.CrossEntropyLoss()\n",
    "optimizer = optim.Adam(model.parameters(), lr=0.001)\n",
    "\n",
    "wandb.init(project='RNN Spam Detection', name='LSTM TfidfVectorizer')\n",
    "\n",
    "train_and_eval(train_loader, test_loader, model, criterion, optimizer)"
   ]
  },
  {
   "cell_type": "markdown",
   "id": "62acc30e",
   "metadata": {
    "papermill": {
     "duration": 0.01319,
     "end_time": "2024-05-08T18:00:39.567087",
     "exception": false,
     "start_time": "2024-05-08T18:00:39.553897",
     "status": "completed"
    },
    "tags": []
   },
   "source": [
    "# GRU"
   ]
  },
  {
   "cell_type": "markdown",
   "id": "7f9f6521",
   "metadata": {
    "papermill": {
     "duration": 0.013431,
     "end_time": "2024-05-08T18:00:39.593917",
     "exception": false,
     "start_time": "2024-05-08T18:00:39.580486",
     "status": "completed"
    },
    "tags": []
   },
   "source": [
    "### CountVectorizer"
   ]
  },
  {
   "cell_type": "code",
   "execution_count": 15,
   "id": "20d8970c",
   "metadata": {
    "execution": {
     "iopub.execute_input": "2024-05-08T18:00:39.621687Z",
     "iopub.status.busy": "2024-05-08T18:00:39.621396Z",
     "iopub.status.idle": "2024-05-08T18:02:32.346561Z",
     "shell.execute_reply": "2024-05-08T18:02:32.345724Z"
    },
    "papermill": {
     "duration": 112.741413,
     "end_time": "2024-05-08T18:02:32.348502",
     "exception": false,
     "start_time": "2024-05-08T18:00:39.607089",
     "status": "completed"
    },
    "tags": []
   },
   "outputs": [
    {
     "name": "stderr",
     "output_type": "stream",
     "text": [
      "\u001b[34m\u001b[1mwandb\u001b[0m: wandb version 0.17.0 is available!  To upgrade, please run:\n",
      "\u001b[34m\u001b[1mwandb\u001b[0m:  $ pip install wandb --upgrade\n",
      "\u001b[34m\u001b[1mwandb\u001b[0m: Tracking run with wandb version 0.16.6\n",
      "\u001b[34m\u001b[1mwandb\u001b[0m: Run data is saved locally in \u001b[35m\u001b[1m/kaggle/working/wandb/run-20240508_180048-coe606or\u001b[0m\n",
      "\u001b[34m\u001b[1mwandb\u001b[0m: Run \u001b[1m`wandb offline`\u001b[0m to turn off syncing.\n",
      "\u001b[34m\u001b[1mwandb\u001b[0m: Syncing run \u001b[33mGRU CountVectorizer\u001b[0m\n",
      "\u001b[34m\u001b[1mwandb\u001b[0m: ⭐️ View project at \u001b[34m\u001b[4mhttps://wandb.ai/mint21/RNN%20Spam%20Detection\u001b[0m\n",
      "\u001b[34m\u001b[1mwandb\u001b[0m: 🚀 View run at \u001b[34m\u001b[4mhttps://wandb.ai/mint21/RNN%20Spam%20Detection/runs/coe606or\u001b[0m\n"
     ]
    },
    {
     "name": "stdout",
     "output_type": "stream",
     "text": [
      "Epoch [1/15], Loss: 0.2073\n",
      "Epoch [2/15], Loss: 0.3498\n",
      "Epoch [3/15], Loss: 0.1688\n",
      "Epoch [4/15], Loss: 0.1492\n",
      "Epoch [5/15], Loss: 0.1938\n",
      "Epoch [6/15], Loss: 0.0416\n",
      "Epoch [7/15], Loss: 0.0618\n",
      "Epoch [8/15], Loss: 0.0270\n",
      "Epoch [9/15], Loss: 0.0688\n",
      "Epoch [10/15], Loss: 0.0208\n",
      "Epoch [11/15], Loss: 0.0243\n",
      "Epoch [12/15], Loss: 0.0011\n",
      "Epoch [13/15], Loss: 0.0078\n",
      "Epoch [14/15], Loss: 0.0057\n",
      "Epoch [15/15], Loss: 0.0006\n",
      "Accuracy: 0.9015\n",
      "AUC Score: 0.9616\n"
     ]
    },
    {
     "name": "stderr",
     "output_type": "stream",
     "text": [
      "\u001b[34m\u001b[1mwandb\u001b[0m:                                                                                \n",
      "\u001b[34m\u001b[1mwandb\u001b[0m: \n",
      "\u001b[34m\u001b[1mwandb\u001b[0m: Run history:\n",
      "\u001b[34m\u001b[1mwandb\u001b[0m:         epoch ▁▁▂▃▃▃▄▅▅▅▆▇▇▇█\n",
      "\u001b[34m\u001b[1mwandb\u001b[0m:          loss ▅█▄▄▅▂▂▂▂▁▁▁▁▁▁\n",
      "\u001b[34m\u001b[1mwandb\u001b[0m:  run_time_sec ▁\n",
      "\u001b[34m\u001b[1mwandb\u001b[0m: test_accuracy ▁\n",
      "\u001b[34m\u001b[1mwandb\u001b[0m:   test_pr_auc ▁\n",
      "\u001b[34m\u001b[1mwandb\u001b[0m: \n",
      "\u001b[34m\u001b[1mwandb\u001b[0m: Run summary:\n",
      "\u001b[34m\u001b[1mwandb\u001b[0m:         epoch 14\n",
      "\u001b[34m\u001b[1mwandb\u001b[0m:          loss 0.00064\n",
      "\u001b[34m\u001b[1mwandb\u001b[0m:  run_time_sec 83.67921\n",
      "\u001b[34m\u001b[1mwandb\u001b[0m: test_accuracy 0.90152\n",
      "\u001b[34m\u001b[1mwandb\u001b[0m:   test_pr_auc 0.9616\n",
      "\u001b[34m\u001b[1mwandb\u001b[0m: \n",
      "\u001b[34m\u001b[1mwandb\u001b[0m: 🚀 View run \u001b[33mGRU CountVectorizer\u001b[0m at: \u001b[34m\u001b[4mhttps://wandb.ai/mint21/RNN%20Spam%20Detection/runs/coe606or\u001b[0m\n",
      "\u001b[34m\u001b[1mwandb\u001b[0m: ⭐️ View project at: \u001b[34m\u001b[4mhttps://wandb.ai/mint21/RNN%20Spam%20Detection\u001b[0m\n",
      "\u001b[34m\u001b[1mwandb\u001b[0m: Synced 5 W&B file(s), 0 media file(s), 0 artifact file(s) and 0 other file(s)\n",
      "\u001b[34m\u001b[1mwandb\u001b[0m: Find logs at: \u001b[35m\u001b[1m./wandb/run-20240508_180048-coe606or/logs\u001b[0m\n"
     ]
    },
    {
     "data": {
      "text/plain": [
       "GRUClassifier(\n",
       "  (gru): GRU(2000, 128, batch_first=True)\n",
       "  (fc): Linear(in_features=128, out_features=2, bias=True)\n",
       ")"
      ]
     },
     "execution_count": 15,
     "metadata": {},
     "output_type": "execute_result"
    }
   ],
   "source": [
    "# Vectorization of text data (maybe change this to other embeddings or tokenization)\n",
    "count_vectorizer = CountVectorizer(stop_words='english', max_df = 0.8, max_features = 2000)\n",
    "X_train_vectorized = count_vectorizer.fit_transform(X_train).toarray()\n",
    "X_test_vectorized = count_vectorizer.transform(X_test).toarray()\n",
    "\n",
    "# Create PyTorch datasets\n",
    "train_dataset = SpamDataset(X_train_vectorized, y_train)\n",
    "test_dataset = SpamDataset(X_test_vectorized, y_test)\n",
    "\n",
    "# Create PyTorch data loaders\n",
    "train_loader = DataLoader(train_dataset, batch_size=64, shuffle=True)\n",
    "test_loader = DataLoader(test_dataset, batch_size=64, shuffle=False)\n",
    "\n",
    "# Initialize device, model, optimizer, and loss function\n",
    "model = GRUClassifier(input_size=2000, hidden_size=128, num_layers=1, num_classes=2).to(device)\n",
    "criterion = nn.CrossEntropyLoss()\n",
    "optimizer = optim.Adam(model.parameters(), lr=0.001)\n",
    "\n",
    "wandb.init(project='RNN Spam Detection', name='GRU CountVectorizer')\n",
    "\n",
    "train_and_eval(train_loader, test_loader, model, criterion, optimizer)"
   ]
  },
  {
   "cell_type": "markdown",
   "id": "5115f8cd",
   "metadata": {
    "papermill": {
     "duration": 0.015276,
     "end_time": "2024-05-08T18:02:32.379431",
     "exception": false,
     "start_time": "2024-05-08T18:02:32.364155",
     "status": "completed"
    },
    "tags": []
   },
   "source": [
    "### Ifidf Vectorizer"
   ]
  },
  {
   "cell_type": "code",
   "execution_count": 16,
   "id": "765a0c78",
   "metadata": {
    "execution": {
     "iopub.execute_input": "2024-05-08T18:02:32.411329Z",
     "iopub.status.busy": "2024-05-08T18:02:32.410729Z",
     "iopub.status.idle": "2024-05-08T18:04:25.976934Z",
     "shell.execute_reply": "2024-05-08T18:04:25.976101Z"
    },
    "papermill": {
     "duration": 113.584228,
     "end_time": "2024-05-08T18:04:25.979009",
     "exception": false,
     "start_time": "2024-05-08T18:02:32.394781",
     "status": "completed"
    },
    "tags": []
   },
   "outputs": [
    {
     "name": "stderr",
     "output_type": "stream",
     "text": [
      "\u001b[34m\u001b[1mwandb\u001b[0m: wandb version 0.17.0 is available!  To upgrade, please run:\n",
      "\u001b[34m\u001b[1mwandb\u001b[0m:  $ pip install wandb --upgrade\n",
      "\u001b[34m\u001b[1mwandb\u001b[0m: Tracking run with wandb version 0.16.6\n",
      "\u001b[34m\u001b[1mwandb\u001b[0m: Run data is saved locally in \u001b[35m\u001b[1m/kaggle/working/wandb/run-20240508_180242-zp3ymu3h\u001b[0m\n",
      "\u001b[34m\u001b[1mwandb\u001b[0m: Run \u001b[1m`wandb offline`\u001b[0m to turn off syncing.\n",
      "\u001b[34m\u001b[1mwandb\u001b[0m: Syncing run \u001b[33mGRU TfidfVectorizer\u001b[0m\n",
      "\u001b[34m\u001b[1mwandb\u001b[0m: ⭐️ View project at \u001b[34m\u001b[4mhttps://wandb.ai/mint21/RNN%20Spam%20Detection\u001b[0m\n",
      "\u001b[34m\u001b[1mwandb\u001b[0m: 🚀 View run at \u001b[34m\u001b[4mhttps://wandb.ai/mint21/RNN%20Spam%20Detection/runs/zp3ymu3h\u001b[0m\n"
     ]
    },
    {
     "name": "stdout",
     "output_type": "stream",
     "text": [
      "Epoch [1/15], Loss: 0.1753\n",
      "Epoch [2/15], Loss: 0.2660\n",
      "Epoch [3/15], Loss: 0.1445\n",
      "Epoch [4/15], Loss: 0.1970\n",
      "Epoch [5/15], Loss: 0.1450\n",
      "Epoch [6/15], Loss: 0.1286\n",
      "Epoch [7/15], Loss: 0.1579\n",
      "Epoch [8/15], Loss: 0.1147\n",
      "Epoch [9/15], Loss: 0.1729\n",
      "Epoch [10/15], Loss: 0.3026\n",
      "Epoch [11/15], Loss: 0.1796\n",
      "Epoch [12/15], Loss: 0.1558\n",
      "Epoch [13/15], Loss: 0.1285\n",
      "Epoch [14/15], Loss: 0.1289\n",
      "Epoch [15/15], Loss: 0.2464\n",
      "Accuracy: 0.9112\n",
      "AUC Score: 0.9630\n"
     ]
    },
    {
     "name": "stderr",
     "output_type": "stream",
     "text": [
      "\u001b[34m\u001b[1mwandb\u001b[0m:                                                                                \n",
      "\u001b[34m\u001b[1mwandb\u001b[0m: \n",
      "\u001b[34m\u001b[1mwandb\u001b[0m: Run history:\n",
      "\u001b[34m\u001b[1mwandb\u001b[0m:         epoch ▁▁▂▃▃▃▄▅▅▅▆▇▇▇█\n",
      "\u001b[34m\u001b[1mwandb\u001b[0m:          loss ▃▇▂▄▂▂▃▁▃█▃▃▂▂▆\n",
      "\u001b[34m\u001b[1mwandb\u001b[0m:  run_time_sec ▁\n",
      "\u001b[34m\u001b[1mwandb\u001b[0m: test_accuracy ▁\n",
      "\u001b[34m\u001b[1mwandb\u001b[0m:   test_pr_auc ▁\n",
      "\u001b[34m\u001b[1mwandb\u001b[0m: \n",
      "\u001b[34m\u001b[1mwandb\u001b[0m: Run summary:\n",
      "\u001b[34m\u001b[1mwandb\u001b[0m:         epoch 14\n",
      "\u001b[34m\u001b[1mwandb\u001b[0m:          loss 0.24637\n",
      "\u001b[34m\u001b[1mwandb\u001b[0m:  run_time_sec 83.52071\n",
      "\u001b[34m\u001b[1mwandb\u001b[0m: test_accuracy 0.91121\n",
      "\u001b[34m\u001b[1mwandb\u001b[0m:   test_pr_auc 0.96299\n",
      "\u001b[34m\u001b[1mwandb\u001b[0m: \n",
      "\u001b[34m\u001b[1mwandb\u001b[0m: 🚀 View run \u001b[33mGRU TfidfVectorizer\u001b[0m at: \u001b[34m\u001b[4mhttps://wandb.ai/mint21/RNN%20Spam%20Detection/runs/zp3ymu3h\u001b[0m\n",
      "\u001b[34m\u001b[1mwandb\u001b[0m: ⭐️ View project at: \u001b[34m\u001b[4mhttps://wandb.ai/mint21/RNN%20Spam%20Detection\u001b[0m\n",
      "\u001b[34m\u001b[1mwandb\u001b[0m: Synced 5 W&B file(s), 0 media file(s), 0 artifact file(s) and 0 other file(s)\n",
      "\u001b[34m\u001b[1mwandb\u001b[0m: Find logs at: \u001b[35m\u001b[1m./wandb/run-20240508_180242-zp3ymu3h/logs\u001b[0m\n"
     ]
    },
    {
     "data": {
      "text/plain": [
       "GRUClassifier(\n",
       "  (gru): GRU(2000, 128, batch_first=True)\n",
       "  (fc): Linear(in_features=128, out_features=2, bias=True)\n",
       ")"
      ]
     },
     "execution_count": 16,
     "metadata": {},
     "output_type": "execute_result"
    }
   ],
   "source": [
    "vectorizer = TfidfVectorizer(stop_words=\"english\", max_df=0.8, max_features=2000)\n",
    "X_train_vectorized = vectorizer.fit_transform(X_train).toarray()\n",
    "X_test_vectorized = vectorizer.transform(X_test).toarray()\n",
    "\n",
    "# Create PyTorch datasets\n",
    "train_dataset = SpamDataset(X_train_vectorized, y_train)\n",
    "test_dataset = SpamDataset(X_test_vectorized, y_test)\n",
    "\n",
    "# Create PyTorch data loaders\n",
    "train_loader = DataLoader(train_dataset, batch_size=64, shuffle=True)\n",
    "test_loader = DataLoader(test_dataset, batch_size=64, shuffle=False)\n",
    "\n",
    "# Initialize device, model, optimizer, and loss function\n",
    "model = GRUClassifier(input_size=2000, hidden_size=128, num_layers=1, num_classes=2).to(device)\n",
    "criterion = nn.CrossEntropyLoss()\n",
    "optimizer = optim.Adam(model.parameters(), lr=0.001)\n",
    "\n",
    "wandb.init(project='RNN Spam Detection', name='GRU TfidfVectorizer')\n",
    "\n",
    "train_and_eval(train_loader, test_loader, model, criterion, optimizer)"
   ]
  }
 ],
 "metadata": {
  "kaggle": {
   "accelerator": "nvidiaTeslaT4",
   "dataSources": [
    {
     "datasetId": 1135527,
     "sourceId": 1904905,
     "sourceType": "datasetVersion"
    }
   ],
   "dockerImageVersionId": 30699,
   "isGpuEnabled": true,
   "isInternetEnabled": true,
   "language": "python",
   "sourceType": "notebook"
  },
  "kernelspec": {
   "display_name": "Python 3",
   "language": "python",
   "name": "python3"
  },
  "language_info": {
   "codemirror_mode": {
    "name": "ipython",
    "version": 3
   },
   "file_extension": ".py",
   "mimetype": "text/x-python",
   "name": "python",
   "nbconvert_exporter": "python",
   "pygments_lexer": "ipython3",
   "version": "3.10.13"
  },
  "papermill": {
   "default_parameters": {},
   "duration": 560.421618,
   "end_time": "2024-05-08T18:04:28.816426",
   "environment_variables": {},
   "exception": null,
   "input_path": "__notebook__.ipynb",
   "output_path": "__notebook__.ipynb",
   "parameters": {},
   "start_time": "2024-05-08T17:55:08.394808",
   "version": "2.5.0"
  }
 },
 "nbformat": 4,
 "nbformat_minor": 5
}
